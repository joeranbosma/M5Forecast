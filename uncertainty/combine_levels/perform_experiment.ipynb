{
 "cells": [
  {
   "cell_type": "code",
   "execution_count": 1,
   "metadata": {
    "scrolled": false
   },
   "outputs": [
    {
     "name": "stdout",
     "output_type": "stream",
     "text": [
      "/Users/joeranbosma/stack/Projects/M5Forecast/uncertainty\n"
     ]
    }
   ],
   "source": [
    "cd .."
   ]
  },
  {
   "cell_type": "code",
   "execution_count": 2,
   "metadata": {},
   "outputs": [
    {
     "name": "stdout",
     "output_type": "stream",
     "text": [
      "/Users/joeranbosma/stack/Projects/M5Forecast\n"
     ]
    }
   ],
   "source": [
    "cd .."
   ]
  },
  {
   "cell_type": "code",
   "execution_count": 10,
   "metadata": {
    "_cell_guid": "b1076dfc-b9ad-4769-8c92-a6c4dae69d19",
    "_uuid": "8f2839f25d086af736a60e9eeb907d3b93b6e0e5",
    "scrolled": true
   },
   "outputs": [],
   "source": [
    "# This Python 3 environment comes with many helpful analytics libraries installed\n",
    "# It is defined by the kaggle/python docker image: https://github.com/kaggle/docker-python\n",
    "# For example, here's several helpful packages to load in \n",
    "\n",
    "import numpy as np # linear algebra\n",
    "import pandas as pd # data processing, CSV file I/O (e.g. pd.read_csv)\n",
    "import os, gc\n",
    "import matplotlib.pyplot as plt\n",
    "\n",
    "from sklearn.preprocessing import LabelEncoder\n",
    "from tensorflow.keras.layers import (Dense, Dropout, Flatten, Input, BatchNormalization, Lambda, \n",
    "                                     concatenate, Embedding, Reshape)\n",
    "from tensorflow.keras.models import Model\n",
    "from tensorflow.keras.optimizers import Adam\n",
    "from tensorflow.keras import backend as K\n",
    "from tensorflow.keras.utils import Sequence\n",
    "from tensorflow.keras.callbacks import Callback, LearningRateScheduler\n",
    "\n",
    "import wandb\n",
    "from wandb.keras import WandbCallback\n",
    "\n",
    "# own imports\n",
    "from evaluation import Referee, load_data, select_dates, select_day_nums\n",
    "from train import (BatchCreator, Logger, plot_confidence_series, plot_some_confidence_intervals, \n",
    "                   prepare_training, perform_training_scheme)\n",
    "from model_builder import (get_pinball_losses, get_simple_dense_model, get_simple_dist_model,\n",
    "                           get_variable_dist_model, get_direct_dist_model)\n",
    "from flow import (model_predict, denorm_preds, warp_preds_to_ref_form, plot_some, evaluate_model, \n",
    "                  save_object, load_object)\n",
    "from preprocess import (preprocess, get_features, pandas_cat_data, reset_categorical_features, \n",
    "                        read_and_preprocess_data)\n",
    "\n",
    "\n",
    "# Setup file paths\n",
    "data_dir = 'data/'\n",
    "os.environ['DATA_DIR'] = data_dir\n",
    "sub_dir = 'submissions_uncertainty/'\n",
    "plt.rcParams['font.size'] = 13\n",
    "\n",
    "# Hardcode requested quantiles\n",
    "quantiles = [0.005, 0.025, 0.165, 0.25, 0.5, 0.75, 0.835, 0.975, 0.995]"
   ]
  },
  {
   "cell_type": "code",
   "execution_count": null,
   "metadata": {},
   "outputs": [],
   "source": [
    "def run_experiment(nodes_settings, mode=\"dense\"):\n",
    "    \"\"\"\n",
    "    Run experiment on the performance of the final \"distribution layer\"\n",
    "    nodes_settings: number of nodes per layer to test\n",
    "                    should be in the format {level: [n1, n2, ...], ...}\n",
    "    mode: distribution layer to test, either \"dense\", \"dist2\", \"dist4\" or \"direct\"\n",
    "    \"\"\"\n",
    "    \n",
    "    # setup model builder function\n",
    "    if mode == \"dense\":\n",
    "        model_func = get_simple_dense_model\n",
    "    elif mode == \"dist2\":\n",
    "        model_func = get_simple_dist_model\n",
    "    elif mode == \"dist4\":\n",
    "        model_func = get_variable_dist_model\n",
    "    elif mode == \"direct\":\n",
    "        model_func = get_direct_dist_model\n",
    "    \n",
    "    # track metrics\n",
    "    logger_list = []\n",
    "    part1_metrics = []\n",
    "    part2_metrics = []\n",
    "    part3_metrics = []\n",
    "    \n",
    "    # loop over the levels\n",
    "    for level, node_options in nodes_settings.items():\n",
    "        \n",
    "        # loop over the number of nodes per layer\n",
    "        for num_nodes in node_options:\n",
    "            model_name = \"model_{}_{}\".format(mode, num_nodes)\n",
    "            \n",
    "            # build model\n",
    "            model = model_func(inp_shape=input_shapes[level], num_nodes=num_nodes, final_activation=\"exponential\")\n",
    "            model.summary()\n",
    "            \n",
    "            # train model\n",
    "            warmup_lr_list = [1e-3, 1e-3, 1e-3, # save part 1\n",
    "                              1e-3, 1e-3, 1e-3] # save part 2\n",
    "            finetune_lr_list = [1e-4, 1e-4, 1e-5, 1e-5]\n",
    "            model, logger, metrics1, metrics2, metrics3 = perform_training_scheme(\n",
    "                level, model, warmup_batch_size, finetune_batch_size, ref, calendar,\n",
    "                model_dir=model_dir, model_name=model_name, warmup_lr_list=warmup_lr_list, \n",
    "                finetune_lr_list=finetune_lr_list)\n",
    "            \n",
    "            # save metrics\n",
    "            logger_list.append(logger); part1_metrics.append(metrics1); \n",
    "            part2_metrics.append(metrics2); part3_metrics.append(metrics3)\n",
    "            for i, m in enumerate([part1_metrics, part2_metrics, part3_metrics]):\n",
    "                save_object(m, model_dir + mode + \"_part{}_metrics.pickle\".format(i+1))\n",
    "            \n",
    "            # save training metrics\n",
    "            save_object(logger.train_metrics, model_dir + model_name + \"_metrics_train.pickle\")\n",
    "            save_object(logger.val_metrics, model_dir + model_name + \"_metrics_val.pickle\")"
   ]
  },
  {
   "cell_type": "markdown",
   "metadata": {},
   "source": [
    "# Train MLP - multiple levels"
   ]
  },
  {
   "cell_type": "code",
   "execution_count": 4,
   "metadata": {
    "scrolled": true
   },
   "outputs": [
    {
     "name": "stdout",
     "output_type": "stream",
     "text": [
      "Initializing Referee\n",
      "Converting true sales to quantile form\n",
      "Calculating weights for each level...\n",
      "Calculating scale for each level...\n",
      "Finished setup.\n"
     ]
    }
   ],
   "source": [
    "# Load in the data set\n",
    "calendar, sales_train_validation, sell_prices = load_data()\n",
    "\n",
    "sales_true = select_dates(sales_train_validation, day_end=1913, num_days=28, include_metadata=True)\n",
    "sales_train = select_dates(sales_train_validation, day_start=1, num_days=1913-28, include_metadata=True)\n",
    "\n",
    "ref = Referee(sales_true, sales_train, sell_prices, calendar, verbose=True)"
   ]
  },
  {
   "cell_type": "code",
   "execution_count": 5,
   "metadata": {},
   "outputs": [],
   "source": [
    "model_dir = 'models/uncertainty/experiment/run1/'\n",
    "if not os.path.exists(model_dir):\n",
    "    os.makedirs(model_dir)"
   ]
  },
  {
   "cell_type": "markdown",
   "metadata": {},
   "source": [
    "## Define model architectures"
   ]
  },
  {
   "cell_type": "code",
   "execution_count": 6,
   "metadata": {},
   "outputs": [],
   "source": [
    "labels = ['demand']\n",
    "\n",
    "# Set input sizes for the model\n",
    "input_shapes = {\n",
    "    1: (178,),\n",
    "    2: (181,),\n",
    "    3: (191,),\n",
    "    4: (181,),\n",
    "    5: (188,),\n",
    "    6: (184,),\n",
    "    7: (191,),\n",
    "    8: (194,),\n",
    "    9: (201,),\n",
    "    10: (3237,),\n",
    "    11: (3240,),\n",
    "    12: (3248,),\n",
    "}\n",
    "\n",
    "# Set initial batch size\n",
    "warmup_batch_size = {level: 64 if level <= 9 else 1024 for level in range(1, 1+12)}\n",
    "\n",
    "# Set fine-tune batch size\n",
    "finetune_batch_size = {level: 256 if level <= 9 else 25000 for level in range(1, 1+12)}"
   ]
  },
  {
   "cell_type": "markdown",
   "metadata": {},
   "source": [
    "## Define experiment settings"
   ]
  },
  {
   "cell_type": "code",
   "execution_count": 24,
   "metadata": {},
   "outputs": [],
   "source": [
    "def get_nodes_settings(mode):\n",
    "    nodes_dense_small = [2, 4, 8, 16, 32, 64, 128]\n",
    "    nodes_dist2_small = [1, 2, 4, 6, 8, 16, 32]\n",
    "    nodes_dist4_small = [1, 2, 4, 6, 8, 16, 32]\n",
    "    nodes_direct_small = [1, 2, 4, 6, 8, 16, 32]\n",
    "\n",
    "    # setup node settings\n",
    "    if mode == \"dense\":\n",
    "        nodes_settings = {level: nodes_dense_small for level in range(1, 9+1)}\n",
    "    elif mode == \"dist2\":\n",
    "        nodes_settings = {level: nodes_dist2_small for level in range(1, 9+1)}\n",
    "    elif mode == \"dist4\":\n",
    "        nodes_settings = {level: nodes_dist4_small for level in range(1, 9+1)}\n",
    "    elif mode == \"direct\":\n",
    "        nodes_settings = {level: nodes_direct_small for level in range(1, 9+1)}\n",
    "\n",
    "    return nodes_settings"
   ]
  },
  {
   "cell_type": "code",
   "execution_count": 27,
   "metadata": {},
   "outputs": [
    {
     "name": "stdout",
     "output_type": "stream",
     "text": [
      "Starting mode direct..\n",
      "{1: [1, 2, 4, 6, 8, 16, 32], 2: [1, 2, 4, 6, 8, 16, 32], 3: [1, 2, 4, 6, 8, 16, 32], 4: [1, 2, 4, 6, 8, 16, 32], 5: [1, 2, 4, 6, 8, 16, 32], 6: [1, 2, 4, 6, 8, 16, 32], 7: [1, 2, 4, 6, 8, 16, 32], 8: [1, 2, 4, 6, 8, 16, 32], 9: [1, 2, 4, 6, 8, 16, 32]}\n",
      "Starting mode dist2..\n",
      "{1: [1, 2, 4, 6, 8, 16, 32], 2: [1, 2, 4, 6, 8, 16, 32], 3: [1, 2, 4, 6, 8, 16, 32], 4: [1, 2, 4, 6, 8, 16, 32], 5: [1, 2, 4, 6, 8, 16, 32], 6: [1, 2, 4, 6, 8, 16, 32], 7: [1, 2, 4, 6, 8, 16, 32], 8: [1, 2, 4, 6, 8, 16, 32], 9: [1, 2, 4, 6, 8, 16, 32]}\n",
      "Starting mode dist4..\n",
      "{1: [1, 2, 4, 6, 8, 16, 32], 2: [1, 2, 4, 6, 8, 16, 32], 3: [1, 2, 4, 6, 8, 16, 32], 4: [1, 2, 4, 6, 8, 16, 32], 5: [1, 2, 4, 6, 8, 16, 32], 6: [1, 2, 4, 6, 8, 16, 32], 7: [1, 2, 4, 6, 8, 16, 32], 8: [1, 2, 4, 6, 8, 16, 32], 9: [1, 2, 4, 6, 8, 16, 32]}\n",
      "Starting mode dense..\n",
      "{1: [2, 4, 8, 16, 32, 64, 128], 2: [2, 4, 8, 16, 32, 64, 128], 3: [2, 4, 8, 16, 32, 64, 128], 4: [2, 4, 8, 16, 32, 64, 128], 5: [2, 4, 8, 16, 32, 64, 128], 6: [2, 4, 8, 16, 32, 64, 128], 7: [2, 4, 8, 16, 32, 64, 128], 8: [2, 4, 8, 16, 32, 64, 128], 9: [2, 4, 8, 16, 32, 64, 128]}\n"
     ]
    }
   ],
   "source": [
    "for mode in [\"direct\", \"dist2\", \"dist4\", \"dense\"]:\n",
    "    print(\"Starting mode {}..\".format(mode))\n",
    "    \n",
    "    nodes_settings = get_nodes_settings(mode)\n",
    "    print(nodes_settings)\n",
    "    \n",
    "    run_experiment(nodes_settings, mode=mode)"
   ]
  },
  {
   "cell_type": "markdown",
   "metadata": {},
   "source": [
    "## Test reading"
   ]
  },
  {
   "cell_type": "raw",
   "metadata": {},
   "source": [
    "mode = \"direct\"\n",
    "part1_metrics, part2_metrics, part3_metrics = [load_object(model_dir + mode + \"_part{}_metrics.pickle\".format(i+1))\n",
    "                                               for i in range(3)]\n",
    "part1_metrics, part2_metrics, part3_metrics"
   ]
  },
  {
   "cell_type": "raw",
   "metadata": {},
   "source": [
    "val_metrics = load_object(model_dir + \"model_{}_4metrics_train.pickle\".format(mode))\n",
    "val_metrics.keys(), val_metrics['loss'][-10:]"
   ]
  },
  {
   "cell_type": "code",
   "execution_count": null,
   "metadata": {},
   "outputs": [],
   "source": []
  }
 ],
 "metadata": {
  "kernelspec": {
   "display_name": "Python 3",
   "language": "python",
   "name": "python3"
  },
  "language_info": {
   "codemirror_mode": {
    "name": "ipython",
    "version": 3
   },
   "file_extension": ".py",
   "mimetype": "text/x-python",
   "name": "python",
   "nbconvert_exporter": "python",
   "pygments_lexer": "ipython3",
   "version": "3.7.6"
  },
  "widgets": {
   "application/vnd.jupyter.widget-state+json": {
    "state": {
     "01324b84642f4e1fafc49cf89f9ff391": {
      "model_module": "@jupyter-widgets/base",
      "model_module_version": "1.2.0",
      "model_name": "LayoutModel",
      "state": {
       "_model_module": "@jupyter-widgets/base",
       "_model_module_version": "1.2.0",
       "_model_name": "LayoutModel",
       "_view_count": null,
       "_view_module": "@jupyter-widgets/base",
       "_view_module_version": "1.2.0",
       "_view_name": "LayoutView",
       "align_content": null,
       "align_items": null,
       "align_self": null,
       "border": null,
       "bottom": null,
       "display": null,
       "flex": null,
       "flex_flow": null,
       "grid_area": null,
       "grid_auto_columns": null,
       "grid_auto_flow": null,
       "grid_auto_rows": null,
       "grid_column": null,
       "grid_gap": null,
       "grid_row": null,
       "grid_template_areas": null,
       "grid_template_columns": null,
       "grid_template_rows": null,
       "height": null,
       "justify_content": null,
       "justify_items": null,
       "left": null,
       "margin": null,
       "max_height": null,
       "max_width": null,
       "min_height": null,
       "min_width": null,
       "object_fit": null,
       "object_position": null,
       "order": null,
       "overflow": null,
       "overflow_x": null,
       "overflow_y": null,
       "padding": null,
       "right": null,
       "top": null,
       "visibility": null,
       "width": null
      }
     },
     "2573316ddee1409d897edfcfbd87e8ba": {
      "model_module": "@jupyter-widgets/base",
      "model_module_version": "1.2.0",
      "model_name": "LayoutModel",
      "state": {
       "_model_module": "@jupyter-widgets/base",
       "_model_module_version": "1.2.0",
       "_model_name": "LayoutModel",
       "_view_count": null,
       "_view_module": "@jupyter-widgets/base",
       "_view_module_version": "1.2.0",
       "_view_name": "LayoutView",
       "align_content": null,
       "align_items": null,
       "align_self": null,
       "border": null,
       "bottom": null,
       "display": null,
       "flex": null,
       "flex_flow": null,
       "grid_area": null,
       "grid_auto_columns": null,
       "grid_auto_flow": null,
       "grid_auto_rows": null,
       "grid_column": null,
       "grid_gap": null,
       "grid_row": null,
       "grid_template_areas": null,
       "grid_template_columns": null,
       "grid_template_rows": null,
       "height": null,
       "justify_content": null,
       "justify_items": null,
       "left": null,
       "margin": null,
       "max_height": null,
       "max_width": null,
       "min_height": null,
       "min_width": null,
       "object_fit": null,
       "object_position": null,
       "order": null,
       "overflow": null,
       "overflow_x": null,
       "overflow_y": null,
       "padding": null,
       "right": null,
       "top": null,
       "visibility": null,
       "width": null
      }
     },
     "5712bde02e284e70bc5e9c1d7367502a": {
      "model_module": "@jupyter-widgets/controls",
      "model_module_version": "1.5.0",
      "model_name": "HTMLModel",
      "state": {
       "_dom_classes": [],
       "_model_module": "@jupyter-widgets/controls",
       "_model_module_version": "1.5.0",
       "_model_name": "HTMLModel",
       "_view_count": null,
       "_view_module": "@jupyter-widgets/controls",
       "_view_module_version": "1.5.0",
       "_view_name": "HTMLView",
       "description": "",
       "description_tooltip": null,
       "layout": "IPY_MODEL_01324b84642f4e1fafc49cf89f9ff391",
       "placeholder": "​",
       "style": "IPY_MODEL_860311c3b0564afa891a4c6e24da2d3a",
       "value": " 42840/42840 [00:49&lt;00:00, 860.84it/s]"
      }
     },
     "5f64a626e4d342ccaa955ea1c68afacd": {
      "model_module": "@jupyter-widgets/base",
      "model_module_version": "1.2.0",
      "model_name": "LayoutModel",
      "state": {
       "_model_module": "@jupyter-widgets/base",
       "_model_module_version": "1.2.0",
       "_model_name": "LayoutModel",
       "_view_count": null,
       "_view_module": "@jupyter-widgets/base",
       "_view_module_version": "1.2.0",
       "_view_name": "LayoutView",
       "align_content": null,
       "align_items": null,
       "align_self": null,
       "border": null,
       "bottom": null,
       "display": null,
       "flex": null,
       "flex_flow": null,
       "grid_area": null,
       "grid_auto_columns": null,
       "grid_auto_flow": null,
       "grid_auto_rows": null,
       "grid_column": null,
       "grid_gap": null,
       "grid_row": null,
       "grid_template_areas": null,
       "grid_template_columns": null,
       "grid_template_rows": null,
       "height": null,
       "justify_content": null,
       "justify_items": null,
       "left": null,
       "margin": null,
       "max_height": null,
       "max_width": null,
       "min_height": null,
       "min_width": null,
       "object_fit": null,
       "object_position": null,
       "order": null,
       "overflow": null,
       "overflow_x": null,
       "overflow_y": null,
       "padding": null,
       "right": null,
       "top": null,
       "visibility": null,
       "width": null
      }
     },
     "6314c6fca7a845618625e72ac301f6a7": {
      "model_module": "@jupyter-widgets/controls",
      "model_module_version": "1.5.0",
      "model_name": "FloatProgressModel",
      "state": {
       "_dom_classes": [],
       "_model_module": "@jupyter-widgets/controls",
       "_model_module_version": "1.5.0",
       "_model_name": "FloatProgressModel",
       "_view_count": null,
       "_view_module": "@jupyter-widgets/controls",
       "_view_module_version": "1.5.0",
       "_view_name": "ProgressView",
       "bar_style": "success",
       "description": "100%",
       "description_tooltip": null,
       "layout": "IPY_MODEL_2573316ddee1409d897edfcfbd87e8ba",
       "max": 42840,
       "min": 0,
       "orientation": "horizontal",
       "style": "IPY_MODEL_7370a0011b714f6dbba43bf3f3725de8",
       "value": 42840
      }
     },
     "7370a0011b714f6dbba43bf3f3725de8": {
      "model_module": "@jupyter-widgets/controls",
      "model_module_version": "1.5.0",
      "model_name": "ProgressStyleModel",
      "state": {
       "_model_module": "@jupyter-widgets/controls",
       "_model_module_version": "1.5.0",
       "_model_name": "ProgressStyleModel",
       "_view_count": null,
       "_view_module": "@jupyter-widgets/base",
       "_view_module_version": "1.2.0",
       "_view_name": "StyleView",
       "bar_color": null,
       "description_width": "initial"
      }
     },
     "860311c3b0564afa891a4c6e24da2d3a": {
      "model_module": "@jupyter-widgets/controls",
      "model_module_version": "1.5.0",
      "model_name": "DescriptionStyleModel",
      "state": {
       "_model_module": "@jupyter-widgets/controls",
       "_model_module_version": "1.5.0",
       "_model_name": "DescriptionStyleModel",
       "_view_count": null,
       "_view_module": "@jupyter-widgets/base",
       "_view_module_version": "1.2.0",
       "_view_name": "StyleView",
       "description_width": ""
      }
     },
     "8c18e2818bf648e08be0bc8e855fcb3f": {
      "model_module": "@jupyter-widgets/controls",
      "model_module_version": "1.5.0",
      "model_name": "HBoxModel",
      "state": {
       "_dom_classes": [],
       "_model_module": "@jupyter-widgets/controls",
       "_model_module_version": "1.5.0",
       "_model_name": "HBoxModel",
       "_view_count": null,
       "_view_module": "@jupyter-widgets/controls",
       "_view_module_version": "1.5.0",
       "_view_name": "HBoxView",
       "box_style": "",
       "children": [
        "IPY_MODEL_6314c6fca7a845618625e72ac301f6a7",
        "IPY_MODEL_5712bde02e284e70bc5e9c1d7367502a"
       ],
       "layout": "IPY_MODEL_5f64a626e4d342ccaa955ea1c68afacd"
      }
     }
    },
    "version_major": 2,
    "version_minor": 0
   }
  }
 },
 "nbformat": 4,
 "nbformat_minor": 4
}
