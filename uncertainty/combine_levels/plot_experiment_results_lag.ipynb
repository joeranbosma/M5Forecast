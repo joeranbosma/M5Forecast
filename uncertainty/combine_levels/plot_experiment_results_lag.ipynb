{
 "cells": [
  {
   "cell_type": "code",
   "execution_count": 1,
   "metadata": {
    "scrolled": false
   },
   "outputs": [
    {
     "name": "stdout",
     "output_type": "stream",
     "text": [
      "/Users/joeranbosma/stack/Projects/M5Forecast\n"
     ]
    }
   ],
   "source": [
    "cd ../.."
   ]
  },
  {
   "cell_type": "code",
   "execution_count": 2,
   "metadata": {
    "_cell_guid": "b1076dfc-b9ad-4769-8c92-a6c4dae69d19",
    "_uuid": "8f2839f25d086af736a60e9eeb907d3b93b6e0e5"
   },
   "outputs": [],
   "source": [
    "# This Python 3 environment comes with many helpful analytics libraries installed\n",
    "# It is defined by the kaggle/python docker image: https://github.com/kaggle/docker-python\n",
    "# For example, here's several helpful packages to load in \n",
    "\n",
    "import numpy as np # linear algebra\n",
    "import pandas as pd # data processing, CSV file I/O (e.g. pd.read_csv)\n",
    "import os, gc\n",
    "import matplotlib.pyplot as plt\n",
    "\n",
    "# own imports\n",
    "from evaluation import Referee, load_data, select_dates, select_day_nums\n",
    "from train import (BatchCreator, Logger, plot_confidence_series, plot_some_confidence_intervals, \n",
    "                   prepare_training, perform_training_scheme)\n",
    "from model_builder import (get_pinball_losses, get_simple_dense_model, get_simple_dist_model,\n",
    "                           get_variable_dist_model, get_direct_dist_model)\n",
    "from flow import (model_predict, denorm_preds, warp_preds_to_ref_form, plot_some, evaluate_model, \n",
    "                  save_object, load_object)\n",
    "from preprocess import (preprocess, get_features, pandas_cat_data, reset_categorical_features, \n",
    "                        read_and_preprocess_data)\n",
    "\n",
    "\n",
    "# Setup file paths\n",
    "data_dir = 'data/'\n",
    "os.environ['DATA_DIR'] = data_dir\n",
    "sub_dir = 'submissions_uncertainty/'\n",
    "model_dir = 'models/uncertainty/train_multiple_levels_lag/'\n",
    "plt.rcParams['font.size'] = 13\n",
    "\n",
    "# Hardcode requested quantiles\n",
    "quantiles = [0.005, 0.025, 0.165, 0.25, 0.5, 0.75, 0.835, 0.975, 0.995]"
   ]
  },
  {
   "cell_type": "markdown",
   "metadata": {},
   "source": [
    "# Lag performance"
   ]
  },
  {
   "cell_type": "code",
   "execution_count": 3,
   "metadata": {
    "scrolled": false
   },
   "outputs": [],
   "source": [
    "def transform_experiment_results_lag(model_dir):\n",
    "    ls = []\n",
    "    \n",
    "    for lag in [3, 28]:\n",
    "        fn_base = model_dir + f\"level_9/lag_{lag}/level9_{lag}_\"\n",
    "        m1, m2, m3 = [load_object(fn_base + f\"part{i}_metrics.pickle\") for i in range(1, 1+3)]\n",
    "        \n",
    "        labels = ['part1', 'part2', 'part3']\n",
    "        for metrics, label in zip([m1, m2, m3], labels):\n",
    "            lags = [1, 2, 3] if lag == 3 else [7, 14, 21, 28]\n",
    "            \n",
    "            for m, real_lag in zip(metrics, np.tile(lags, reps=9)):\n",
    "                score = m['WSPL']\n",
    "                level = list(m.keys())[0]\n",
    "                ls += [[level, real_lag, label, score]]\n",
    "    \n",
    "    df = pd.DataFrame(ls, columns=['level', 'lag', 'part', 'WSPL'])\n",
    "    return df\n",
    "\n",
    "def transform_experiment_results_lag_try2(model_dir):\n",
    "    ls = []\n",
    "    \n",
    "    for lag in [28]:\n",
    "        fn_base = model_dir + f\"level_9/lag_{lag}/level9_{lag}_\"\n",
    "        m1, m2, m3 = [load_object(fn_base + f\"part{i}_metrics.pickle\") for i in range(1, 1+3)]\n",
    "        \n",
    "        labels = ['part1', 'part2', 'part3']\n",
    "        for metrics, label in zip([m1, m2, m3], labels):\n",
    "            lags = [1, 2, 3, 7, 14, 21, 28]\n",
    "            \n",
    "            for m, real_lag in zip(metrics, np.tile(lags, reps=9)):\n",
    "                score = m['WSPL']\n",
    "                level = list(m.keys())[0]\n",
    "                ls += [[level, real_lag, label, score]]\n",
    "    \n",
    "    df = pd.DataFrame(ls, columns=['level', 'lag', 'part', 'WSPL'])\n",
    "    return df\n",
    "\n",
    "\n",
    "df = transform_experiment_results_lag(model_dir)\n",
    "df2 = transform_experiment_results_lag_try2(model_dir + \"try2/\")"
   ]
  },
  {
   "cell_type": "code",
   "execution_count": 4,
   "metadata": {},
   "outputs": [
    {
     "data": {
      "text/html": [
       "<div>\n",
       "<style scoped>\n",
       "    .dataframe tbody tr th:only-of-type {\n",
       "        vertical-align: middle;\n",
       "    }\n",
       "\n",
       "    .dataframe tbody tr th {\n",
       "        vertical-align: top;\n",
       "    }\n",
       "\n",
       "    .dataframe thead th {\n",
       "        text-align: right;\n",
       "    }\n",
       "</style>\n",
       "<table border=\"1\" class=\"dataframe\">\n",
       "  <thead>\n",
       "    <tr style=\"text-align: right;\">\n",
       "      <th></th>\n",
       "      <th>level</th>\n",
       "      <th>lag</th>\n",
       "      <th>part</th>\n",
       "      <th>WSPL</th>\n",
       "    </tr>\n",
       "  </thead>\n",
       "  <tbody>\n",
       "    <tr>\n",
       "      <th>0</th>\n",
       "      <td>1</td>\n",
       "      <td>1</td>\n",
       "      <td>part1</td>\n",
       "      <td>0.065123</td>\n",
       "    </tr>\n",
       "    <tr>\n",
       "      <th>1</th>\n",
       "      <td>1</td>\n",
       "      <td>2</td>\n",
       "      <td>part1</td>\n",
       "      <td>0.057985</td>\n",
       "    </tr>\n",
       "    <tr>\n",
       "      <th>2</th>\n",
       "      <td>1</td>\n",
       "      <td>3</td>\n",
       "      <td>part1</td>\n",
       "      <td>0.429619</td>\n",
       "    </tr>\n",
       "    <tr>\n",
       "      <th>3</th>\n",
       "      <td>2</td>\n",
       "      <td>1</td>\n",
       "      <td>part1</td>\n",
       "      <td>0.099662</td>\n",
       "    </tr>\n",
       "    <tr>\n",
       "      <th>4</th>\n",
       "      <td>2</td>\n",
       "      <td>2</td>\n",
       "      <td>part1</td>\n",
       "      <td>0.102464</td>\n",
       "    </tr>\n",
       "    <tr>\n",
       "      <th>...</th>\n",
       "      <td>...</td>\n",
       "      <td>...</td>\n",
       "      <td>...</td>\n",
       "      <td>...</td>\n",
       "    </tr>\n",
       "    <tr>\n",
       "      <th>184</th>\n",
       "      <td>8</td>\n",
       "      <td>28</td>\n",
       "      <td>part3</td>\n",
       "      <td>0.124557</td>\n",
       "    </tr>\n",
       "    <tr>\n",
       "      <th>185</th>\n",
       "      <td>9</td>\n",
       "      <td>7</td>\n",
       "      <td>part3</td>\n",
       "      <td>0.147300</td>\n",
       "    </tr>\n",
       "    <tr>\n",
       "      <th>186</th>\n",
       "      <td>9</td>\n",
       "      <td>14</td>\n",
       "      <td>part3</td>\n",
       "      <td>0.143321</td>\n",
       "    </tr>\n",
       "    <tr>\n",
       "      <th>187</th>\n",
       "      <td>9</td>\n",
       "      <td>21</td>\n",
       "      <td>part3</td>\n",
       "      <td>0.147927</td>\n",
       "    </tr>\n",
       "    <tr>\n",
       "      <th>188</th>\n",
       "      <td>9</td>\n",
       "      <td>28</td>\n",
       "      <td>part3</td>\n",
       "      <td>0.156749</td>\n",
       "    </tr>\n",
       "  </tbody>\n",
       "</table>\n",
       "<p>189 rows × 4 columns</p>\n",
       "</div>"
      ],
      "text/plain": [
       "     level  lag   part      WSPL\n",
       "0        1    1  part1  0.065123\n",
       "1        1    2  part1  0.057985\n",
       "2        1    3  part1  0.429619\n",
       "3        2    1  part1  0.099662\n",
       "4        2    2  part1  0.102464\n",
       "..     ...  ...    ...       ...\n",
       "184      8   28  part3  0.124557\n",
       "185      9    7  part3  0.147300\n",
       "186      9   14  part3  0.143321\n",
       "187      9   21  part3  0.147927\n",
       "188      9   28  part3  0.156749\n",
       "\n",
       "[189 rows x 4 columns]"
      ]
     },
     "execution_count": 4,
     "metadata": {},
     "output_type": "execute_result"
    }
   ],
   "source": [
    "# results_prev = pd.concat((df1, df2, df3))\n",
    "results = df\n",
    "results_duplo = df2\n",
    "results"
   ]
  },
  {
   "cell_type": "code",
   "execution_count": 5,
   "metadata": {},
   "outputs": [
    {
     "data": {
      "text/html": [
       "<div>\n",
       "<style scoped>\n",
       "    .dataframe tbody tr th:only-of-type {\n",
       "        vertical-align: middle;\n",
       "    }\n",
       "\n",
       "    .dataframe tbody tr th {\n",
       "        vertical-align: top;\n",
       "    }\n",
       "\n",
       "    .dataframe thead th {\n",
       "        text-align: right;\n",
       "    }\n",
       "</style>\n",
       "<table border=\"1\" class=\"dataframe\">\n",
       "  <thead>\n",
       "    <tr style=\"text-align: right;\">\n",
       "      <th></th>\n",
       "      <th>level</th>\n",
       "      <th>lag</th>\n",
       "      <th>part</th>\n",
       "      <th>WSPL</th>\n",
       "    </tr>\n",
       "  </thead>\n",
       "  <tbody>\n",
       "    <tr>\n",
       "      <th>0</th>\n",
       "      <td>1</td>\n",
       "      <td>1</td>\n",
       "      <td>part1</td>\n",
       "      <td>0.197478</td>\n",
       "    </tr>\n",
       "    <tr>\n",
       "      <th>1</th>\n",
       "      <td>1</td>\n",
       "      <td>2</td>\n",
       "      <td>part1</td>\n",
       "      <td>0.095521</td>\n",
       "    </tr>\n",
       "    <tr>\n",
       "      <th>2</th>\n",
       "      <td>1</td>\n",
       "      <td>3</td>\n",
       "      <td>part1</td>\n",
       "      <td>0.075939</td>\n",
       "    </tr>\n",
       "    <tr>\n",
       "      <th>3</th>\n",
       "      <td>1</td>\n",
       "      <td>7</td>\n",
       "      <td>part1</td>\n",
       "      <td>0.073670</td>\n",
       "    </tr>\n",
       "    <tr>\n",
       "      <th>4</th>\n",
       "      <td>1</td>\n",
       "      <td>14</td>\n",
       "      <td>part1</td>\n",
       "      <td>0.144621</td>\n",
       "    </tr>\n",
       "    <tr>\n",
       "      <th>5</th>\n",
       "      <td>1</td>\n",
       "      <td>21</td>\n",
       "      <td>part1</td>\n",
       "      <td>0.188305</td>\n",
       "    </tr>\n",
       "    <tr>\n",
       "      <th>6</th>\n",
       "      <td>1</td>\n",
       "      <td>28</td>\n",
       "      <td>part1</td>\n",
       "      <td>0.080501</td>\n",
       "    </tr>\n",
       "    <tr>\n",
       "      <th>7</th>\n",
       "      <td>2</td>\n",
       "      <td>1</td>\n",
       "      <td>part1</td>\n",
       "      <td>0.103229</td>\n",
       "    </tr>\n",
       "    <tr>\n",
       "      <th>8</th>\n",
       "      <td>2</td>\n",
       "      <td>2</td>\n",
       "      <td>part1</td>\n",
       "      <td>0.133331</td>\n",
       "    </tr>\n",
       "    <tr>\n",
       "      <th>9</th>\n",
       "      <td>2</td>\n",
       "      <td>3</td>\n",
       "      <td>part1</td>\n",
       "      <td>0.105728</td>\n",
       "    </tr>\n",
       "    <tr>\n",
       "      <th>10</th>\n",
       "      <td>2</td>\n",
       "      <td>7</td>\n",
       "      <td>part1</td>\n",
       "      <td>0.123897</td>\n",
       "    </tr>\n",
       "    <tr>\n",
       "      <th>11</th>\n",
       "      <td>2</td>\n",
       "      <td>14</td>\n",
       "      <td>part1</td>\n",
       "      <td>0.099906</td>\n",
       "    </tr>\n",
       "    <tr>\n",
       "      <th>12</th>\n",
       "      <td>2</td>\n",
       "      <td>21</td>\n",
       "      <td>part1</td>\n",
       "      <td>0.117732</td>\n",
       "    </tr>\n",
       "    <tr>\n",
       "      <th>13</th>\n",
       "      <td>2</td>\n",
       "      <td>28</td>\n",
       "      <td>part1</td>\n",
       "      <td>0.124417</td>\n",
       "    </tr>\n",
       "    <tr>\n",
       "      <th>14</th>\n",
       "      <td>3</td>\n",
       "      <td>1</td>\n",
       "      <td>part1</td>\n",
       "      <td>0.136947</td>\n",
       "    </tr>\n",
       "    <tr>\n",
       "      <th>15</th>\n",
       "      <td>3</td>\n",
       "      <td>2</td>\n",
       "      <td>part1</td>\n",
       "      <td>0.166956</td>\n",
       "    </tr>\n",
       "  </tbody>\n",
       "</table>\n",
       "</div>"
      ],
      "text/plain": [
       "    level  lag   part      WSPL\n",
       "0       1    1  part1  0.197478\n",
       "1       1    2  part1  0.095521\n",
       "2       1    3  part1  0.075939\n",
       "3       1    7  part1  0.073670\n",
       "4       1   14  part1  0.144621\n",
       "5       1   21  part1  0.188305\n",
       "6       1   28  part1  0.080501\n",
       "7       2    1  part1  0.103229\n",
       "8       2    2  part1  0.133331\n",
       "9       2    3  part1  0.105728\n",
       "10      2    7  part1  0.123897\n",
       "11      2   14  part1  0.099906\n",
       "12      2   21  part1  0.117732\n",
       "13      2   28  part1  0.124417\n",
       "14      3    1  part1  0.136947\n",
       "15      3    2  part1  0.166956"
      ]
     },
     "execution_count": 5,
     "metadata": {},
     "output_type": "execute_result"
    }
   ],
   "source": [
    "results_duplo.head(16)"
   ]
  },
  {
   "cell_type": "markdown",
   "metadata": {},
   "source": [
    "## Plot per level, per lag"
   ]
  },
  {
   "cell_type": "code",
   "execution_count": 7,
   "metadata": {
    "scrolled": false
   },
   "outputs": [
    {
     "name": "stdout",
     "output_type": "stream",
     "text": [
      "1\n"
     ]
    },
    {
     "ename": "NameError",
     "evalue": "name 'lag' is not defined",
     "output_type": "error",
     "traceback": [
      "\u001b[0;31m---------------------------------------------------------------------------\u001b[0m",
      "\u001b[0;31mNameError\u001b[0m                                 Traceback (most recent call last)",
      "\u001b[0;32m<ipython-input-7-14690c6b3c93>\u001b[0m in \u001b[0;36m<module>\u001b[0;34m\u001b[0m\n\u001b[1;32m     29\u001b[0m \u001b[0;34m\u001b[0m\u001b[0m\n\u001b[1;32m     30\u001b[0m     \u001b[0;31m# plot_experiment_level_layer(results_prev, layer, level, alpha=0.5, colors='k', ax=ax)\u001b[0m\u001b[0;34m\u001b[0m\u001b[0;34m\u001b[0m\u001b[0;34m\u001b[0m\u001b[0m\n\u001b[0;32m---> 31\u001b[0;31m     \u001b[0mplot_experiment_level\u001b[0m\u001b[0;34m(\u001b[0m\u001b[0mresults\u001b[0m\u001b[0;34m,\u001b[0m \u001b[0mlevel\u001b[0m\u001b[0;34m,\u001b[0m \u001b[0mlag\u001b[0m\u001b[0;34m,\u001b[0m \u001b[0malpha\u001b[0m\u001b[0;34m=\u001b[0m\u001b[0;36m1\u001b[0m\u001b[0;34m,\u001b[0m \u001b[0max\u001b[0m\u001b[0;34m=\u001b[0m\u001b[0max\u001b[0m\u001b[0;34m)\u001b[0m\u001b[0;34m\u001b[0m\u001b[0;34m\u001b[0m\u001b[0m\n\u001b[0m\u001b[1;32m     32\u001b[0m     \u001b[0mplot_experiment_level\u001b[0m\u001b[0;34m(\u001b[0m\u001b[0mresults_duplo\u001b[0m\u001b[0;34m,\u001b[0m \u001b[0mlevel\u001b[0m\u001b[0;34m,\u001b[0m \u001b[0mlag\u001b[0m\u001b[0;34m,\u001b[0m \u001b[0malpha\u001b[0m\u001b[0;34m=\u001b[0m\u001b[0;36m1\u001b[0m\u001b[0;34m,\u001b[0m \u001b[0max\u001b[0m\u001b[0;34m=\u001b[0m\u001b[0max\u001b[0m\u001b[0;34m)\u001b[0m\u001b[0;34m\u001b[0m\u001b[0;34m\u001b[0m\u001b[0m\n\u001b[1;32m     33\u001b[0m \u001b[0;34m\u001b[0m\u001b[0m\n",
      "\u001b[0;31mNameError\u001b[0m: name 'lag' is not defined"
     ]
    },
    {
     "data": {
      "image/png": "[encoded data removed]",
      "text/plain": [
       "<Figure size 432x432 with 1 Axes>"
      ]
     },
     "metadata": {
      "needs_background": "light"
     },
     "output_type": "display_data"
    }
   ],
   "source": [
    "def plot_experiment_level(results, level, lag, alpha=1, colors=None, parts=[1, 2, 3], ax=None):\n",
    "    if ax is None:\n",
    "        f, ax = plt.subplots(1, 1, figsize=(18, 6))\n",
    "    if colors is None:\n",
    "        colors = [None for i in range(3)]\n",
    "    if not isinstance(colors, list):\n",
    "        colors = [colors for i in range(3)]\n",
    "    \n",
    "    # select level\n",
    "    df = results[(results.level == level)]\n",
    "    labels = df.lag.unique()\n",
    "    for part in df.part.unique():\n",
    "        df_part = df[df.part == part]\n",
    "        ax.plot(range(len(labels)), df_part['WSPL'].values, '.-', alpha=alpha, label=part)\n",
    "    \n",
    "    #ax.set_ylim(0)\n",
    "    ax.set_xticks(range(len(labels)))\n",
    "    ax.set_xticklabels(labels)\n",
    "    ax.set_title(\"Level {}\".format(level))\n",
    "    ax.legend()\n",
    "    \n",
    "    return ax\n",
    "\n",
    "# plot performance for each layer, at each level\n",
    "for level in results.level.unique():\n",
    "    print(level)\n",
    "\n",
    "    f, ax = plt.subplots(1, 1, figsize=(6, 6))\n",
    "\n",
    "    # plot_experiment_level_layer(results_prev, layer, level, alpha=0.5, colors='k', ax=ax)\n",
    "    plot_experiment_level(results, level, lag, alpha=1, ax=ax)\n",
    "    plot_experiment_level(results_duplo, level, lag, alpha=1, ax=ax)\n",
    "\n",
    "    plt.show()"
   ]
  },
  {
   "cell_type": "markdown",
   "metadata": {},
   "source": [
    "## Report"
   ]
  },
  {
   "cell_type": "code",
   "execution_count": 8,
   "metadata": {},
   "outputs": [],
   "source": [
    "res = pd.merge(df, df2, left_on=['level', 'lag', 'part'], right_on=['level', 'lag', 'part'], suffixes=[\"run1\", \"run2\"])"
   ]
  },
  {
   "cell_type": "code",
   "execution_count": 9,
   "metadata": {},
   "outputs": [
    {
     "data": {
      "text/html": [
       "<div>\n",
       "<style scoped>\n",
       "    .dataframe tbody tr th:only-of-type {\n",
       "        vertical-align: middle;\n",
       "    }\n",
       "\n",
       "    .dataframe tbody tr th {\n",
       "        vertical-align: top;\n",
       "    }\n",
       "\n",
       "    .dataframe thead th {\n",
       "        text-align: right;\n",
       "    }\n",
       "</style>\n",
       "<table border=\"1\" class=\"dataframe\">\n",
       "  <thead>\n",
       "    <tr style=\"text-align: right;\">\n",
       "      <th></th>\n",
       "      <th>level</th>\n",
       "      <th>lag</th>\n",
       "      <th>WSPL</th>\n",
       "    </tr>\n",
       "  </thead>\n",
       "  <tbody>\n",
       "    <tr>\n",
       "      <th>0</th>\n",
       "      <td>1</td>\n",
       "      <td>1</td>\n",
       "      <td>0.080793</td>\n",
       "    </tr>\n",
       "    <tr>\n",
       "      <th>1</th>\n",
       "      <td>1</td>\n",
       "      <td>2</td>\n",
       "      <td>0.058875</td>\n",
       "    </tr>\n",
       "    <tr>\n",
       "      <th>2</th>\n",
       "      <td>1</td>\n",
       "      <td>3</td>\n",
       "      <td>0.079811</td>\n",
       "    </tr>\n",
       "    <tr>\n",
       "      <th>3</th>\n",
       "      <td>1</td>\n",
       "      <td>7</td>\n",
       "      <td>0.068744</td>\n",
       "    </tr>\n",
       "    <tr>\n",
       "      <th>4</th>\n",
       "      <td>1</td>\n",
       "      <td>14</td>\n",
       "      <td>0.080000</td>\n",
       "    </tr>\n",
       "    <tr>\n",
       "      <th>...</th>\n",
       "      <td>...</td>\n",
       "      <td>...</td>\n",
       "      <td>...</td>\n",
       "    </tr>\n",
       "    <tr>\n",
       "      <th>58</th>\n",
       "      <td>9</td>\n",
       "      <td>3</td>\n",
       "      <td>0.138442</td>\n",
       "    </tr>\n",
       "    <tr>\n",
       "      <th>59</th>\n",
       "      <td>9</td>\n",
       "      <td>7</td>\n",
       "      <td>0.147300</td>\n",
       "    </tr>\n",
       "    <tr>\n",
       "      <th>60</th>\n",
       "      <td>9</td>\n",
       "      <td>14</td>\n",
       "      <td>0.143321</td>\n",
       "    </tr>\n",
       "    <tr>\n",
       "      <th>61</th>\n",
       "      <td>9</td>\n",
       "      <td>21</td>\n",
       "      <td>0.147927</td>\n",
       "    </tr>\n",
       "    <tr>\n",
       "      <th>62</th>\n",
       "      <td>9</td>\n",
       "      <td>28</td>\n",
       "      <td>0.148518</td>\n",
       "    </tr>\n",
       "  </tbody>\n",
       "</table>\n",
       "<p>63 rows × 3 columns</p>\n",
       "</div>"
      ],
      "text/plain": [
       "    level  lag      WSPL\n",
       "0       1    1  0.080793\n",
       "1       1    2  0.058875\n",
       "2       1    3  0.079811\n",
       "3       1    7  0.068744\n",
       "4       1   14  0.080000\n",
       "..    ...  ...       ...\n",
       "58      9    3  0.138442\n",
       "59      9    7  0.147300\n",
       "60      9   14  0.143321\n",
       "61      9   21  0.147927\n",
       "62      9   28  0.148518\n",
       "\n",
       "[63 rows x 3 columns]"
      ]
     },
     "execution_count": 9,
     "metadata": {},
     "output_type": "execute_result"
    }
   ],
   "source": [
    "df = res[res.part == 'part3'].groupby(['level', 'lag']).min().min(axis=1)\n",
    "df = df.reset_index()\n",
    "df.columns = list(df.columns)[0:2] + ['WSPL']\n",
    "df"
   ]
  },
  {
   "cell_type": "code",
   "execution_count": 10,
   "metadata": {},
   "outputs": [
    {
     "data": {
      "text/plain": [
       "[1, 2, 3, 7, 14, 21, 28]"
      ]
     },
     "execution_count": 10,
     "metadata": {},
     "output_type": "execute_result"
    }
   ],
   "source": [
    "y = []\n",
    "labels = []\n",
    "\n",
    "for lag in res.lag.unique():\n",
    "    labels.append(lag)\n",
    "    y.append(df[df.lag == lag].groupby('level').WSPL.min().values)\n",
    "labels"
   ]
  },
  {
   "cell_type": "code",
   "execution_count": 11,
   "metadata": {},
   "outputs": [
    {
     "data": {
      "text/plain": [
       "array([[0.08079296, 0.07508037, 0.09606803, 0.09213143, 0.08947674,\n",
       "        0.09678845, 0.10250704, 0.11351237, 0.12075035],\n",
       "       [0.05887506, 0.0937416 , 0.1034497 , 0.07928223, 0.09588225,\n",
       "        0.11897901, 0.11543325, 0.1181632 , 0.1363043 ],\n",
       "       [0.07981114, 0.09697388, 0.10951454, 0.08816884, 0.1114724 ,\n",
       "        0.11199388, 0.12263505, 0.12103385, 0.13844243],\n",
       "       [0.06874355, 0.10203487, 0.10888402, 0.07883094, 0.10470029,\n",
       "        0.11460263, 0.1183946 , 0.13650686, 0.14729983],\n",
       "       [0.07999968, 0.08824725, 0.12166705, 0.07243736, 0.10507738,\n",
       "        0.11326543, 0.11853036, 0.12304061, 0.14332123],\n",
       "       [0.11800376, 0.09703071, 0.11915071, 0.07755187, 0.12279658,\n",
       "        0.1094489 , 0.12565754, 0.12725973, 0.1479269 ],\n",
       "       [0.07428965, 0.08986897, 0.11639952, 0.07490168, 0.09942279,\n",
       "        0.11322617, 0.12408479, 0.12455665, 0.14851825]])"
      ]
     },
     "execution_count": 11,
     "metadata": {},
     "output_type": "execute_result"
    }
   ],
   "source": [
    "q = np.array(y)\n",
    "q"
   ]
  },
  {
   "cell_type": "code",
   "execution_count": 28,
   "metadata": {},
   "outputs": [
    {
     "data": {
      "text/plain": [
       "[<matplotlib.lines.Line2D at 0x1a4a5de050>]"
      ]
     },
     "execution_count": 28,
     "metadata": {},
     "output_type": "execute_result"
    },
    {
     "data": {
      "image/png": "[encoded data removed]",
      "text/plain": [
       "<Figure size 432x288 with 1 Axes>"
      ]
     },
     "metadata": {
      "needs_background": "light"
     },
     "output_type": "display_data"
    }
   ],
   "source": [
    "def find_model_WSPL(model_path, level, prediction_lag):\n",
    "    # find model fn\n",
    "    model_path_base = model_path + \"mlp-run3\"\n",
    "    model_path_base += \"/lag{}/\".format(prediction_lag)\n",
    "    \n",
    "    # get list of files\n",
    "    fn_list = os.listdir(model_path_base)\n",
    "\n",
    "    model_fn_base = \"level{}_stepped_lr_part3_WSPL\".format(level)\n",
    "    fn_list_mask = [(model_fn_base in fn) for fn in fn_list]\n",
    "    \n",
    "    fnames = [fn for i, fn in enumerate(fn_list) if fn_list_mask[i]]\n",
    "    scores = [fn.replace(model_fn_base, \"\").replace('.h5', '') for fn in fnames]\n",
    "    scores = [float(s) for s in scores]\n",
    "    return scores\n",
    "\n",
    "model_path = \"models/uncertainty/final/\"\n",
    "level = 1\n",
    "\n",
    "z = []\n",
    "for prediction_lag in [28, 21, 14, 7, 3, 2, 1][::-1]:\n",
    "    scores = find_model_WSPL(model_path, level, prediction_lag)\n",
    "    z.append(min(scores))\n",
    "\n",
    "plt.plot(z, '.:')"
   ]
  },
  {
   "cell_type": "code",
   "execution_count": 29,
   "metadata": {},
   "outputs": [
    {
     "data": {
      "text/plain": [
       "array([[0.0619    , 0.07508037, 0.09606803, 0.09213143, 0.08947674,\n",
       "        0.09678845, 0.10250704, 0.11351237, 0.12075035],\n",
       "       [0.0652    , 0.0937416 , 0.1034497 , 0.07928223, 0.09588225,\n",
       "        0.11897901, 0.11543325, 0.1181632 , 0.1363043 ],\n",
       "       [0.0687    , 0.09697388, 0.10951454, 0.08816884, 0.1114724 ,\n",
       "        0.11199388, 0.12263505, 0.12103385, 0.13844243],\n",
       "       [0.0716    , 0.10203487, 0.10888402, 0.07883094, 0.10470029,\n",
       "        0.11460263, 0.1183946 , 0.13650686, 0.14729983],\n",
       "       [0.0558    , 0.08824725, 0.12166705, 0.07243736, 0.10507738,\n",
       "        0.11326543, 0.11853036, 0.12304061, 0.14332123],\n",
       "       [0.063     , 0.09703071, 0.11915071, 0.07755187, 0.12279658,\n",
       "        0.1094489 , 0.12565754, 0.12725973, 0.1479269 ],\n",
       "       [0.0785    , 0.08986897, 0.11639952, 0.07490168, 0.09942279,\n",
       "        0.11322617, 0.12408479, 0.12455665, 0.14851825]])"
      ]
     },
     "execution_count": 29,
     "metadata": {},
     "output_type": "execute_result"
    }
   ],
   "source": [
    "q[:,0] = z\n",
    "q"
   ]
  },
  {
   "cell_type": "code",
   "execution_count": 30,
   "metadata": {},
   "outputs": [
    {
     "data": {
      "text/plain": [
       "(7, 9)"
      ]
     },
     "execution_count": 30,
     "metadata": {},
     "output_type": "execute_result"
    }
   ],
   "source": [
    "q.shape"
   ]
  },
  {
   "cell_type": "code",
   "execution_count": 31,
   "metadata": {},
   "outputs": [
    {
     "data": {
      "text/plain": [
       "(7,)"
      ]
     },
     "execution_count": 31,
     "metadata": {},
     "output_type": "execute_result"
    }
   ],
   "source": [
    "m = np.mean(q, axis=1)\n",
    "m.shape"
   ]
  },
  {
   "cell_type": "code",
   "execution_count": 32,
   "metadata": {},
   "outputs": [
    {
     "data": {
      "text/plain": [
       "array([[0.0619    , 0.07508037, 0.09606803, 0.09213143, 0.08947674,\n",
       "        0.09678845, 0.10250704, 0.11351237, 0.12075035, 0.09424609],\n",
       "       [0.0652    , 0.0937416 , 0.1034497 , 0.07928223, 0.09588225,\n",
       "        0.11897901, 0.11543325, 0.1181632 , 0.1363043 , 0.10293728],\n",
       "       [0.0687    , 0.09697388, 0.10951454, 0.08816884, 0.1114724 ,\n",
       "        0.11199388, 0.12263505, 0.12103385, 0.13844243, 0.10765943],\n",
       "       [0.0716    , 0.10203487, 0.10888402, 0.07883094, 0.10470029,\n",
       "        0.11460263, 0.1183946 , 0.13650686, 0.14729983, 0.10920601],\n",
       "       [0.0558    , 0.08824725, 0.12166705, 0.07243736, 0.10507738,\n",
       "        0.11326543, 0.11853036, 0.12304061, 0.14332123, 0.10459852],\n",
       "       [0.063     , 0.09703071, 0.11915071, 0.07755187, 0.12279658,\n",
       "        0.1094489 , 0.12565754, 0.12725973, 0.1479269 , 0.10998033],\n",
       "       [0.0785    , 0.08986897, 0.11639952, 0.07490168, 0.09942279,\n",
       "        0.11322617, 0.12408479, 0.12455665, 0.14851825, 0.10771987]])"
      ]
     },
     "execution_count": 32,
     "metadata": {},
     "output_type": "execute_result"
    }
   ],
   "source": [
    "q2 = np.zeros((7, 10))\n",
    "q2[:, :9] = q\n",
    "q2[:, 9] = m\n",
    "q2"
   ]
  },
  {
   "cell_type": "code",
   "execution_count": 33,
   "metadata": {},
   "outputs": [
    {
     "data": {
      "image/png": "[encoded data removed]",
      "text/plain": [
       "<Figure size 1080x432 with 1 Axes>"
      ]
     },
     "metadata": {
      "needs_background": "light"
     },
     "output_type": "display_data"
    }
   ],
   "source": [
    "f, ax = plt.subplots(1, 1, figsize=(15, 6))\n",
    "\n",
    "x = np.arange(len(q2[0]))\n",
    "\n",
    "for i, label in enumerate(labels):\n",
    "    w = 0.11\n",
    "    ax.bar(x+w*i, height=q2[i], width=w, label=label)\n",
    "\n",
    "ax.legend()\n",
    "ax.set_xticks(x+0.3)\n",
    "ax.set_xticklabels(list(range(1, 1+9)) + ['Mean'])\n",
    "ax.set_xlabel(\"Level\")\n",
    "ax.set_ylabel(\"WSPL\")\n",
    "\n",
    "f.savefig(\"lag.pdf\")\n",
    "plt.show()"
   ]
  },
  {
   "cell_type": "code",
   "execution_count": 39,
   "metadata": {},
   "outputs": [
    {
     "data": {
      "text/plain": [
       "3.0161562984176853"
      ]
     },
     "execution_count": 39,
     "metadata": {},
     "output_type": "execute_result"
    }
   ],
   "source": [
    "old = 28*m[-1]\n",
    "old"
   ]
  },
  {
   "cell_type": "code",
   "execution_count": 40,
   "metadata": {},
   "outputs": [
    {
     "data": {
      "text/plain": [
       "2.9977578308610244"
      ]
     },
     "execution_count": 40,
     "metadata": {},
     "output_type": "execute_result"
    }
   ],
   "source": [
    "new = 7*m[-1] + 7*m[-2] + 7*m[-3] + 4*m[-4] + np.sum(m[0:3])\n",
    "new"
   ]
  },
  {
   "cell_type": "code",
   "execution_count": 41,
   "metadata": {},
   "outputs": [
    {
     "data": {
      "text/plain": [
       "0.006099971532083046"
      ]
     },
     "execution_count": 41,
     "metadata": {},
     "output_type": "execute_result"
    }
   ],
   "source": [
    "(old - new) / old"
   ]
  },
  {
   "cell_type": "code",
   "execution_count": 121,
   "metadata": {},
   "outputs": [
    {
     "data": {
      "text/plain": [
       "<matplotlib.axes._subplots.AxesSubplot at 0x1a4e67b1d0>"
      ]
     },
     "execution_count": 121,
     "metadata": {},
     "output_type": "execute_result"
    },
    {
     "data": {
      "image/png": "[encoded data removed]",
      "text/plain": [
       "<Figure size 432x288 with 1 Axes>"
      ]
     },
     "metadata": {
      "needs_background": "light"
     },
     "output_type": "display_data"
    }
   ],
   "source": [
    "df.groupby('lag').mean()['WSPL'].plot(kind='bar')"
   ]
  },
  {
   "cell_type": "markdown",
   "metadata": {},
   "source": [
    "## Create table of best run, per level, per lag\n",
    "For each level and each layer, select best WSPL"
   ]
  },
  {
   "cell_type": "code",
   "execution_count": 37,
   "metadata": {},
   "outputs": [
    {
     "data": {
      "text/plain": [
       "level  lag\n",
       "1      1      0.065123\n",
       "       2      0.057985\n",
       "       3      0.425947\n",
       "       7      0.084959\n",
       "       14     0.078034\n",
       "                ...   \n",
       "9      3      0.138442\n",
       "       7      0.147300\n",
       "       14     0.143321\n",
       "       21     0.147927\n",
       "       28     0.156749\n",
       "Name: WSPL, Length: 63, dtype: float64"
      ]
     },
     "execution_count": 37,
     "metadata": {},
     "output_type": "execute_result"
    }
   ],
   "source": [
    "# df_a = results_prev.groupby(['level', 'layer'])['WSPL'].min()\n",
    "df_b = results.groupby(['level', 'lag'])['WSPL'].min()\n",
    "# df = pd.concat((df_a, df_b), axis=1)\n",
    "# df.columns = [\"Baseline\", \"With LightGBM\"]\n",
    "df = df_b\n",
    "df"
   ]
  },
  {
   "cell_type": "code",
   "execution_count": 38,
   "metadata": {
    "scrolled": false
   },
   "outputs": [
    {
     "name": "stdout",
     "output_type": "stream",
     "text": [
      "1\n"
     ]
    },
    {
     "data": {
      "image/png": "[encoded data removed]",
      "text/plain": [
       "<Figure size 1296x432 with 1 Axes>"
      ]
     },
     "metadata": {
      "needs_background": "light"
     },
     "output_type": "display_data"
    },
    {
     "name": "stdout",
     "output_type": "stream",
     "text": [
      "2\n"
     ]
    },
    {
     "data": {
      "image/png": "[encoded data removed]",
      "text/plain": [
       "<Figure size 1296x432 with 1 Axes>"
      ]
     },
     "metadata": {
      "needs_background": "light"
     },
     "output_type": "display_data"
    },
    {
     "name": "stdout",
     "output_type": "stream",
     "text": [
      "3\n"
     ]
    },
    {
     "data": {
      "image/png": "[encoded data removed]",
      "text/plain": [
       "<Figure size 1296x432 with 1 Axes>"
      ]
     },
     "metadata": {
      "needs_background": "light"
     },
     "output_type": "display_data"
    },
    {
     "name": "stdout",
     "output_type": "stream",
     "text": [
      "4\n"
     ]
    },
    {
     "data": {
      "image/png": "[encoded data removed]",
      "text/plain": [
       "<Figure size 1296x432 with 1 Axes>"
      ]
     },
     "metadata": {
      "needs_background": "light"
     },
     "output_type": "display_data"
    },
    {
     "name": "stdout",
     "output_type": "stream",
     "text": [
      "5\n"
     ]
    },
    {
     "data": {
      "image/png": "[encoded data removed]",
      "text/plain": [
       "<Figure size 1296x432 with 1 Axes>"
      ]
     },
     "metadata": {
      "needs_background": "light"
     },
     "output_type": "display_data"
    },
    {
     "name": "stdout",
     "output_type": "stream",
     "text": [
      "6\n"
     ]
    },
    {
     "data": {
      "image/png": "[encoded data removed]",
      "text/plain": [
       "<Figure size 1296x432 with 1 Axes>"
      ]
     },
     "metadata": {
      "needs_background": "light"
     },
     "output_type": "display_data"
    },
    {
     "name": "stdout",
     "output_type": "stream",
     "text": [
      "7\n"
     ]
    },
    {
     "data": {
      "image/png": "[encoded data removed]",
      "text/plain": [
       "<Figure size 1296x432 with 1 Axes>"
      ]
     },
     "metadata": {
      "needs_background": "light"
     },
     "output_type": "display_data"
    },
    {
     "name": "stdout",
     "output_type": "stream",
     "text": [
      "8\n"
     ]
    },
    {
     "data": {
      "image/png": "[encoded data removed]",
      "text/plain": [
       "<Figure size 1296x432 with 1 Axes>"
      ]
     },
     "metadata": {
      "needs_background": "light"
     },
     "output_type": "display_data"
    },
    {
     "name": "stdout",
     "output_type": "stream",
     "text": [
      "9\n"
     ]
    },
    {
     "data": {
      "image/png": "[encoded data removed]",
      "text/plain": [
       "<Figure size 1296x432 with 1 Axes>"
      ]
     },
     "metadata": {
      "needs_background": "light"
     },
     "output_type": "display_data"
    }
   ],
   "source": [
    "for level in range(1, 9+1):\n",
    "    print(level)\n",
    "    f, ax = plt.subplots(figsize=(18, 6))\n",
    "    df.loc[level].plot(ax=ax)\n",
    "    plt.show()"
   ]
  },
  {
   "cell_type": "code",
   "execution_count": 39,
   "metadata": {},
   "outputs": [
    {
     "data": {
      "text/html": [
       "<div>\n",
       "<style scoped>\n",
       "    .dataframe tbody tr th:only-of-type {\n",
       "        vertical-align: middle;\n",
       "    }\n",
       "\n",
       "    .dataframe tbody tr th {\n",
       "        vertical-align: top;\n",
       "    }\n",
       "\n",
       "    .dataframe thead th {\n",
       "        text-align: right;\n",
       "    }\n",
       "</style>\n",
       "<table border=\"1\" class=\"dataframe\">\n",
       "  <thead>\n",
       "    <tr style=\"text-align: right;\">\n",
       "      <th>level</th>\n",
       "      <th>1</th>\n",
       "      <th>2</th>\n",
       "      <th>3</th>\n",
       "      <th>4</th>\n",
       "      <th>5</th>\n",
       "      <th>6</th>\n",
       "      <th>7</th>\n",
       "      <th>8</th>\n",
       "      <th>9</th>\n",
       "    </tr>\n",
       "    <tr>\n",
       "      <th>lag</th>\n",
       "      <th></th>\n",
       "      <th></th>\n",
       "      <th></th>\n",
       "      <th></th>\n",
       "      <th></th>\n",
       "      <th></th>\n",
       "      <th></th>\n",
       "      <th></th>\n",
       "      <th></th>\n",
       "    </tr>\n",
       "  </thead>\n",
       "  <tbody>\n",
       "    <tr>\n",
       "      <th>1</th>\n",
       "      <td>0.065123</td>\n",
       "      <td>0.071944</td>\n",
       "      <td>0.096068</td>\n",
       "      <td>0.092131</td>\n",
       "      <td>0.112195</td>\n",
       "      <td>0.096788</td>\n",
       "      <td>0.101519</td>\n",
       "      <td>0.113827</td>\n",
       "      <td>0.120750</td>\n",
       "    </tr>\n",
       "    <tr>\n",
       "      <th>2</th>\n",
       "      <td>0.057985</td>\n",
       "      <td>0.090980</td>\n",
       "      <td>0.103450</td>\n",
       "      <td>0.079083</td>\n",
       "      <td>0.095882</td>\n",
       "      <td>0.118979</td>\n",
       "      <td>0.115433</td>\n",
       "      <td>0.118163</td>\n",
       "      <td>0.136304</td>\n",
       "    </tr>\n",
       "    <tr>\n",
       "      <th>3</th>\n",
       "      <td>0.425947</td>\n",
       "      <td>0.097348</td>\n",
       "      <td>0.105454</td>\n",
       "      <td>0.088169</td>\n",
       "      <td>0.111472</td>\n",
       "      <td>0.111994</td>\n",
       "      <td>0.122635</td>\n",
       "      <td>0.121034</td>\n",
       "      <td>0.138442</td>\n",
       "    </tr>\n",
       "    <tr>\n",
       "      <th>7</th>\n",
       "      <td>0.084959</td>\n",
       "      <td>0.111141</td>\n",
       "      <td>0.107824</td>\n",
       "      <td>0.088114</td>\n",
       "      <td>0.104700</td>\n",
       "      <td>0.114603</td>\n",
       "      <td>0.118395</td>\n",
       "      <td>0.140863</td>\n",
       "      <td>0.147300</td>\n",
       "    </tr>\n",
       "    <tr>\n",
       "      <th>14</th>\n",
       "      <td>0.078034</td>\n",
       "      <td>0.088247</td>\n",
       "      <td>0.121667</td>\n",
       "      <td>0.072437</td>\n",
       "      <td>0.105077</td>\n",
       "      <td>0.113265</td>\n",
       "      <td>0.129760</td>\n",
       "      <td>0.123041</td>\n",
       "      <td>0.143321</td>\n",
       "    </tr>\n",
       "    <tr>\n",
       "      <th>21</th>\n",
       "      <td>0.118004</td>\n",
       "      <td>0.089410</td>\n",
       "      <td>0.118807</td>\n",
       "      <td>0.079615</td>\n",
       "      <td>0.121608</td>\n",
       "      <td>0.109449</td>\n",
       "      <td>0.137030</td>\n",
       "      <td>0.121420</td>\n",
       "      <td>0.147927</td>\n",
       "    </tr>\n",
       "    <tr>\n",
       "      <th>28</th>\n",
       "      <td>0.077746</td>\n",
       "      <td>0.089869</td>\n",
       "      <td>0.114849</td>\n",
       "      <td>0.102868</td>\n",
       "      <td>0.099423</td>\n",
       "      <td>0.113639</td>\n",
       "      <td>0.129953</td>\n",
       "      <td>0.124557</td>\n",
       "      <td>0.156749</td>\n",
       "    </tr>\n",
       "  </tbody>\n",
       "</table>\n",
       "</div>"
      ],
      "text/plain": [
       "level         1         2         3         4         5         6         7  \\\n",
       "lag                                                                           \n",
       "1      0.065123  0.071944  0.096068  0.092131  0.112195  0.096788  0.101519   \n",
       "2      0.057985  0.090980  0.103450  0.079083  0.095882  0.118979  0.115433   \n",
       "3      0.425947  0.097348  0.105454  0.088169  0.111472  0.111994  0.122635   \n",
       "7      0.084959  0.111141  0.107824  0.088114  0.104700  0.114603  0.118395   \n",
       "14     0.078034  0.088247  0.121667  0.072437  0.105077  0.113265  0.129760   \n",
       "21     0.118004  0.089410  0.118807  0.079615  0.121608  0.109449  0.137030   \n",
       "28     0.077746  0.089869  0.114849  0.102868  0.099423  0.113639  0.129953   \n",
       "\n",
       "level         8         9  \n",
       "lag                        \n",
       "1      0.113827  0.120750  \n",
       "2      0.118163  0.136304  \n",
       "3      0.121034  0.138442  \n",
       "7      0.140863  0.147300  \n",
       "14     0.123041  0.143321  \n",
       "21     0.121420  0.147927  \n",
       "28     0.124557  0.156749  "
      ]
     },
     "execution_count": 39,
     "metadata": {},
     "output_type": "execute_result"
    }
   ],
   "source": [
    "df_table = df.unstack().T\n",
    "df_table"
   ]
  },
  {
   "cell_type": "code",
   "execution_count": 40,
   "metadata": {},
   "outputs": [
    {
     "name": "stdout",
     "output_type": "stream",
     "text": [
      "\\begin{tabular}{lrrrrrrrrr}\n",
      "\\toprule\n",
      "level &         1 &         2 &         3 &         4 &         5 &         6 &         7 &         8 &         9 \\\\\n",
      "lag &           &           &           &           &           &           &           &           &           \\\\\n",
      "\\midrule\n",
      "1   &  0.065123 &  0.071944 &  0.096068 &  0.092131 &  0.112195 &  0.096788 &  0.101519 &  0.113827 &  0.120750 \\\\\n",
      "2   &  0.057985 &  0.090980 &  0.103450 &  0.079083 &  0.095882 &  0.118979 &  0.115433 &  0.118163 &  0.136304 \\\\\n",
      "3   &  0.425947 &  0.097348 &  0.105454 &  0.088169 &  0.111472 &  0.111994 &  0.122635 &  0.121034 &  0.138442 \\\\\n",
      "7   &  0.084959 &  0.111141 &  0.107824 &  0.088114 &  0.104700 &  0.114603 &  0.118395 &  0.140863 &  0.147300 \\\\\n",
      "14  &  0.078034 &  0.088247 &  0.121667 &  0.072437 &  0.105077 &  0.113265 &  0.129760 &  0.123041 &  0.143321 \\\\\n",
      "21  &  0.118004 &  0.089410 &  0.118807 &  0.079615 &  0.121608 &  0.109449 &  0.137030 &  0.121420 &  0.147927 \\\\\n",
      "28  &  0.077746 &  0.089869 &  0.114849 &  0.102868 &  0.099423 &  0.113639 &  0.129953 &  0.124557 &  0.156749 \\\\\n",
      "\\bottomrule\n",
      "\\end{tabular}\n",
      "\n"
     ]
    }
   ],
   "source": [
    "print(df_table.to_latex())"
   ]
  },
  {
   "cell_type": "code",
   "execution_count": null,
   "metadata": {},
   "outputs": [],
   "source": []
  }
 ],
 "metadata": {
  "kernelspec": {
   "display_name": "Python 3",
   "language": "python",
   "name": "python3"
  },
  "language_info": {
   "codemirror_mode": {
    "name": "ipython",
    "version": 3
   },
   "file_extension": ".py",
   "mimetype": "text/x-python",
   "name": "python",
   "nbconvert_exporter": "python",
   "pygments_lexer": "ipython3",
   "version": "3.7.6"
  },
  "widgets": {
   "application/vnd.jupyter.widget-state+json": {
    "state": {
     "01324b84642f4e1fafc49cf89f9ff391": {
      "model_module": "@jupyter-widgets/base",
      "model_module_version": "1.2.0",
      "model_name": "LayoutModel",
      "state": {
       "_model_module": "@jupyter-widgets/base",
       "_model_module_version": "1.2.0",
       "_model_name": "LayoutModel",
       "_view_count": null,
       "_view_module": "@jupyter-widgets/base",
       "_view_module_version": "1.2.0",
       "_view_name": "LayoutView",
       "align_content": null,
       "align_items": null,
       "align_self": null,
       "border": null,
       "bottom": null,
       "display": null,
       "flex": null,
       "flex_flow": null,
       "grid_area": null,
       "grid_auto_columns": null,
       "grid_auto_flow": null,
       "grid_auto_rows": null,
       "grid_column": null,
       "grid_gap": null,
       "grid_row": null,
       "grid_template_areas": null,
       "grid_template_columns": null,
       "grid_template_rows": null,
       "height": null,
       "justify_content": null,
       "justify_items": null,
       "left": null,
       "margin": null,
       "max_height": null,
       "max_width": null,
       "min_height": null,
       "min_width": null,
       "object_fit": null,
       "object_position": null,
       "order": null,
       "overflow": null,
       "overflow_x": null,
       "overflow_y": null,
       "padding": null,
       "right": null,
       "top": null,
       "visibility": null,
       "width": null
      }
     },
     "2573316ddee1409d897edfcfbd87e8ba": {
      "model_module": "@jupyter-widgets/base",
      "model_module_version": "1.2.0",
      "model_name": "LayoutModel",
      "state": {
       "_model_module": "@jupyter-widgets/base",
       "_model_module_version": "1.2.0",
       "_model_name": "LayoutModel",
       "_view_count": null,
       "_view_module": "@jupyter-widgets/base",
       "_view_module_version": "1.2.0",
       "_view_name": "LayoutView",
       "align_content": null,
       "align_items": null,
       "align_self": null,
       "border": null,
       "bottom": null,
       "display": null,
       "flex": null,
       "flex_flow": null,
       "grid_area": null,
       "grid_auto_columns": null,
       "grid_auto_flow": null,
       "grid_auto_rows": null,
       "grid_column": null,
       "grid_gap": null,
       "grid_row": null,
       "grid_template_areas": null,
       "grid_template_columns": null,
       "grid_template_rows": null,
       "height": null,
       "justify_content": null,
       "justify_items": null,
       "left": null,
       "margin": null,
       "max_height": null,
       "max_width": null,
       "min_height": null,
       "min_width": null,
       "object_fit": null,
       "object_position": null,
       "order": null,
       "overflow": null,
       "overflow_x": null,
       "overflow_y": null,
       "padding": null,
       "right": null,
       "top": null,
       "visibility": null,
       "width": null
      }
     },
     "5712bde02e284e70bc5e9c1d7367502a": {
      "model_module": "@jupyter-widgets/controls",
      "model_module_version": "1.5.0",
      "model_name": "HTMLModel",
      "state": {
       "_dom_classes": [],
       "_model_module": "@jupyter-widgets/controls",
       "_model_module_version": "1.5.0",
       "_model_name": "HTMLModel",
       "_view_count": null,
       "_view_module": "@jupyter-widgets/controls",
       "_view_module_version": "1.5.0",
       "_view_name": "HTMLView",
       "description": "",
       "description_tooltip": null,
       "layout": "IPY_MODEL_01324b84642f4e1fafc49cf89f9ff391",
       "placeholder": "​",
       "style": "IPY_MODEL_860311c3b0564afa891a4c6e24da2d3a",
       "value": " 42840/42840 [00:49&lt;00:00, 860.84it/s]"
      }
     },
     "5f64a626e4d342ccaa955ea1c68afacd": {
      "model_module": "@jupyter-widgets/base",
      "model_module_version": "1.2.0",
      "model_name": "LayoutModel",
      "state": {
       "_model_module": "@jupyter-widgets/base",
       "_model_module_version": "1.2.0",
       "_model_name": "LayoutModel",
       "_view_count": null,
       "_view_module": "@jupyter-widgets/base",
       "_view_module_version": "1.2.0",
       "_view_name": "LayoutView",
       "align_content": null,
       "align_items": null,
       "align_self": null,
       "border": null,
       "bottom": null,
       "display": null,
       "flex": null,
       "flex_flow": null,
       "grid_area": null,
       "grid_auto_columns": null,
       "grid_auto_flow": null,
       "grid_auto_rows": null,
       "grid_column": null,
       "grid_gap": null,
       "grid_row": null,
       "grid_template_areas": null,
       "grid_template_columns": null,
       "grid_template_rows": null,
       "height": null,
       "justify_content": null,
       "justify_items": null,
       "left": null,
       "margin": null,
       "max_height": null,
       "max_width": null,
       "min_height": null,
       "min_width": null,
       "object_fit": null,
       "object_position": null,
       "order": null,
       "overflow": null,
       "overflow_x": null,
       "overflow_y": null,
       "padding": null,
       "right": null,
       "top": null,
       "visibility": null,
       "width": null
      }
     },
     "6314c6fca7a845618625e72ac301f6a7": {
      "model_module": "@jupyter-widgets/controls",
      "model_module_version": "1.5.0",
      "model_name": "FloatProgressModel",
      "state": {
       "_dom_classes": [],
       "_model_module": "@jupyter-widgets/controls",
       "_model_module_version": "1.5.0",
       "_model_name": "FloatProgressModel",
       "_view_count": null,
       "_view_module": "@jupyter-widgets/controls",
       "_view_module_version": "1.5.0",
       "_view_name": "ProgressView",
       "bar_style": "success",
       "description": "100%",
       "description_tooltip": null,
       "layout": "IPY_MODEL_2573316ddee1409d897edfcfbd87e8ba",
       "max": 42840,
       "min": 0,
       "orientation": "horizontal",
       "style": "IPY_MODEL_7370a0011b714f6dbba43bf3f3725de8",
       "value": 42840
      }
     },
     "7370a0011b714f6dbba43bf3f3725de8": {
      "model_module": "@jupyter-widgets/controls",
      "model_module_version": "1.5.0",
      "model_name": "ProgressStyleModel",
      "state": {
       "_model_module": "@jupyter-widgets/controls",
       "_model_module_version": "1.5.0",
       "_model_name": "ProgressStyleModel",
       "_view_count": null,
       "_view_module": "@jupyter-widgets/base",
       "_view_module_version": "1.2.0",
       "_view_name": "StyleView",
       "bar_color": null,
       "description_width": "initial"
      }
     },
     "860311c3b0564afa891a4c6e24da2d3a": {
      "model_module": "@jupyter-widgets/controls",
      "model_module_version": "1.5.0",
      "model_name": "DescriptionStyleModel",
      "state": {
       "_model_module": "@jupyter-widgets/controls",
       "_model_module_version": "1.5.0",
       "_model_name": "DescriptionStyleModel",
       "_view_count": null,
       "_view_module": "@jupyter-widgets/base",
       "_view_module_version": "1.2.0",
       "_view_name": "StyleView",
       "description_width": ""
      }
     },
     "8c18e2818bf648e08be0bc8e855fcb3f": {
      "model_module": "@jupyter-widgets/controls",
      "model_module_version": "1.5.0",
      "model_name": "HBoxModel",
      "state": {
       "_dom_classes": [],
       "_model_module": "@jupyter-widgets/controls",
       "_model_module_version": "1.5.0",
       "_model_name": "HBoxModel",
       "_view_count": null,
       "_view_module": "@jupyter-widgets/controls",
       "_view_module_version": "1.5.0",
       "_view_name": "HBoxView",
       "box_style": "",
       "children": [
        "IPY_MODEL_6314c6fca7a845618625e72ac301f6a7",
        "IPY_MODEL_5712bde02e284e70bc5e9c1d7367502a"
       ],
       "layout": "IPY_MODEL_5f64a626e4d342ccaa955ea1c68afacd"
      }
     }
    },
    "version_major": 2,
    "version_minor": 0
   }
  }
 },
 "nbformat": 4,
 "nbformat_minor": 4
}
