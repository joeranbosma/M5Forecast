{
 "cells": [
  {
   "cell_type": "code",
   "execution_count": 1,
   "metadata": {
    "scrolled": false
   },
   "outputs": [
    {
     "name": "stdout",
     "output_type": "stream",
     "text": [
      "C:\\Users\\guest0\\joeran\\M5Forecast\\uncertainty\n"
     ]
    }
   ],
   "source": [
    "cd .."
   ]
  },
  {
   "cell_type": "code",
   "execution_count": 2,
   "metadata": {},
   "outputs": [
    {
     "name": "stdout",
     "output_type": "stream",
     "text": [
      "C:\\Users\\guest0\\joeran\\M5Forecast\n"
     ]
    }
   ],
   "source": [
    "cd .."
   ]
  },
  {
   "cell_type": "code",
   "execution_count": 3,
   "metadata": {
    "_cell_guid": "b1076dfc-b9ad-4769-8c92-a6c4dae69d19",
    "_uuid": "8f2839f25d086af736a60e9eeb907d3b93b6e0e5",
    "scrolled": true
   },
   "outputs": [
    {
     "name": "stderr",
     "output_type": "stream",
     "text": [
      "C:\\ProgramData\\Anaconda3\\lib\\site-packages\\tensorflow\\python\\framework\\dtypes.py:516: FutureWarning: Passing (type, 1) or '1type' as a synonym of type is deprecated; in a future version of numpy, it will be understood as (type, (1,)) / '(1,)type'.\n",
      "  _np_qint8 = np.dtype([(\"qint8\", np.int8, 1)])\n",
      "C:\\ProgramData\\Anaconda3\\lib\\site-packages\\tensorflow\\python\\framework\\dtypes.py:517: FutureWarning: Passing (type, 1) or '1type' as a synonym of type is deprecated; in a future version of numpy, it will be understood as (type, (1,)) / '(1,)type'.\n",
      "  _np_quint8 = np.dtype([(\"quint8\", np.uint8, 1)])\n",
      "C:\\ProgramData\\Anaconda3\\lib\\site-packages\\tensorflow\\python\\framework\\dtypes.py:518: FutureWarning: Passing (type, 1) or '1type' as a synonym of type is deprecated; in a future version of numpy, it will be understood as (type, (1,)) / '(1,)type'.\n",
      "  _np_qint16 = np.dtype([(\"qint16\", np.int16, 1)])\n",
      "C:\\ProgramData\\Anaconda3\\lib\\site-packages\\tensorflow\\python\\framework\\dtypes.py:519: FutureWarning: Passing (type, 1) or '1type' as a synonym of type is deprecated; in a future version of numpy, it will be understood as (type, (1,)) / '(1,)type'.\n",
      "  _np_quint16 = np.dtype([(\"quint16\", np.uint16, 1)])\n",
      "C:\\ProgramData\\Anaconda3\\lib\\site-packages\\tensorflow\\python\\framework\\dtypes.py:520: FutureWarning: Passing (type, 1) or '1type' as a synonym of type is deprecated; in a future version of numpy, it will be understood as (type, (1,)) / '(1,)type'.\n",
      "  _np_qint32 = np.dtype([(\"qint32\", np.int32, 1)])\n",
      "C:\\ProgramData\\Anaconda3\\lib\\site-packages\\tensorflow\\python\\framework\\dtypes.py:525: FutureWarning: Passing (type, 1) or '1type' as a synonym of type is deprecated; in a future version of numpy, it will be understood as (type, (1,)) / '(1,)type'.\n",
      "  np_resource = np.dtype([(\"resource\", np.ubyte, 1)])\n",
      "C:\\ProgramData\\Anaconda3\\lib\\site-packages\\tensorboard\\compat\\tensorflow_stub\\dtypes.py:541: FutureWarning: Passing (type, 1) or '1type' as a synonym of type is deprecated; in a future version of numpy, it will be understood as (type, (1,)) / '(1,)type'.\n",
      "  _np_qint8 = np.dtype([(\"qint8\", np.int8, 1)])\n",
      "C:\\ProgramData\\Anaconda3\\lib\\site-packages\\tensorboard\\compat\\tensorflow_stub\\dtypes.py:542: FutureWarning: Passing (type, 1) or '1type' as a synonym of type is deprecated; in a future version of numpy, it will be understood as (type, (1,)) / '(1,)type'.\n",
      "  _np_quint8 = np.dtype([(\"quint8\", np.uint8, 1)])\n",
      "C:\\ProgramData\\Anaconda3\\lib\\site-packages\\tensorboard\\compat\\tensorflow_stub\\dtypes.py:543: FutureWarning: Passing (type, 1) or '1type' as a synonym of type is deprecated; in a future version of numpy, it will be understood as (type, (1,)) / '(1,)type'.\n",
      "  _np_qint16 = np.dtype([(\"qint16\", np.int16, 1)])\n",
      "C:\\ProgramData\\Anaconda3\\lib\\site-packages\\tensorboard\\compat\\tensorflow_stub\\dtypes.py:544: FutureWarning: Passing (type, 1) or '1type' as a synonym of type is deprecated; in a future version of numpy, it will be understood as (type, (1,)) / '(1,)type'.\n",
      "  _np_quint16 = np.dtype([(\"quint16\", np.uint16, 1)])\n",
      "C:\\ProgramData\\Anaconda3\\lib\\site-packages\\tensorboard\\compat\\tensorflow_stub\\dtypes.py:545: FutureWarning: Passing (type, 1) or '1type' as a synonym of type is deprecated; in a future version of numpy, it will be understood as (type, (1,)) / '(1,)type'.\n",
      "  _np_qint32 = np.dtype([(\"qint32\", np.int32, 1)])\n",
      "C:\\ProgramData\\Anaconda3\\lib\\site-packages\\tensorboard\\compat\\tensorflow_stub\\dtypes.py:550: FutureWarning: Passing (type, 1) or '1type' as a synonym of type is deprecated; in a future version of numpy, it will be understood as (type, (1,)) / '(1,)type'.\n",
      "  np_resource = np.dtype([(\"resource\", np.ubyte, 1)])\n"
     ]
    }
   ],
   "source": [
    "# This Python 3 environment comes with many helpful analytics libraries installed\n",
    "# It is defined by the kaggle/python docker image: https://github.com/kaggle/docker-python\n",
    "# For example, here's several helpful packages to load in \n",
    "\n",
    "import numpy as np # linear algebra\n",
    "import pandas as pd # data processing, CSV file I/O (e.g. pd.read_csv)\n",
    "import os, gc\n",
    "import matplotlib.pyplot as plt\n",
    "\n",
    "from sklearn.preprocessing import LabelEncoder\n",
    "from tensorflow.keras.layers import (Dense, Dropout, Flatten, Input, BatchNormalization, Lambda, \n",
    "                                     concatenate, Embedding, Reshape)\n",
    "from tensorflow.keras.models import Model\n",
    "from tensorflow.keras.optimizers import Adam\n",
    "from tensorflow.keras import backend as K\n",
    "from tensorflow.keras.utils import Sequence\n",
    "from tensorflow.keras.callbacks import Callback, LearningRateScheduler\n",
    "\n",
    "# import wandb\n",
    "# from wandb.keras import WandbCallback\n",
    "\n",
    "# own imports\n",
    "from evaluation import Referee, load_data, select_dates, select_day_nums\n",
    "from train import (BatchCreator, Logger, plot_confidence_series, plot_some_confidence_intervals, \n",
    "                   prepare_training, perform_training_scheme)\n",
    "from model_builder import (get_pinball_losses, get_simple_dense_model, get_simple_dist_model,\n",
    "                           get_variable_dist_model, get_direct_dist_model)\n",
    "from flow import (model_predict, denorm_preds, warp_preds_to_ref_form, plot_some, evaluate_model, \n",
    "                  save_object, load_object)\n",
    "from preprocess import (preprocess, get_features, pandas_cat_data, reset_categorical_features, \n",
    "                        read_and_preprocess_data)\n",
    "\n",
    "\n",
    "# Setup file paths\n",
    "data_dir = 'data/'\n",
    "os.environ['DATA_DIR'] = data_dir\n",
    "sub_dir = 'submissions_uncertainty/'\n",
    "plt.rcParams['font.size'] = 13\n",
    "\n",
    "# Hardcode requested quantiles\n",
    "quantiles = [0.005, 0.025, 0.165, 0.25, 0.5, 0.75, 0.835, 0.975, 0.995]"
   ]
  },
  {
   "cell_type": "code",
   "execution_count": 4,
   "metadata": {},
   "outputs": [],
   "source": [
    "def run_experiment(nodes_settings, mode=\"dense\"):\n",
    "    \"\"\"\n",
    "    Run experiment on the performance of the final \"distribution layer\"\n",
    "    nodes_settings: number of nodes per layer to test\n",
    "                    should be in the format {level: [n1, n2, ...], ...}\n",
    "    mode: distribution layer to test, either \"dense\", \"dist2\", \"dist4\" or \"direct\"\n",
    "    \"\"\"\n",
    "    \n",
    "    # setup model builder function\n",
    "    if mode == \"dense\":\n",
    "        model_func = get_simple_dense_model\n",
    "    elif mode == \"dist2\":\n",
    "        model_func = get_simple_dist_model\n",
    "    elif mode == \"dist4\":\n",
    "        model_func = get_variable_dist_model\n",
    "    elif mode == \"direct\":\n",
    "        model_func = get_direct_dist_model\n",
    "    \n",
    "    # track metrics\n",
    "    logger_list = []\n",
    "    part1_metrics = []\n",
    "    part2_metrics = []\n",
    "    part3_metrics = []\n",
    "    \n",
    "    # loop over the levels\n",
    "    for level, node_options in nodes_settings.items():\n",
    "        \n",
    "        # loop over the number of nodes per layer\n",
    "        for num_nodes in node_options:\n",
    "            model_name = \"model_{}_{}\".format(mode, num_nodes)\n",
    "            \n",
    "            # build model\n",
    "            model = model_func(inp_shape=input_shapes[level], num_nodes=num_nodes, final_activation=\"exponential\")\n",
    "            model.summary()\n",
    "            \n",
    "            # train model\n",
    "            warmup_lr_list = [1e-3, 1e-3, 1e-3, # save part 1\n",
    "                              1e-3, 1e-3, 1e-3] # save part 2\n",
    "            finetune_lr_list = [1e-4, 1e-4, 1e-5, 1e-5]\n",
    "            model, logger, metrics1, metrics2, metrics3 = perform_training_scheme(\n",
    "                level, model, warmup_batch_size, finetune_batch_size, ref, calendar,\n",
    "                model_dir=model_dir, model_name=model_name, warmup_lr_list=warmup_lr_list, \n",
    "                finetune_lr_list=finetune_lr_list)\n",
    "            \n",
    "            # save metrics\n",
    "            logger_list.append(logger); part1_metrics.append(metrics1); \n",
    "            part2_metrics.append(metrics2); part3_metrics.append(metrics3)\n",
    "            for i, m in enumerate([part1_metrics, part2_metrics, part3_metrics]):\n",
    "                save_object(m, model_dir + mode + \"_part{}_metrics.pickle\".format(i+1))\n",
    "            \n",
    "            # save training metrics\n",
    "            save_object(logger.train_metrics, model_dir + model_name + \"_metrics_train.pickle\")\n",
    "            save_object(logger.val_metrics, model_dir + model_name + \"_metrics_val.pickle\")"
   ]
  },
  {
   "cell_type": "markdown",
   "metadata": {},
   "source": [
    "# Train MLP - multiple levels"
   ]
  },
  {
   "cell_type": "code",
   "execution_count": 5,
   "metadata": {
    "scrolled": true
   },
   "outputs": [
    {
     "name": "stdout",
     "output_type": "stream",
     "text": [
      "Initializing Referee\n",
      "Converting true sales to quantile form\n",
      "Calculating weights for each level...\n",
      "Calculating scale for each level...\n",
      "Finished setup.\n"
     ]
    }
   ],
   "source": [
    "# Load in the data set\n",
    "calendar, sales_train_validation, sell_prices = load_data()\n",
    "\n",
    "sales_true = select_dates(sales_train_validation, day_end=1913, num_days=28, include_metadata=True)\n",
    "sales_train = select_dates(sales_train_validation, day_start=1, num_days=1913-28, include_metadata=True)\n",
    "\n",
    "ref = Referee(sales_true, sales_train, sell_prices, calendar, verbose=True)"
   ]
  },
  {
   "cell_type": "code",
   "execution_count": 6,
   "metadata": {},
   "outputs": [],
   "source": [
    "model_dir = 'models/uncertainty/experiment/run4/'\n",
    "if not os.path.exists(model_dir):\n",
    "    os.makedirs(model_dir)"
   ]
  },
  {
   "cell_type": "markdown",
   "metadata": {},
   "source": [
    "## Define model architectures"
   ]
  },
  {
   "cell_type": "code",
   "execution_count": 7,
   "metadata": {},
   "outputs": [],
   "source": [
    "labels = ['demand']\n",
    "\n",
    "# Set input sizes for the model\n",
    "input_shapes = {\n",
    "    1: (178,),\n",
    "    2: (181,),\n",
    "    3: (191,),\n",
    "    4: (181,),\n",
    "    5: (188,),\n",
    "    6: (184,),\n",
    "    7: (191,),\n",
    "    8: (194,),\n",
    "    9: (201,),\n",
    "    10: (3237,),\n",
    "    11: (3240,),\n",
    "    12: (3248,),\n",
    "}\n",
    "\n",
    "# Set initial batch size\n",
    "warmup_batch_size = {level: 64 if level <= 9 else 1024 for level in range(1, 1+12)}\n",
    "\n",
    "# Set fine-tune batch size\n",
    "finetune_batch_size = {level: 256 if level <= 9 else 25000 for level in range(1, 1+12)}"
   ]
  },
  {
   "cell_type": "markdown",
   "metadata": {},
   "source": [
    "## Define experiment settings"
   ]
  },
  {
   "cell_type": "code",
   "execution_count": 8,
   "metadata": {},
   "outputs": [],
   "source": [
    "def get_nodes_settings(mode):\n",
    "    nodes_dense_small = [256, 512, 1024]#2, 4, 8, 16, 32, 64, 128]\n",
    "    nodes_dist2_small = [64, 128, 256]#1, 2, 4, 6, 8, 16, 32]\n",
    "    nodes_dist4_small = [64, 128, 256]#1, 2, 4, 6, 8, 16, 32]\n",
    "    nodes_direct_small = [64, 128, 256]#1, 2, 4, 6, 8, 16, 32]\n",
    "    \n",
    "    # setup node settings\n",
    "    if mode == \"dense\":\n",
    "        nodes_settings = {level: nodes_dense_small for level in range(10, 12+1)}\n",
    "    elif mode == \"dist2\":\n",
    "        nodes_settings = {level: nodes_dist2_small for level in range(10, 12+1)}\n",
    "    elif mode == \"dist4\":\n",
    "        nodes_settings = {level: nodes_dist4_small for level in range(10, 12+1)}\n",
    "    elif mode == \"direct\":\n",
    "        nodes_settings = {level: nodes_direct_small for level in range(10, 12+1)}\n",
    "\n",
    "    return nodes_settings"
   ]
  },
  {
   "cell_type": "code",
   "execution_count": null,
   "metadata": {
    "scrolled": false
   },
   "outputs": [
    {
     "data": {
      "image/png": "[encoded data removed]",
      "text/plain": [
       "<Figure size 1296x432 with 2 Axes>"
      ]
     },
     "metadata": {
      "needs_background": "light"
     },
     "output_type": "display_data"
    },
    {
     "name": "stdout",
     "output_type": "stream",
     "text": [
      "100/100 [==============================] - 13s 132ms/step - loss: 0.0042 - q0_loss: 2.4070e-05 - q1_loss: 1.1526e-04 - q2_loss: 5.4023e-04 - q3_loss: 7.0119e-04 - q4_loss: 9.4814e-04 - q5_loss: 8.3899e-04 - q6_loss: 6.9854e-04 - q7_loss: 2.2577e-04 - q8_loss: 8.0255e-05 - val_loss: 0.0048 - val_q0_loss: 3.5314e-05 - val_q1_loss: 1.7187e-04 - val_q2_loss: 6.4827e-04 - val_q3_loss: 8.3737e-04 - val_q4_loss: 0.0011 - val_q5_loss: 9.2816e-04 - val_q6_loss: 7.5626e-04 - val_q7_loss: 2.2327e-04 - val_q8_loss: 6.6840e-05\n",
      "\n",
      "Epoch 00004: LearningRateScheduler reducing learning rate to 0.001.\n",
      "Epoch 4/10\n",
      " 99/100 [============================>.] - ETA: 0s - loss: 0.0041 - q0_loss: 2.4011e-05 - q1_loss: 1.1498e-04 - q2_loss: 5.3645e-04 - q3_loss: 6.9601e-04 - q4_loss: 9.3737e-04 - q5_loss: 8.2503e-04 - q6_loss: 6.8859e-04 - q7_loss: 2.3061e-04 - q8_loss: 9.1186e-05"
     ]
    }
   ],
   "source": [
    "for mode in [\"direct\", \"dist2\", \"dist4\", \"dense\"]:\n",
    "    print(\"Starting mode {}..\".format(mode))\n",
    "    \n",
    "    nodes_settings = get_nodes_settings(mode)\n",
    "    print(nodes_settings)\n",
    "    \n",
    "    run_experiment(nodes_settings, mode=mode)"
   ]
  },
  {
   "cell_type": "markdown",
   "metadata": {},
   "source": [
    "## Test reading"
   ]
  },
  {
   "cell_type": "raw",
   "metadata": {},
   "source": [
    "mode = \"direct\"\n",
    "part1_metrics, part2_metrics, part3_metrics = [load_object(model_dir + mode + \"_part{}_metrics.pickle\".format(i+1))\n",
    "                                               for i in range(3)]\n",
    "part1_metrics, part2_metrics, part3_metrics"
   ]
  },
  {
   "cell_type": "raw",
   "metadata": {},
   "source": [
    "val_metrics = load_object(model_dir + \"model_{}_4metrics_train.pickle\".format(mode))\n",
    "val_metrics.keys(), val_metrics['loss'][-10:]"
   ]
  },
  {
   "cell_type": "code",
   "execution_count": null,
   "metadata": {},
   "outputs": [],
   "source": []
  }
 ],
 "metadata": {
  "kernelspec": {
   "display_name": "Python 3",
   "language": "python",
   "name": "python3"
  },
  "language_info": {
   "codemirror_mode": {
    "name": "ipython",
    "version": 3
   },
   "file_extension": ".py",
   "mimetype": "text/x-python",
   "name": "python",
   "nbconvert_exporter": "python",
   "pygments_lexer": "ipython3",
   "version": "3.7.6"
  },
  "widgets": {
   "application/vnd.jupyter.widget-state+json": {
    "state": {
     "01324b84642f4e1fafc49cf89f9ff391": {
      "model_module": "@jupyter-widgets/base",
      "model_module_version": "1.2.0",
      "model_name": "LayoutModel",
      "state": {
       "_model_module": "@jupyter-widgets/base",
       "_model_module_version": "1.2.0",
       "_model_name": "LayoutModel",
       "_view_count": null,
       "_view_module": "@jupyter-widgets/base",
       "_view_module_version": "1.2.0",
       "_view_name": "LayoutView",
       "align_content": null,
       "align_items": null,
       "align_self": null,
       "border": null,
       "bottom": null,
       "display": null,
       "flex": null,
       "flex_flow": null,
       "grid_area": null,
       "grid_auto_columns": null,
       "grid_auto_flow": null,
       "grid_auto_rows": null,
       "grid_column": null,
       "grid_gap": null,
       "grid_row": null,
       "grid_template_areas": null,
       "grid_template_columns": null,
       "grid_template_rows": null,
       "height": null,
       "justify_content": null,
       "justify_items": null,
       "left": null,
       "margin": null,
       "max_height": null,
       "max_width": null,
       "min_height": null,
       "min_width": null,
       "object_fit": null,
       "object_position": null,
       "order": null,
       "overflow": null,
       "overflow_x": null,
       "overflow_y": null,
       "padding": null,
       "right": null,
       "top": null,
       "visibility": null,
       "width": null
      }
     },
     "2573316ddee1409d897edfcfbd87e8ba": {
      "model_module": "@jupyter-widgets/base",
      "model_module_version": "1.2.0",
      "model_name": "LayoutModel",
      "state": {
       "_model_module": "@jupyter-widgets/base",
       "_model_module_version": "1.2.0",
       "_model_name": "LayoutModel",
       "_view_count": null,
       "_view_module": "@jupyter-widgets/base",
       "_view_module_version": "1.2.0",
       "_view_name": "LayoutView",
       "align_content": null,
       "align_items": null,
       "align_self": null,
       "border": null,
       "bottom": null,
       "display": null,
       "flex": null,
       "flex_flow": null,
       "grid_area": null,
       "grid_auto_columns": null,
       "grid_auto_flow": null,
       "grid_auto_rows": null,
       "grid_column": null,
       "grid_gap": null,
       "grid_row": null,
       "grid_template_areas": null,
       "grid_template_columns": null,
       "grid_template_rows": null,
       "height": null,
       "justify_content": null,
       "justify_items": null,
       "left": null,
       "margin": null,
       "max_height": null,
       "max_width": null,
       "min_height": null,
       "min_width": null,
       "object_fit": null,
       "object_position": null,
       "order": null,
       "overflow": null,
       "overflow_x": null,
       "overflow_y": null,
       "padding": null,
       "right": null,
       "top": null,
       "visibility": null,
       "width": null
      }
     },
     "5712bde02e284e70bc5e9c1d7367502a": {
      "model_module": "@jupyter-widgets/controls",
      "model_module_version": "1.5.0",
      "model_name": "HTMLModel",
      "state": {
       "_dom_classes": [],
       "_model_module": "@jupyter-widgets/controls",
       "_model_module_version": "1.5.0",
       "_model_name": "HTMLModel",
       "_view_count": null,
       "_view_module": "@jupyter-widgets/controls",
       "_view_module_version": "1.5.0",
       "_view_name": "HTMLView",
       "description": "",
       "description_tooltip": null,
       "layout": "IPY_MODEL_01324b84642f4e1fafc49cf89f9ff391",
       "placeholder": "​",
       "style": "IPY_MODEL_860311c3b0564afa891a4c6e24da2d3a",
       "value": " 42840/42840 [00:49&lt;00:00, 860.84it/s]"
      }
     },
     "5f64a626e4d342ccaa955ea1c68afacd": {
      "model_module": "@jupyter-widgets/base",
      "model_module_version": "1.2.0",
      "model_name": "LayoutModel",
      "state": {
       "_model_module": "@jupyter-widgets/base",
       "_model_module_version": "1.2.0",
       "_model_name": "LayoutModel",
       "_view_count": null,
       "_view_module": "@jupyter-widgets/base",
       "_view_module_version": "1.2.0",
       "_view_name": "LayoutView",
       "align_content": null,
       "align_items": null,
       "align_self": null,
       "border": null,
       "bottom": null,
       "display": null,
       "flex": null,
       "flex_flow": null,
       "grid_area": null,
       "grid_auto_columns": null,
       "grid_auto_flow": null,
       "grid_auto_rows": null,
       "grid_column": null,
       "grid_gap": null,
       "grid_row": null,
       "grid_template_areas": null,
       "grid_template_columns": null,
       "grid_template_rows": null,
       "height": null,
       "justify_content": null,
       "justify_items": null,
       "left": null,
       "margin": null,
       "max_height": null,
       "max_width": null,
       "min_height": null,
       "min_width": null,
       "object_fit": null,
       "object_position": null,
       "order": null,
       "overflow": null,
       "overflow_x": null,
       "overflow_y": null,
       "padding": null,
       "right": null,
       "top": null,
       "visibility": null,
       "width": null
      }
     },
     "6314c6fca7a845618625e72ac301f6a7": {
      "model_module": "@jupyter-widgets/controls",
      "model_module_version": "1.5.0",
      "model_name": "FloatProgressModel",
      "state": {
       "_dom_classes": [],
       "_model_module": "@jupyter-widgets/controls",
       "_model_module_version": "1.5.0",
       "_model_name": "FloatProgressModel",
       "_view_count": null,
       "_view_module": "@jupyter-widgets/controls",
       "_view_module_version": "1.5.0",
       "_view_name": "ProgressView",
       "bar_style": "success",
       "description": "100%",
       "description_tooltip": null,
       "layout": "IPY_MODEL_2573316ddee1409d897edfcfbd87e8ba",
       "max": 42840,
       "min": 0,
       "orientation": "horizontal",
       "style": "IPY_MODEL_7370a0011b714f6dbba43bf3f3725de8",
       "value": 42840
      }
     },
     "7370a0011b714f6dbba43bf3f3725de8": {
      "model_module": "@jupyter-widgets/controls",
      "model_module_version": "1.5.0",
      "model_name": "ProgressStyleModel",
      "state": {
       "_model_module": "@jupyter-widgets/controls",
       "_model_module_version": "1.5.0",
       "_model_name": "ProgressStyleModel",
       "_view_count": null,
       "_view_module": "@jupyter-widgets/base",
       "_view_module_version": "1.2.0",
       "_view_name": "StyleView",
       "bar_color": null,
       "description_width": "initial"
      }
     },
     "860311c3b0564afa891a4c6e24da2d3a": {
      "model_module": "@jupyter-widgets/controls",
      "model_module_version": "1.5.0",
      "model_name": "DescriptionStyleModel",
      "state": {
       "_model_module": "@jupyter-widgets/controls",
       "_model_module_version": "1.5.0",
       "_model_name": "DescriptionStyleModel",
       "_view_count": null,
       "_view_module": "@jupyter-widgets/base",
       "_view_module_version": "1.2.0",
       "_view_name": "StyleView",
       "description_width": ""
      }
     },
     "8c18e2818bf648e08be0bc8e855fcb3f": {
      "model_module": "@jupyter-widgets/controls",
      "model_module_version": "1.5.0",
      "model_name": "HBoxModel",
      "state": {
       "_dom_classes": [],
       "_model_module": "@jupyter-widgets/controls",
       "_model_module_version": "1.5.0",
       "_model_name": "HBoxModel",
       "_view_count": null,
       "_view_module": "@jupyter-widgets/controls",
       "_view_module_version": "1.5.0",
       "_view_name": "HBoxView",
       "box_style": "",
       "children": [
        "IPY_MODEL_6314c6fca7a845618625e72ac301f6a7",
        "IPY_MODEL_5712bde02e284e70bc5e9c1d7367502a"
       ],
       "layout": "IPY_MODEL_5f64a626e4d342ccaa955ea1c68afacd"
      }
     }
    },
    "version_major": 2,
    "version_minor": 0
   }
  }
 },
 "nbformat": 4,
 "nbformat_minor": 4
}
