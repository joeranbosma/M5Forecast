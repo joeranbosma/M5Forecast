{
 "cells": [
  {
   "cell_type": "code",
   "execution_count": 1,
   "metadata": {},
   "outputs": [],
   "source": [
    "cd .."
   ]
  },
  {
   "cell_type": "code",
   "execution_count": 2,
   "metadata": {
    "pycharm": {
     "is_executing": true
    }
   },
   "outputs": [],
   "source": [
    "# basic imports\n",
    "import os\n",
    "import numpy as np\n",
    "import pandas as pd\n",
    "from tqdm import tqdm as tqdm\n",
    "import matplotlib.pyplot as plt\n",
    "\n",
    "# own imports\n",
    "from flow import load_data, select_dates, sales_to_money, select_final_day\n",
    "from evaluation import Referee\n",
    "\n",
    "os.environ['DATA_DIR'] = 'data/'\n",
    "os.environ['SUB_DIR'] = 'submissions/'"
   ]
  },
  {
   "cell_type": "markdown",
   "metadata": {},
   "source": [
    "# Baseline for M5Forecast - Accuracy\n",
    "This notebook calculates the mean of the final $k$ training days to create a very basic baseline. "
   ]
  },
  {
   "cell_type": "code",
   "execution_count": 3,
   "metadata": {
    "pycharm": {
     "name": "#%%\n"
    }
   },
   "outputs": [
    {
     "name": "stderr",
     "output_type": "stream",
     "text": [
      "\r",
      "  0%|          | 0/28 [00:00<?, ?it/s]"
     ]
    },
    {
     "name": "stdout",
     "output_type": "stream",
     "text": [
      "Converting sales to money spent...\n"
     ]
    },
    {
     "name": "stderr",
     "output_type": "stream",
     "text": [
      "100%|██████████| 28/28 [00:39<00:00,  1.40s/it]\n"
     ]
    },
    {
     "name": "stdout",
     "output_type": "stream",
     "text": [
      "Calculating weights for each level...\n",
      "Calculating scale for each level...\n",
      "Finished setup.\n"
     ]
    }
   ],
   "source": [
    "# Load data\n",
    "calendar, sales_train_validation, sell_prices = load_data()\n",
    "\n",
    "# select true sales period\n",
    "sales_true = select_dates(sales_train_validation, day_end=1913, num_days=28, include_metadata=True)\n",
    "sales_train = select_dates(sales_train_validation, day_start=1, num_days=1913-28, include_metadata=True)\n",
    "\n",
    "# create referee with true sales\n",
    "ref = Referee(sales_true, sales_train, sell_prices, calendar)"
   ]
  },
  {
   "cell_type": "markdown",
   "metadata": {},
   "source": [
    "## Determine weekly pattern"
   ]
  },
  {
   "cell_type": "code",
   "execution_count": 4,
   "metadata": {},
   "outputs": [
    {
     "data": {
      "text/html": [
       "<div>\n",
       "<style scoped>\n",
       "    .dataframe tbody tr th:only-of-type {\n",
       "        vertical-align: middle;\n",
       "    }\n",
       "\n",
       "    .dataframe tbody tr th {\n",
       "        vertical-align: top;\n",
       "    }\n",
       "\n",
       "    .dataframe thead th {\n",
       "        text-align: right;\n",
       "    }\n",
       "</style>\n",
       "<table border=\"1\" class=\"dataframe\">\n",
       "  <thead>\n",
       "    <tr style=\"text-align: right;\">\n",
       "      <th></th>\n",
       "      <th>d_1</th>\n",
       "      <th>d_2</th>\n",
       "      <th>d_3</th>\n",
       "      <th>d_4</th>\n",
       "      <th>d_5</th>\n",
       "      <th>d_6</th>\n",
       "      <th>d_7</th>\n",
       "      <th>d_8</th>\n",
       "      <th>d_9</th>\n",
       "      <th>d_10</th>\n",
       "      <th>...</th>\n",
       "      <th>d_1881</th>\n",
       "      <th>d_1882</th>\n",
       "      <th>d_1883</th>\n",
       "      <th>d_1884</th>\n",
       "      <th>d_1885</th>\n",
       "      <th>item_id</th>\n",
       "      <th>dept_id</th>\n",
       "      <th>cat_id</th>\n",
       "      <th>store_id</th>\n",
       "      <th>state_id</th>\n",
       "    </tr>\n",
       "    <tr>\n",
       "      <th>id</th>\n",
       "      <th></th>\n",
       "      <th></th>\n",
       "      <th></th>\n",
       "      <th></th>\n",
       "      <th></th>\n",
       "      <th></th>\n",
       "      <th></th>\n",
       "      <th></th>\n",
       "      <th></th>\n",
       "      <th></th>\n",
       "      <th></th>\n",
       "      <th></th>\n",
       "      <th></th>\n",
       "      <th></th>\n",
       "      <th></th>\n",
       "      <th></th>\n",
       "      <th></th>\n",
       "      <th></th>\n",
       "      <th></th>\n",
       "      <th></th>\n",
       "      <th></th>\n",
       "    </tr>\n",
       "  </thead>\n",
       "  <tbody>\n",
       "    <tr>\n",
       "      <th>HOBBIES_1_001_CA_1_validation</th>\n",
       "      <td>0</td>\n",
       "      <td>0</td>\n",
       "      <td>0</td>\n",
       "      <td>0</td>\n",
       "      <td>0</td>\n",
       "      <td>0</td>\n",
       "      <td>0</td>\n",
       "      <td>0</td>\n",
       "      <td>0</td>\n",
       "      <td>0</td>\n",
       "      <td>...</td>\n",
       "      <td>2</td>\n",
       "      <td>0</td>\n",
       "      <td>1</td>\n",
       "      <td>1</td>\n",
       "      <td>1</td>\n",
       "      <td>HOBBIES_1_001</td>\n",
       "      <td>HOBBIES_1</td>\n",
       "      <td>HOBBIES</td>\n",
       "      <td>CA_1</td>\n",
       "      <td>CA</td>\n",
       "    </tr>\n",
       "    <tr>\n",
       "      <th>HOBBIES_1_002_CA_1_validation</th>\n",
       "      <td>0</td>\n",
       "      <td>0</td>\n",
       "      <td>0</td>\n",
       "      <td>0</td>\n",
       "      <td>0</td>\n",
       "      <td>0</td>\n",
       "      <td>0</td>\n",
       "      <td>0</td>\n",
       "      <td>0</td>\n",
       "      <td>0</td>\n",
       "      <td>...</td>\n",
       "      <td>0</td>\n",
       "      <td>1</td>\n",
       "      <td>1</td>\n",
       "      <td>1</td>\n",
       "      <td>1</td>\n",
       "      <td>HOBBIES_1_002</td>\n",
       "      <td>HOBBIES_1</td>\n",
       "      <td>HOBBIES</td>\n",
       "      <td>CA_1</td>\n",
       "      <td>CA</td>\n",
       "    </tr>\n",
       "    <tr>\n",
       "      <th>HOBBIES_1_003_CA_1_validation</th>\n",
       "      <td>0</td>\n",
       "      <td>0</td>\n",
       "      <td>0</td>\n",
       "      <td>0</td>\n",
       "      <td>0</td>\n",
       "      <td>0</td>\n",
       "      <td>0</td>\n",
       "      <td>0</td>\n",
       "      <td>0</td>\n",
       "      <td>0</td>\n",
       "      <td>...</td>\n",
       "      <td>0</td>\n",
       "      <td>0</td>\n",
       "      <td>1</td>\n",
       "      <td>1</td>\n",
       "      <td>0</td>\n",
       "      <td>HOBBIES_1_003</td>\n",
       "      <td>HOBBIES_1</td>\n",
       "      <td>HOBBIES</td>\n",
       "      <td>CA_1</td>\n",
       "      <td>CA</td>\n",
       "    </tr>\n",
       "    <tr>\n",
       "      <th>HOBBIES_1_004_CA_1_validation</th>\n",
       "      <td>0</td>\n",
       "      <td>0</td>\n",
       "      <td>0</td>\n",
       "      <td>0</td>\n",
       "      <td>0</td>\n",
       "      <td>0</td>\n",
       "      <td>0</td>\n",
       "      <td>0</td>\n",
       "      <td>0</td>\n",
       "      <td>0</td>\n",
       "      <td>...</td>\n",
       "      <td>3</td>\n",
       "      <td>5</td>\n",
       "      <td>0</td>\n",
       "      <td>6</td>\n",
       "      <td>6</td>\n",
       "      <td>HOBBIES_1_004</td>\n",
       "      <td>HOBBIES_1</td>\n",
       "      <td>HOBBIES</td>\n",
       "      <td>CA_1</td>\n",
       "      <td>CA</td>\n",
       "    </tr>\n",
       "    <tr>\n",
       "      <th>HOBBIES_1_005_CA_1_validation</th>\n",
       "      <td>0</td>\n",
       "      <td>0</td>\n",
       "      <td>0</td>\n",
       "      <td>0</td>\n",
       "      <td>0</td>\n",
       "      <td>0</td>\n",
       "      <td>0</td>\n",
       "      <td>0</td>\n",
       "      <td>0</td>\n",
       "      <td>0</td>\n",
       "      <td>...</td>\n",
       "      <td>1</td>\n",
       "      <td>0</td>\n",
       "      <td>0</td>\n",
       "      <td>0</td>\n",
       "      <td>0</td>\n",
       "      <td>HOBBIES_1_005</td>\n",
       "      <td>HOBBIES_1</td>\n",
       "      <td>HOBBIES</td>\n",
       "      <td>CA_1</td>\n",
       "      <td>CA</td>\n",
       "    </tr>\n",
       "    <tr>\n",
       "      <th>...</th>\n",
       "      <td>...</td>\n",
       "      <td>...</td>\n",
       "      <td>...</td>\n",
       "      <td>...</td>\n",
       "      <td>...</td>\n",
       "      <td>...</td>\n",
       "      <td>...</td>\n",
       "      <td>...</td>\n",
       "      <td>...</td>\n",
       "      <td>...</td>\n",
       "      <td>...</td>\n",
       "      <td>...</td>\n",
       "      <td>...</td>\n",
       "      <td>...</td>\n",
       "      <td>...</td>\n",
       "      <td>...</td>\n",
       "      <td>...</td>\n",
       "      <td>...</td>\n",
       "      <td>...</td>\n",
       "      <td>...</td>\n",
       "      <td>...</td>\n",
       "    </tr>\n",
       "    <tr>\n",
       "      <th>FOODS_3_823_WI_3_validation</th>\n",
       "      <td>0</td>\n",
       "      <td>0</td>\n",
       "      <td>2</td>\n",
       "      <td>2</td>\n",
       "      <td>0</td>\n",
       "      <td>3</td>\n",
       "      <td>1</td>\n",
       "      <td>4</td>\n",
       "      <td>1</td>\n",
       "      <td>0</td>\n",
       "      <td>...</td>\n",
       "      <td>0</td>\n",
       "      <td>0</td>\n",
       "      <td>0</td>\n",
       "      <td>0</td>\n",
       "      <td>0</td>\n",
       "      <td>FOODS_3_823</td>\n",
       "      <td>FOODS_3</td>\n",
       "      <td>FOODS</td>\n",
       "      <td>WI_3</td>\n",
       "      <td>WI</td>\n",
       "    </tr>\n",
       "    <tr>\n",
       "      <th>FOODS_3_824_WI_3_validation</th>\n",
       "      <td>0</td>\n",
       "      <td>0</td>\n",
       "      <td>0</td>\n",
       "      <td>0</td>\n",
       "      <td>0</td>\n",
       "      <td>5</td>\n",
       "      <td>0</td>\n",
       "      <td>1</td>\n",
       "      <td>1</td>\n",
       "      <td>3</td>\n",
       "      <td>...</td>\n",
       "      <td>0</td>\n",
       "      <td>0</td>\n",
       "      <td>0</td>\n",
       "      <td>0</td>\n",
       "      <td>0</td>\n",
       "      <td>FOODS_3_824</td>\n",
       "      <td>FOODS_3</td>\n",
       "      <td>FOODS</td>\n",
       "      <td>WI_3</td>\n",
       "      <td>WI</td>\n",
       "    </tr>\n",
       "    <tr>\n",
       "      <th>FOODS_3_825_WI_3_validation</th>\n",
       "      <td>0</td>\n",
       "      <td>6</td>\n",
       "      <td>0</td>\n",
       "      <td>2</td>\n",
       "      <td>2</td>\n",
       "      <td>4</td>\n",
       "      <td>1</td>\n",
       "      <td>8</td>\n",
       "      <td>5</td>\n",
       "      <td>2</td>\n",
       "      <td>...</td>\n",
       "      <td>0</td>\n",
       "      <td>0</td>\n",
       "      <td>2</td>\n",
       "      <td>0</td>\n",
       "      <td>1</td>\n",
       "      <td>FOODS_3_825</td>\n",
       "      <td>FOODS_3</td>\n",
       "      <td>FOODS</td>\n",
       "      <td>WI_3</td>\n",
       "      <td>WI</td>\n",
       "    </tr>\n",
       "    <tr>\n",
       "      <th>FOODS_3_826_WI_3_validation</th>\n",
       "      <td>0</td>\n",
       "      <td>0</td>\n",
       "      <td>0</td>\n",
       "      <td>0</td>\n",
       "      <td>0</td>\n",
       "      <td>0</td>\n",
       "      <td>0</td>\n",
       "      <td>0</td>\n",
       "      <td>0</td>\n",
       "      <td>0</td>\n",
       "      <td>...</td>\n",
       "      <td>2</td>\n",
       "      <td>1</td>\n",
       "      <td>1</td>\n",
       "      <td>2</td>\n",
       "      <td>4</td>\n",
       "      <td>FOODS_3_826</td>\n",
       "      <td>FOODS_3</td>\n",
       "      <td>FOODS</td>\n",
       "      <td>WI_3</td>\n",
       "      <td>WI</td>\n",
       "    </tr>\n",
       "    <tr>\n",
       "      <th>FOODS_3_827_WI_3_validation</th>\n",
       "      <td>0</td>\n",
       "      <td>0</td>\n",
       "      <td>0</td>\n",
       "      <td>0</td>\n",
       "      <td>0</td>\n",
       "      <td>0</td>\n",
       "      <td>0</td>\n",
       "      <td>0</td>\n",
       "      <td>0</td>\n",
       "      <td>0</td>\n",
       "      <td>...</td>\n",
       "      <td>5</td>\n",
       "      <td>3</td>\n",
       "      <td>2</td>\n",
       "      <td>0</td>\n",
       "      <td>5</td>\n",
       "      <td>FOODS_3_827</td>\n",
       "      <td>FOODS_3</td>\n",
       "      <td>FOODS</td>\n",
       "      <td>WI_3</td>\n",
       "      <td>WI</td>\n",
       "    </tr>\n",
       "  </tbody>\n",
       "</table>\n",
       "<p>30490 rows × 1890 columns</p>\n",
       "</div>"
      ],
      "text/plain": [
       "                               d_1  d_2  d_3  d_4  d_5  d_6  d_7  d_8  d_9  \\\n",
       "id                                                                           \n",
       "HOBBIES_1_001_CA_1_validation    0    0    0    0    0    0    0    0    0   \n",
       "HOBBIES_1_002_CA_1_validation    0    0    0    0    0    0    0    0    0   \n",
       "HOBBIES_1_003_CA_1_validation    0    0    0    0    0    0    0    0    0   \n",
       "HOBBIES_1_004_CA_1_validation    0    0    0    0    0    0    0    0    0   \n",
       "HOBBIES_1_005_CA_1_validation    0    0    0    0    0    0    0    0    0   \n",
       "...                            ...  ...  ...  ...  ...  ...  ...  ...  ...   \n",
       "FOODS_3_823_WI_3_validation      0    0    2    2    0    3    1    4    1   \n",
       "FOODS_3_824_WI_3_validation      0    0    0    0    0    5    0    1    1   \n",
       "FOODS_3_825_WI_3_validation      0    6    0    2    2    4    1    8    5   \n",
       "FOODS_3_826_WI_3_validation      0    0    0    0    0    0    0    0    0   \n",
       "FOODS_3_827_WI_3_validation      0    0    0    0    0    0    0    0    0   \n",
       "\n",
       "                               d_10  ...  d_1881  d_1882  d_1883  d_1884  \\\n",
       "id                                   ...                                   \n",
       "HOBBIES_1_001_CA_1_validation     0  ...       2       0       1       1   \n",
       "HOBBIES_1_002_CA_1_validation     0  ...       0       1       1       1   \n",
       "HOBBIES_1_003_CA_1_validation     0  ...       0       0       1       1   \n",
       "HOBBIES_1_004_CA_1_validation     0  ...       3       5       0       6   \n",
       "HOBBIES_1_005_CA_1_validation     0  ...       1       0       0       0   \n",
       "...                             ...  ...     ...     ...     ...     ...   \n",
       "FOODS_3_823_WI_3_validation       0  ...       0       0       0       0   \n",
       "FOODS_3_824_WI_3_validation       3  ...       0       0       0       0   \n",
       "FOODS_3_825_WI_3_validation       2  ...       0       0       2       0   \n",
       "FOODS_3_826_WI_3_validation       0  ...       2       1       1       2   \n",
       "FOODS_3_827_WI_3_validation       0  ...       5       3       2       0   \n",
       "\n",
       "                               d_1885        item_id    dept_id   cat_id  \\\n",
       "id                                                                         \n",
       "HOBBIES_1_001_CA_1_validation       1  HOBBIES_1_001  HOBBIES_1  HOBBIES   \n",
       "HOBBIES_1_002_CA_1_validation       1  HOBBIES_1_002  HOBBIES_1  HOBBIES   \n",
       "HOBBIES_1_003_CA_1_validation       0  HOBBIES_1_003  HOBBIES_1  HOBBIES   \n",
       "HOBBIES_1_004_CA_1_validation       6  HOBBIES_1_004  HOBBIES_1  HOBBIES   \n",
       "HOBBIES_1_005_CA_1_validation       0  HOBBIES_1_005  HOBBIES_1  HOBBIES   \n",
       "...                               ...            ...        ...      ...   \n",
       "FOODS_3_823_WI_3_validation         0    FOODS_3_823    FOODS_3    FOODS   \n",
       "FOODS_3_824_WI_3_validation         0    FOODS_3_824    FOODS_3    FOODS   \n",
       "FOODS_3_825_WI_3_validation         1    FOODS_3_825    FOODS_3    FOODS   \n",
       "FOODS_3_826_WI_3_validation         4    FOODS_3_826    FOODS_3    FOODS   \n",
       "FOODS_3_827_WI_3_validation         5    FOODS_3_827    FOODS_3    FOODS   \n",
       "\n",
       "                               store_id  state_id  \n",
       "id                                                 \n",
       "HOBBIES_1_001_CA_1_validation      CA_1        CA  \n",
       "HOBBIES_1_002_CA_1_validation      CA_1        CA  \n",
       "HOBBIES_1_003_CA_1_validation      CA_1        CA  \n",
       "HOBBIES_1_004_CA_1_validation      CA_1        CA  \n",
       "HOBBIES_1_005_CA_1_validation      CA_1        CA  \n",
       "...                                 ...       ...  \n",
       "FOODS_3_823_WI_3_validation        WI_3        WI  \n",
       "FOODS_3_824_WI_3_validation        WI_3        WI  \n",
       "FOODS_3_825_WI_3_validation        WI_3        WI  \n",
       "FOODS_3_826_WI_3_validation        WI_3        WI  \n",
       "FOODS_3_827_WI_3_validation        WI_3        WI  \n",
       "\n",
       "[30490 rows x 1890 columns]"
      ]
     },
     "execution_count": 4,
     "metadata": {},
     "output_type": "execute_result"
    }
   ],
   "source": [
    "sales_train"
   ]
  },
  {
   "cell_type": "code",
   "execution_count": 5,
   "metadata": {},
   "outputs": [
    {
     "name": "stdout",
     "output_type": "stream",
     "text": [
      "Saturday is day nr. 1 of the week\n",
      "Sunday is day nr. 2 of the week\n",
      "Monday is day nr. 3 of the week\n",
      "Tuesday is day nr. 4 of the week\n",
      "Wednesday is day nr. 5 of the week\n",
      "Thursday is day nr. 6 of the week\n",
      "Friday is day nr. 7 of the week\n"
     ]
    }
   ],
   "source": [
    "col_list = []\n",
    "col_names = []\n",
    "\n",
    "for i in range(1, 1+7):\n",
    "    # select days from a certain day of the week\n",
    "    cols = list(calendar[calendar.wday == i].d.values)\n",
    "    col_name = calendar[calendar.wday == i].weekday.values[0]\n",
    "    # filter days to match training set\n",
    "    cols = [d for d in cols if d in sales_train.columns]\n",
    "    col_list.append(cols); col_names.append(col_name)\n",
    "    print(\"{} is day nr. {} of the week\".format(col_name, i))"
   ]
  },
  {
   "cell_type": "code",
   "execution_count": 6,
   "metadata": {},
   "outputs": [],
   "source": [
    "num_sales = [sales_train[cols].sum(axis=1).sum() for cols in col_list]"
   ]
  },
  {
   "cell_type": "code",
   "execution_count": 7,
   "metadata": {},
   "outputs": [
    {
     "data": {
      "image/png": "[encoded data removed]",
      "text/plain": [
       "<Figure size 864x360 with 1 Axes>"
      ]
     },
     "metadata": {
      "needs_background": "light"
     },
     "output_type": "display_data"
    }
   ],
   "source": [
    "x = range(len(col_names))\n",
    "f, ax = plt.subplots(1, 1, figsize=(12, 5))\n",
    "ax.bar(x, height=num_sales)\n",
    "ax.set_xticks(x)\n",
    "ax.set_xticklabels(col_names)\n",
    "plt.show()"
   ]
  },
  {
   "cell_type": "code",
   "execution_count": 8,
   "metadata": {},
   "outputs": [
    {
     "data": {
      "text/plain": [
       "array([0.17326312, 0.17140915, 0.13659388, 0.12618622, 0.12479437,\n",
       "       0.12556788, 0.14218537])"
      ]
     },
     "execution_count": 8,
     "metadata": {},
     "output_type": "execute_result"
    }
   ],
   "source": [
    "portions = np.array(num_sales) / np.sum(num_sales)\n",
    "portions"
   ]
  },
  {
   "cell_type": "markdown",
   "metadata": {},
   "source": [
    "## Predict weekly sales as mean of final $k$ days \n",
    "Based on the results shown in `k-day-average.ipynb`, $k$ is set to 30. "
   ]
  },
  {
   "cell_type": "code",
   "execution_count": 9,
   "metadata": {},
   "outputs": [
    {
     "data": {
      "text/plain": [
       "array([0.17326312, 0.17140915, 0.13659388, 0.12618622, 0.12479437,\n",
       "       0.12556788, 0.14218537])"
      ]
     },
     "execution_count": 9,
     "metadata": {},
     "output_type": "execute_result"
    }
   ],
   "source": [
    "portions"
   ]
  },
  {
   "cell_type": "code",
   "execution_count": 10,
   "metadata": {
    "pycharm": {
     "name": "#%%\n"
    }
   },
   "outputs": [
    {
     "name": "stdout",
     "output_type": "stream",
     "text": [
      "{1: 0.44473670919811226, 2: 0.5309613702515052, 3: 0.6342742743443948, 4: 0.5115191035988216, 5: 0.6105438957469964, 6: 0.6059013391185935, 7: 0.6835489802692778, 8: 0.7001896878515244, 9: 0.75668125825058, 10: 0.8677701966045377, 11: 0.8669267085805492, 12: 0.8529450762364333, 'WRMSSE': 0.672166550004277}\n"
     ]
    }
   ],
   "source": [
    "k = 30\n",
    "\n",
    "# create skeleton for predictions\n",
    "sales_pred = sales_true.copy()\n",
    "day_cols = sales_pred.filter(regex='d_').columns\n",
    "sales_pred[day_cols] = sales_pred[day_cols] * 0  # set all predictions to zero\n",
    "\n",
    "# set all predictions to training mean of last k days\n",
    "df = select_dates(sales_train, num_days=k, day_end=select_final_day(sales_train))\n",
    "weekly_mean = df.filter(regex='d_').mean(axis=1) * 7\n",
    "for dday in day_cols:\n",
    "    week_day = calendar[calendar.d == dday].wday.values[0]\n",
    "    portion = portions[week_day-1]\n",
    "    sales_pred[dday] = weekly_mean * portion\n",
    "\n",
    "# evaluate predictions\n",
    "metrics = ref.evaluate(sales_pred)\n",
    "print(metrics)"
   ]
  },
  {
   "cell_type": "markdown",
   "metadata": {},
   "source": [
    "**Result**: Incorporating the weekly pattern reduces the WRMSSE signigicantly, from ~1.1 to ~0.67. "
   ]
  },
  {
   "cell_type": "markdown",
   "metadata": {},
   "source": [
    "## Create submission"
   ]
  },
  {
   "cell_type": "code",
   "execution_count": 11,
   "metadata": {},
   "outputs": [],
   "source": [
    "# Drop meta-columns and rename columns to F1, ..., F28\n",
    "pred_val = sales_pred.drop(columns=['item_id', 'dept_id', 'cat_id', 'store_id', 'state_id'])\n",
    "pred_val.columns = ['F%d'%d for d in range(1, 28+1)]"
   ]
  },
  {
   "cell_type": "code",
   "execution_count": 12,
   "metadata": {},
   "outputs": [],
   "source": [
    "# At this point the second 28-day period is just the same\n",
    "pred_eval = pred_val.copy()\n",
    "pred_eval.index = [d.replace('_validation', '_evaluation') for d in pred_eval.index]"
   ]
  },
  {
   "cell_type": "code",
   "execution_count": 13,
   "metadata": {},
   "outputs": [],
   "source": [
    "sub = pd.concat((pred_val, pred_eval))\n",
    "sub.index.name = 'id'"
   ]
  },
  {
   "cell_type": "code",
   "execution_count": 14,
   "metadata": {},
   "outputs": [],
   "source": [
    "sub.to_csv(os.environ['SUB_DIR'] + \"/submission_weekly_pattern.csv\")"
   ]
  },
  {
   "cell_type": "markdown",
   "metadata": {},
   "source": [
    "Submit the predictions using:\n",
    "\n",
    "`kaggle competitions submit -c m5-forecasting-accuracy -f submissions/submission_weekly_pattern.csv -m \"Mean final 30 train days times weekly pattern\"`"
   ]
  },
  {
   "cell_type": "markdown",
   "metadata": {},
   "source": [
    "## Create forecast with days closest to validation set (which is used to compute local performance above)"
   ]
  },
  {
   "cell_type": "code",
   "execution_count": 15,
   "metadata": {},
   "outputs": [
    {
     "name": "stdout",
     "output_type": "stream",
     "text": [
      "METRICS ON OVERLAPPING VALIDATION SET: {1: 0.44978980014528047, 2: 0.5213134168553057, 3: 0.6045370372466206, 4: 0.5088181455325008, 5: 0.5868703224729095, 6: 0.5814197507465632, 7: 0.6463752112459633, 8: 0.658218364857601, 9: 0.7097552596300417, 10: 0.7617904650052487, 11: 0.778420783834012, 12: 0.7760724471580925, 'WRMSSE': 0.6319484170608449}\n"
     ]
    }
   ],
   "source": [
    "k = 30\n",
    "\n",
    "# create skeleton for predictions\n",
    "sales_pred = sales_true.copy()\n",
    "day_cols = sales_pred.filter(regex='d_').columns\n",
    "sales_pred[day_cols] = sales_pred[day_cols] * 0  # set all predictions to zero\n",
    "\n",
    "# set all predictions to training mean of last k days\n",
    "df = select_dates(sales_train_validation, num_days=k, day_end=select_final_day(sales_train_validation))\n",
    "weekly_mean = df.filter(regex='d_').mean(axis=1) * 7\n",
    "for dday in day_cols:\n",
    "    week_day = calendar[calendar.d == dday].wday.values[0]\n",
    "    portion = portions[week_day-1]\n",
    "    sales_pred[dday] = weekly_mean * portion\n",
    "\n",
    "# evaluate predictions\n",
    "metrics = ref.evaluate(sales_pred)\n",
    "print(\"METRICS ON OVERLAPPING VALIDATION SET:\", metrics)"
   ]
  },
  {
   "cell_type": "code",
   "execution_count": 16,
   "metadata": {},
   "outputs": [],
   "source": [
    "# Drop meta-columns and rename columns to F1, ..., F28\n",
    "pred_val = sales_pred.drop(columns=['item_id', 'dept_id', 'cat_id', 'store_id', 'state_id'])\n",
    "pred_val.columns = ['F%d'%d for d in range(1, 28+1)]"
   ]
  },
  {
   "cell_type": "code",
   "execution_count": 17,
   "metadata": {},
   "outputs": [],
   "source": [
    "# At this point the second 28-day period is just the same\n",
    "pred_eval = pred_val.copy()\n",
    "pred_eval.index = [d.replace('_validation', '_evaluation') for d in pred_eval.index]"
   ]
  },
  {
   "cell_type": "code",
   "execution_count": 18,
   "metadata": {},
   "outputs": [],
   "source": [
    "sub = pd.concat((pred_val, pred_eval))\n",
    "sub.index.name = 'id'"
   ]
  },
  {
   "cell_type": "code",
   "execution_count": 19,
   "metadata": {},
   "outputs": [],
   "source": [
    "sub.to_csv(os.environ['SUB_DIR'] + \"/submission_weekly_pattern_mean_d1884_d1913.csv\")"
   ]
  },
  {
   "cell_type": "markdown",
   "metadata": {},
   "source": [
    "Submit the predictions using:\n",
    "\n",
    "`kaggle competitions submit -c m5-forecasting-accuracy -f submissions/submission_weekly_pattern_mean_d1884_d1913.csv -m \"Mean final 30 days times weekly pattern\"`"
   ]
  },
  {
   "cell_type": "code",
   "execution_count": null,
   "metadata": {},
   "outputs": [],
   "source": []
  }
 ],
 "metadata": {
  "kernelspec": {
   "display_name": "PyCharm (hw1)",
   "language": "python",
   "name": "pycharm-9c4d70e8"
  },
  "language_info": {
   "codemirror_mode": {
    "name": "ipython",
    "version": 3
   },
   "file_extension": ".py",
   "mimetype": "text/x-python",
   "name": "python",
   "nbconvert_exporter": "python",
   "pygments_lexer": "ipython3",
   "version": "3.7.6"
  }
 },
 "nbformat": 4,
 "nbformat_minor": 1
}
