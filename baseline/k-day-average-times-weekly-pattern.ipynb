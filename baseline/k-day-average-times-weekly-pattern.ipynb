{
 "cells": [
  {
   "cell_type": "code",
   "execution_count": 1,
   "metadata": {},
   "outputs": [
    {
     "name": "stdout",
     "output_type": "stream",
     "text": [
      "/Users/joeranbosma/stack/Projects/M5Forecast\n"
     ]
    }
   ],
   "source": [
    "cd .."
   ]
  },
  {
   "cell_type": "code",
   "execution_count": 2,
   "metadata": {
    "pycharm": {
     "is_executing": true
    }
   },
   "outputs": [],
   "source": [
    "# basic imports\n",
    "import os\n",
    "import numpy as np\n",
    "import pandas as pd\n",
    "from tqdm import tqdm as tqdm\n",
    "import matplotlib.pyplot as plt\n",
    "\n",
    "# own imports\n",
    "from flow import load_data, select_dates, sales_to_money, select_final_day, create_submission\n",
    "from evaluation import Referee, CrossValiDataGenerator\n",
    "from agent import KDayMeanTimesWeeklyPattern\n",
    "\n",
    "os.environ['DATA_DIR'] = 'data/'\n",
    "os.environ['SUB_DIR'] = 'submissions/'\n",
    "\n",
    "# General settings for figures\n",
    "plt.rcParams[\"figure.figsize\"] = (9, 4.5)\n",
    "plt.rcParams[\"savefig.format\"] = \"pdf\"\n",
    "plt.rcParams[\"savefig.dpi\"] = 400\n",
    "plt.rcParams[\"savefig.transparent\"] = True\n",
    "plt.rcParams.update({'font.size': 13})  # 12, 16\n",
    "plt.rcParams[\"savefig.bbox\"] = 'tight'"
   ]
  },
  {
   "cell_type": "markdown",
   "metadata": {},
   "source": [
    "# Baseline for M5Forecast - Accuracy\n",
    "This notebook calculates the mean of the final $k$ training days and multiplies those with the typical weekly pattern to create a slightly more advanced baseline. "
   ]
  },
  {
   "cell_type": "code",
   "execution_count": null,
   "metadata": {
    "pycharm": {
     "name": "#%%\n"
    }
   },
   "outputs": [],
   "source": [
    "# Load data\n",
    "calendar, sales_train_validation, sell_prices = load_data()\n",
    "\n",
    "# select true sales period\n",
    "sales_true = select_dates(sales_train_validation, day_end=1913, num_days=28, include_metadata=True)\n",
    "sales_train = select_dates(sales_train_validation, day_start=1, num_days=1913-28, include_metadata=True)"
   ]
  },
  {
   "cell_type": "code",
   "execution_count": null,
   "metadata": {},
   "outputs": [],
   "source": [
    "# create referee with true sales\n",
    "ref = Referee(sales_true, sales_train, sell_prices, calendar)"
   ]
  },
  {
   "cell_type": "markdown",
   "metadata": {},
   "source": [
    "## Determine weekly pattern"
   ]
  },
  {
   "cell_type": "code",
   "execution_count": null,
   "metadata": {},
   "outputs": [],
   "source": [
    "sales_train"
   ]
  },
  {
   "cell_type": "code",
   "execution_count": null,
   "metadata": {},
   "outputs": [],
   "source": [
    "col_list = []\n",
    "col_names = []\n",
    "\n",
    "for i in range(1, 1+7):\n",
    "    # select days from a certain day of the week\n",
    "    cols = list(calendar[calendar.wday == i].d.values)\n",
    "    col_name = calendar[calendar.wday == i].weekday.values[0]\n",
    "    # filter days to match training set\n",
    "    cols = [d for d in cols if d in sales_train.columns]\n",
    "    col_list.append(cols); col_names.append(col_name)\n",
    "    print(\"{} is day nr. {} of the week\".format(col_name, i))"
   ]
  },
  {
   "cell_type": "code",
   "execution_count": null,
   "metadata": {},
   "outputs": [],
   "source": [
    "num_sales = [sales_train[cols].sum(axis=1).sum() for cols in col_list]"
   ]
  },
  {
   "cell_type": "code",
   "execution_count": null,
   "metadata": {},
   "outputs": [],
   "source": [
    "x = range(len(col_names))\n",
    "f, ax = plt.subplots(1, 1, figsize=(12, 5))\n",
    "ax.bar(x, height=num_sales)\n",
    "ax.set_xticks(x)\n",
    "ax.set_xticklabels(col_names)\n",
    "plt.show()"
   ]
  },
  {
   "cell_type": "code",
   "execution_count": null,
   "metadata": {},
   "outputs": [],
   "source": [
    "portions = np.array(num_sales) / np.sum(num_sales)\n",
    "portions"
   ]
  },
  {
   "cell_type": "markdown",
   "metadata": {},
   "source": [
    "## Predict weekly sales as mean of final $k$ days times weekly pattern\n",
    "Based on the results shown in `k-day-average.ipynb` and semantic preference for multiples of 7, $k$ is set to 28. "
   ]
  },
  {
   "cell_type": "code",
   "execution_count": null,
   "metadata": {
    "pycharm": {
     "name": "#%%\n"
    }
   },
   "outputs": [],
   "source": [
    "k = 28\n",
    "\n",
    "# create skeleton for predictions\n",
    "sales_pred = sales_true.copy()\n",
    "day_cols = sales_pred.filter(regex='d_').columns\n",
    "sales_pred[day_cols] = sales_pred[day_cols] * 0  # set all predictions to zero\n",
    "\n",
    "# set all predictions to training mean of last k days\n",
    "df = select_dates(sales_train, num_days=k, day_end=select_final_day(sales_train))\n",
    "weekly_mean = df.filter(regex='d_').mean(axis=1) * 7\n",
    "for dday in day_cols:\n",
    "    week_day = calendar[calendar.d == dday].wday.values[0]\n",
    "    portion = portions[week_day-1]\n",
    "    sales_pred[dday] = weekly_mean * portion\n",
    "\n",
    "# evaluate predictions\n",
    "metrics = ref.evaluate(sales_pred)\n",
    "print(metrics)"
   ]
  },
  {
   "cell_type": "markdown",
   "metadata": {},
   "source": [
    "**Result**: Incorporating the weekly pattern reduces the WRMSSE signigicantly, from ~1.1 to ~0.67. "
   ]
  },
  {
   "cell_type": "markdown",
   "metadata": {},
   "source": [
    "## Create submission"
   ]
  },
  {
   "cell_type": "code",
   "execution_count": null,
   "metadata": {},
   "outputs": [],
   "source": [
    "create_submission(sales_pred, filename='weekly_pattern_fold1', add_timestamp=False)"
   ]
  },
  {
   "cell_type": "markdown",
   "metadata": {},
   "source": [
    "Submit the predictions using:\n",
    "\n",
    "`kaggle competitions submit -c m5-forecasting-accuracy -f submissions/submission_weekly_pattern.csv -m \"Mean final 30 train days times weekly pattern\"`"
   ]
  },
  {
   "cell_type": "markdown",
   "metadata": {},
   "source": [
    "## Create forecast with KDayMeanTimesWeeklyPattern agent\n",
    "Selection of training and validation set is handled by the CrossValiDataGenerator. The value for $k$ is changed to 28 for semantic reasons. "
   ]
  },
  {
   "cell_type": "code",
   "execution_count": null,
   "metadata": {},
   "outputs": [],
   "source": [
    "k = 28\n",
    "# Set up generator\n",
    "cv_generator = CrossValiDataGenerator(sales_train_validation)\n",
    "train_df, val_df = cv_generator.get_train_val_split(fold=1, train_size=-1)"
   ]
  },
  {
   "cell_type": "code",
   "execution_count": null,
   "metadata": {},
   "outputs": [],
   "source": [
    "# Define model, with mean of k days\n",
    "model = KDayMeanTimesWeeklyPattern(calendar, k=k)\n",
    "\n",
    "# Determine the weekly pattern based on complete training set\n",
    "model.fit(train_df)\n",
    "\n",
    "# Predict next 28 days based on the k days before it and the weekly pattern\n",
    "sales_pred = model.predict(train_df)\n",
    "sales_pred"
   ]
  },
  {
   "cell_type": "code",
   "execution_count": null,
   "metadata": {},
   "outputs": [],
   "source": [
    "ref = Referee(val_df, train_df, sell_prices, calendar)"
   ]
  },
  {
   "cell_type": "code",
   "execution_count": null,
   "metadata": {},
   "outputs": [],
   "source": [
    "ref.evaluate(sales_pred)"
   ]
  },
  {
   "cell_type": "markdown",
   "metadata": {},
   "source": [
    "## Cross-validation of performance"
   ]
  },
  {
   "cell_type": "code",
   "execution_count": null,
   "metadata": {},
   "outputs": [],
   "source": [
    "k = 28\n",
    "cv_generator = CrossValiDataGenerator(sales_train_validation, train_size=k)\n",
    "train_df, _ = cv_generator.get_train_val_split(fold=10, train_size=-1)"
   ]
  },
  {
   "cell_type": "markdown",
   "metadata": {},
   "source": [
    "### Determine weekly pattern with days before validation set nr. 10"
   ]
  },
  {
   "cell_type": "code",
   "execution_count": null,
   "metadata": {},
   "outputs": [],
   "source": [
    "model.fit(train_df)\n",
    "model.portions"
   ]
  },
  {
   "cell_type": "markdown",
   "metadata": {},
   "source": [
    "### Predict and evaluate"
   ]
  },
  {
   "cell_type": "code",
   "execution_count": null,
   "metadata": {},
   "outputs": [],
   "source": [
    "metrics_list = []\n",
    "\n",
    "for fold in tqdm(range(1, 1+10), \"CV\"):\n",
    "    # The train df should contain at least 28 days, for correct weights during evaluation\n",
    "    train_df, val_df = cv_generator.get_train_val_split(fold=fold, train_size=max(28, k))\n",
    "    \n",
    "    # Predict next 28 days based on the k days before it \n",
    "    sales_pred = model.predict(train_df)\n",
    "    \n",
    "    # evaluate predictions\n",
    "    ref = Referee(val_df, train_df, sell_prices, calendar, verbose=False)\n",
    "    metrics = ref.evaluate(sales_pred)\n",
    "    # print(metrics)\n",
    "    metrics_list.append(metrics)"
   ]
  },
  {
   "cell_type": "code",
   "execution_count": null,
   "metadata": {},
   "outputs": [],
   "source": [
    "def plot_dict(dictionaries, exclude_zero=False, labels=[]):\n",
    "    f, ax = plt.subplots(1, 1)\n",
    "    \n",
    "    if isinstance(dictionaries, dict):\n",
    "        dictionaries = [dictionaries]\n",
    "        labels = [labels]\n",
    "    \n",
    "    for i, dic in enumerate(dictionaries):\n",
    "        keys = list(dic.keys())\n",
    "        vals = list(dic.values())\n",
    "        if exclude_zero:\n",
    "            keys = [k for k in keys if k != 0]\n",
    "            vals = [val for (k, val) in dic.items() if k != 0]\n",
    "        \n",
    "        try:\n",
    "            ax.plot(keys, vals, label=labels[i])\n",
    "        except:\n",
    "            ax.plot(keys, vals)\n",
    "    \n",
    "    if len(labels) > 0:\n",
    "        plt.legend(loc=(1.05, 0.))\n",
    "    \n",
    "    plt.show()\n",
    "\n",
    "plot_dict(metrics_list, labels=['Fold %d'%d for d in range(1, 1+10)])"
   ]
  },
  {
   "cell_type": "code",
   "execution_count": null,
   "metadata": {},
   "outputs": [],
   "source": []
  }
 ],
 "metadata": {
  "kernelspec": {
   "display_name": "Python 3",
   "language": "python",
   "name": "python3"
  },
  "language_info": {
   "codemirror_mode": {
    "name": "ipython",
    "version": 3
   },
   "file_extension": ".py",
   "mimetype": "text/x-python",
   "name": "python",
   "nbconvert_exporter": "python",
   "pygments_lexer": "ipython3",
   "version": "3.7.6"
  }
 },
 "nbformat": 4,
 "nbformat_minor": 1
}
