{
 "cells": [
  {
   "cell_type": "code",
   "execution_count": 22,
   "metadata": {
    "pycharm": {
     "is_executing": true
    }
   },
   "outputs": [],
   "source": [
    "# basic imports\n",
    "import os\n",
    "import numpy as np\n",
    "import pandas as pd\n",
    "from tqdm import tqdm as tqdm\n",
    "import matplotlib.pyplot as plt\n",
    "\n",
    "# own imports\n",
    "from flow import load_data, select_dates, sales_to_money, select_final_day\n",
    "from evaluation import Referee\n",
    "\n",
    "os.environ['DATA_DIR'] = '../data/'\n",
    "os.environ['SUB_DIR'] = '../submissions/'"
   ]
  },
  {
   "cell_type": "markdown",
   "metadata": {},
   "source": [
    "# Baseline for M5Forecast - Accuracy\n",
    "This notebook calculates the mean of the final $k$ training days to create a very basic baseline. "
   ]
  },
  {
   "cell_type": "code",
   "execution_count": 23,
   "metadata": {
    "pycharm": {
     "name": "#%%\n"
    }
   },
   "outputs": [
    {
     "name": "stderr",
     "output_type": "stream",
     "text": [
      "\r",
      "  0%|          | 0/28 [00:00<?, ?it/s]"
     ]
    },
    {
     "name": "stdout",
     "output_type": "stream",
     "text": [
      "Converting sales to money spent...\n"
     ]
    },
    {
     "name": "stderr",
     "output_type": "stream",
     "text": [
      "100%|██████████| 28/28 [04:49<00:00, 10.33s/it]\n"
     ]
    },
    {
     "name": "stdout",
     "output_type": "stream",
     "text": [
      "Calculating weights for each level...\n",
      "Calculating scale for each level...\n",
      "Finished setup.\n"
     ]
    }
   ],
   "source": [
    "# Load data\n",
    "calendar, sales_train_validation, sell_prices = load_data()\n",
    "\n",
    "# select true sales period\n",
    "sales_true = select_dates(sales_train_validation, day_end=1913, num_days=28, include_metadata=True)\n",
    "sales_train = select_dates(sales_train_validation, day_start=1, num_days=1913-28, include_metadata=True)\n",
    "\n",
    "# create referee with true sales\n",
    "ref = Referee(sales_true, sales_train, sell_prices, calendar)"
   ]
  },
  {
   "cell_type": "code",
   "execution_count": 24,
   "metadata": {
    "pycharm": {
     "name": "#%%\n"
    }
   },
   "outputs": [
    {
     "name": "stderr",
     "output_type": "stream",
     "text": [
      "100%|██████████| 28/28 [01:46<00:00,  3.79s/it]\n"
     ]
    }
   ],
   "source": [
    "metrics_list = []\n",
    "k_options = range(2, 56+1, 2)\n",
    "\n",
    "for k in tqdm(k_options):\n",
    "    # create skeleton for predictions\n",
    "    sales_pred = sales_true.copy()\n",
    "    day_cols = sales_pred.filter(regex='d_').columns\n",
    "    sales_pred[day_cols] = sales_pred[day_cols] * 0  # set all predictions to zero\n",
    "\n",
    "    # set all predictions to training mean of last k days\n",
    "    for dday in day_cols:\n",
    "        df = select_dates(sales_train, num_days=k, day_end=select_final_day(sales_train))\n",
    "        sales_pred[dday] = df.filter(regex='d_').mean(axis=1)\n",
    "\n",
    "    # evaluate predictions\n",
    "    metrics = ref.evaluate(sales_pred)\n",
    "    # print(metrics)\n",
    "    metrics_list.append(metrics)"
   ]
  },
  {
   "cell_type": "code",
   "execution_count": 25,
   "metadata": {},
   "outputs": [
    {
     "data": {
      "image/png": "[encoded data removed]",
      "text/plain": [
       "<Figure size 720x360 with 1 Axes>"
      ]
     },
     "metadata": {
      "needs_background": "light"
     },
     "output_type": "display_data"
    }
   ],
   "source": [
    "WRMSSE_list = [m['WRMSSE'] for m in metrics_list]\n",
    "\n",
    "f, ax = plt.subplots(1, 1, figsize=(10, 5))\n",
    "ax.plot(k_options, WRMSSE_list)\n",
    "ax.set_xlabel('$k$'); ax.set_ylabel('WRMSSE')\n",
    "ax.set_title(\"Performance of predicting mean of last k-days\")\n",
    "plt.show()"
   ]
  },
  {
   "cell_type": "code",
   "execution_count": 26,
   "metadata": {},
   "outputs": [
    {
     "data": {
      "text/plain": [
       "(1.0967277003658602, 32)"
      ]
     },
     "execution_count": 26,
     "metadata": {},
     "output_type": "execute_result"
    }
   ],
   "source": [
    "np.min(WRMSSE_list), k_options[np.argmin(WRMSSE_list)]"
   ]
  },
  {
   "cell_type": "markdown",
   "metadata": {},
   "source": [
    "**Result**: Using the mean of the final 20-40 days performed best. "
   ]
  },
  {
   "cell_type": "code",
   "execution_count": 27,
   "metadata": {},
   "outputs": [
    {
     "name": "stderr",
     "output_type": "stream",
     "text": [
      "calculating means: 100%|██████████| 28/28 [00:00<00:00, 36.77it/s]\n"
     ]
    }
   ],
   "source": [
    "# Re-calculate predictions with k=30\n",
    "k = 30\n",
    "\n",
    "sales_pred = sales_true.copy()\n",
    "day_cols = sales_pred.filter(regex='d_').columns\n",
    "sales_pred[day_cols] = sales_pred[day_cols] * 0  # set all predictions to zero\n",
    "\n",
    "# set all predictions to training mean of last k days\n",
    "for dday in tqdm(day_cols, desc='calculating means'):\n",
    "    df = select_dates(sales_train, num_days=k, day_end=select_final_day(sales_train))\n",
    "    sales_pred[dday] = df.filter(regex='d_').mean(axis=1)"
   ]
  },
  {
   "cell_type": "markdown",
   "metadata": {},
   "source": [
    "## Create submission"
   ]
  },
  {
   "cell_type": "code",
   "execution_count": 29,
   "metadata": {},
   "outputs": [],
   "source": [
    "create_submission(sales_pred,filename='kmeans',add_timestamp=False)"
   ]
  },
  {
   "cell_type": "markdown",
   "metadata": {},
   "source": [
    "Submit the predictions using:\n",
    "\n",
    "`kaggle competitions submit -c m5-forecasting-accuracy -f submissions/submission_kmean.csv -m \"Mean final 30 days\"`"
   ]
  }
 ],
 "metadata": {
  "kernelspec": {
   "display_name": "Python 3",
   "language": "python",
   "name": "python3"
  },
  "language_info": {
   "codemirror_mode": {
    "name": "ipython",
    "version": 3
   },
   "file_extension": ".py",
   "mimetype": "text/x-python",
   "name": "python",
   "nbconvert_exporter": "python",
   "pygments_lexer": "ipython3",
   "version": "3.7.7"
  }
 },
 "nbformat": 4,
 "nbformat_minor": 1
}
