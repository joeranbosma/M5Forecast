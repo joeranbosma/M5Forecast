{
 "cells": [
  {
   "cell_type": "code",
   "execution_count": 1,
   "metadata": {
    "scrolled": true
   },
   "outputs": [
    {
     "name": "stdout",
     "output_type": "stream",
     "text": [
      "/Users/joeranbosma/stack/Projects/M5Forecast\n"
     ]
    }
   ],
   "source": [
    "cd .."
   ]
  },
  {
   "cell_type": "code",
   "execution_count": 27,
   "metadata": {},
   "outputs": [],
   "source": [
    "# basic imports\n",
    "import os\n",
    "import numpy as np\n",
    "import pandas as pd\n",
    "from tqdm import tqdm as tqdm\n",
    "import matplotlib.pyplot as plt\n",
    "\n",
    "# tensorflow imports\n",
    "from tensorflow.keras.layers import Input, Dense, Conv1D, MaxPooling1D, Reshape, concatenate, Flatten\n",
    "from tensorflow.keras.models import Model\n",
    "from tensorflow.keras import backend as K\n",
    "\n",
    "# own imports\n",
    "from flow import load_data, select_dates, sales_to_money, select_final_day, create_submission, select_day_nums\n",
    "from evaluation import Referee, RapidReferee, CrossValiDataGenerator\n",
    "from agent import KDayMeanTimesWeeklyPattern, AggregateAgent\n",
    "from train import BatchCreator, Logger, make_loss"
   ]
  },
  {
   "cell_type": "code",
   "execution_count": 3,
   "metadata": {},
   "outputs": [],
   "source": [
    "os.environ['DATA_DIR'] = 'data/'\n",
    "os.environ['SUB_DIR'] = 'submissions/'\n",
    "os.environ['KMP_DUPLICATE_LIB_OK'] = 'True'  # for MacOS TF bug\n",
    "\n",
    "# General settings for figures\n",
    "plt.rcParams[\"figure.figsize\"] = (10, 5)\n",
    "plt.rcParams[\"savefig.format\"] = \"pdf\"\n",
    "plt.rcParams[\"savefig.dpi\"] = 400\n",
    "plt.rcParams[\"savefig.transparent\"] = True\n",
    "plt.rcParams.update({'font.size': 13})  # 12, 16\n",
    "plt.rcParams[\"savefig.bbox\"] = 'tight'"
   ]
  },
  {
   "cell_type": "markdown",
   "metadata": {},
   "source": [
    "# Top Down for M5Forecast - Accuracy - Multi input\n",
    "\n",
    "The proof of concept to use a 1D CNN to predict aggregated store sales was done in `top-down-stores-proof-of-concept.ipynb`. To this the level 3 WRMSSE as training loss was added in `top-down-stores-wrmsse-loss.ipynb`. Here, more advanced pipelines are investigated, specifically with multiple inputs for the network. \n",
    "\n",
    "The aggregated sales of the stores are predicted directly by the model, instead of calculating the sales by aggregating product-level predictions.  \n"
   ]
  },
  {
   "cell_type": "markdown",
   "metadata": {},
   "source": [
    "To convey which information should flow where, the `features` can either be a list of column names (single input), or a dictionary of columns names. For example:\n",
    "\n",
    "```\n",
    "features = {\n",
    "    'inp_cnn': ['CA_1', 'CA_2', 'CA_3', 'CA_4', 'TX_1', 'TX_2', 'TX_3', 'WI_1', 'WI_2', 'WI_3'],\n",
    "    'inp_mlp': ['wday_%d'%d for d in range(1, 1+7)]\n",
    "}\n",
    "```\n",
    "\n",
    "Feeds the aggregated sales to the convolutional network (for which the Input should be named `inp_cnn`) and the one-hot encoded day of the week is send to the Dense part of the network. "
   ]
  },
  {
   "cell_type": "code",
   "execution_count": 6,
   "metadata": {},
   "outputs": [
    {
     "name": "stdout",
     "output_type": "stream",
     "text": [
      "Calculating weights for each level...\n",
      "Calculating scale for each level...\n",
      "Finished setup.\n"
     ]
    }
   ],
   "source": [
    "# Load data\n",
    "calendar, sales_train_validation, sell_prices = load_data()\n",
    "\n",
    "# Set up generator\n",
    "cv_generator = CrossValiDataGenerator(sales_train_validation)\n",
    "sales_train, sales_true = cv_generator.get_train_val_split(fold=10, train_size=-1)\n",
    "\n",
    "# create referee for fold 10\n",
    "ref = Referee(sales_true, sales_train, sell_prices, calendar)"
   ]
  },
  {
   "cell_type": "markdown",
   "metadata": {},
   "source": [
    "## Extend pipeline with information about day of the week"
   ]
  },
  {
   "cell_type": "code",
   "execution_count": 7,
   "metadata": {},
   "outputs": [],
   "source": [
    "def preprocess_wday(sales, prices=None, calendar=None, norm=None):\n",
    "    \"\"\"Convert sales to a suitable format for the BatchCreator\"\"\"\n",
    "    \n",
    "    # Calculate aggregated sales\n",
    "    df = sales.groupby(['store_id']).sum()\n",
    "    \n",
    "    # Transpose sales such that d_num_start, ... is the index\n",
    "    df = df.T\n",
    "    \n",
    "    # Normalize sales\n",
    "    if norm is None:\n",
    "        norm = df.max().max()\n",
    "    df /= norm\n",
    "    \n",
    "    # Include weekday\n",
    "    wday = df.apply(lambda row: calendar[calendar.d == row.name].wday.values[0], axis=1)\n",
    "    wday_onehot = pd.get_dummies(wday, prefix='wday')\n",
    "    \n",
    "    # merge with dataset\n",
    "    df = pd.merge(wday_onehot, df, left_index=True, right_index=True)\n",
    "    \n",
    "    features = list(df.columns)\n",
    "    return df, norm"
   ]
  },
  {
   "cell_type": "code",
   "execution_count": 87,
   "metadata": {},
   "outputs": [],
   "source": [
    "# Get suitable train df\n",
    "train_df, train_norm = preprocess_wday(sales_train, sell_prices, calendar)"
   ]
  },
  {
   "cell_type": "code",
   "execution_count": 88,
   "metadata": {},
   "outputs": [],
   "source": [
    "labels = ['CA_1', 'CA_2', 'CA_3', 'CA_4', 'TX_1', 'TX_2', 'TX_3', 'WI_1', 'WI_2', 'WI_3']\n",
    "features = {\n",
    "    'inp_cnn': labels,\n",
    "    'inp_mlp': ['wday_%d'%d for d in range(1, 1+7)]\n",
    "}\n",
    "\n",
    "# Set up batch creator\n",
    "window_in, window_out = 28, 28\n",
    "batch_creator = BatchCreator(df=train_df, features=features, labels=labels, \n",
    "                             window_in=window_in, window_out=window_out)\n",
    "\n",
    "# Test if batch creator works\n",
    "# x, y = next(batch_creator.flow())\n",
    "# print(\"Input[0]: {}, output[0]: {}\".format(x[0], y[0]))\n",
    "# batch_creator.on_epoch_end()  # reset generator"
   ]
  },
  {
   "cell_type": "code",
   "execution_count": 99,
   "metadata": {},
   "outputs": [
    {
     "name": "stdout",
     "output_type": "stream",
     "text": [
      "Model: \"model\"\n",
      "__________________________________________________________________________________________________\n",
      "Layer (type)                    Output Shape         Param #     Connected to                     \n",
      "==================================================================================================\n",
      "inp_cnn (InputLayer)            [(None, 28, 10)]     0                                            \n",
      "__________________________________________________________________________________________________\n",
      "reshape (Reshape)               (None, 280, 1)       0           inp_cnn[0][0]                    \n",
      "__________________________________________________________________________________________________\n",
      "conv1d (Conv1D)                 (None, 280, 8)       32          reshape[0][0]                    \n",
      "__________________________________________________________________________________________________\n",
      "conv1d_1 (Conv1D)               (None, 280, 16)      400         conv1d[0][0]                     \n",
      "__________________________________________________________________________________________________\n",
      "conv1d_2 (Conv1D)               (None, 280, 32)      1568        conv1d_1[0][0]                   \n",
      "__________________________________________________________________________________________________\n",
      "conv1d_3 (Conv1D)               (None, 280, 1)       33          conv1d_2[0][0]                   \n",
      "__________________________________________________________________________________________________\n",
      "inp_mlp (InputLayer)            [(None, 28, 7)]      0                                            \n",
      "__________________________________________________________________________________________________\n",
      "flatten (Flatten)               (None, 280)          0           conv1d_3[0][0]                   \n",
      "__________________________________________________________________________________________________\n",
      "flatten_1 (Flatten)             (None, 196)          0           inp_mlp[0][0]                    \n",
      "__________________________________________________________________________________________________\n",
      "concatenate (Concatenate)       (None, 476)          0           flatten[0][0]                    \n",
      "                                                                 flatten_1[0][0]                  \n",
      "__________________________________________________________________________________________________\n",
      "dense (Dense)                   (None, 512)          244224      concatenate[0][0]                \n",
      "__________________________________________________________________________________________________\n",
      "output (Dense)                  (None, 280)          143640      dense[0][0]                      \n",
      "__________________________________________________________________________________________________\n",
      "reshape_1 (Reshape)             (None, 28, 10)       0           output[0][0]                     \n",
      "==================================================================================================\n",
      "Total params: 389,897\n",
      "Trainable params: 389,897\n",
      "Non-trainable params: 0\n",
      "__________________________________________________________________________________________________\n"
     ]
    }
   ],
   "source": [
    "from tensorflow.keras.layers import Flatten, concatenate\n",
    "\n",
    "def get_model(inp_shape_cnn, inp_shape_mlp, out_shape, loss=\"MSE\"):\n",
    "    # clear previous sessions\n",
    "    K.clear_session()\n",
    "\n",
    "    # add first layer with correct input size\n",
    "    inp_cnn = Input(shape=inp_shape_cnn, name=\"inp_cnn\")\n",
    "    x = Reshape((np.prod(inp_shape_cnn), 1))(inp_cnn)\n",
    "    \n",
    "    x = Conv1D( 8, kernel_size=3, padding=\"same\", activation=\"relu\")(x)\n",
    "    x = Conv1D(16, kernel_size=3, padding=\"same\", activation=\"relu\")(x)\n",
    "    x = Conv1D(32, kernel_size=3, padding=\"same\", activation=\"relu\")(x)\n",
    "    x = Conv1D( 1, kernel_size=1, activation=\"relu\")(x)\n",
    "    x = Flatten()(x)\n",
    "    \n",
    "    inp_mlp = Input(shape=inp_shape_mlp, name=\"inp_mlp\")\n",
    "    y = Flatten()(inp_mlp)\n",
    "    y = concatenate([x, y])\n",
    "    y = Dense(512, activation=\"relu\")(y)\n",
    "    out = Dense(np.prod(out_shape), activation=\"linear\", name=\"output\")(y)\n",
    "    out = Reshape(out_shape)(out)\n",
    "    \n",
    "    model = Model(inputs=[inp_cnn, inp_mlp], outputs=out)\n",
    "\n",
    "    model.compile(loss=loss, optimizer=\"adam\", metrics=[loss])\n",
    "    \n",
    "    return model\n",
    "\n",
    "model = get_model(inp_shape_cnn=(window_in, len(features[\"inp_cnn\"])), \n",
    "                  inp_shape_mlp=(window_in, len(features[\"inp_mlp\"])),\n",
    "                  out_shape=(window_out, batch_creator.n_labels), \n",
    "                   loss=make_loss(ref, train_norm=train_norm))\n",
    "model.summary()"
   ]
  },
  {
   "cell_type": "code",
   "execution_count": 100,
   "metadata": {},
   "outputs": [
    {
     "data": {
      "image/png": "[encoded data removed]",
      "text/plain": [
       "<Figure size 720x360 with 1 Axes>"
      ]
     },
     "metadata": {
      "needs_background": "light"
     },
     "output_type": "display_data"
    },
    {
     "name": "stdout",
     "output_type": "stream",
     "text": [
      "\b\b\b\b\b\b\b\b\b\b\b\b\b\b\b\b\b\b\b\b\b\b\b\b\b\b\b\b\b\b\b\b\b\b\b\b\b\b\b\b\b\b\b\b\b\b\b\b\b\b\b\b\b\b\b\b\b\b\b\b\b\b\b\b\b\b\b\b\b\b\b\b\b\b\b\b\b\b\b\b\b\b\b\b\r",
      "7/7 [==============================] - 2s 289ms/step - loss: 2.3057 - WRMSSE_store: 2.3057\n"
     ]
    }
   ],
   "source": [
    "logger = Logger(ref=ref, cv_generator=cv_generator, prices=sell_prices, calendar=calendar,\n",
    "                train_norm=train_norm, features=features, preprocess_func=preprocess_wday, \n",
    "                agent=AggregateAgent(model=model, train_norm=train_norm, features=features, \n",
    "                                     labels=features['inp_cnn'], window_in=window_in),\n",
    "                folds = np.arange(1, 1+10), plot_loss_max=1.5)\n",
    "\n",
    "history = model.fit(batch_creator.flow(), epochs=50,\n",
    "                    steps_per_epoch=batch_creator.n // batch_creator.batch_size,\n",
    "                    callbacks=[logger])"
   ]
  },
  {
   "cell_type": "markdown",
   "metadata": {},
   "source": [
    "## Evaluate performance"
   ]
  },
  {
   "cell_type": "code",
   "execution_count": 101,
   "metadata": {},
   "outputs": [
    {
     "name": "stdout",
     "output_type": "stream",
     "text": [
      "Mean WRMSSE level 3: 4.27629783220774\n"
     ]
    },
    {
     "data": {
      "image/png": "[encoded data removed]",
      "text/plain": [
       "<Figure size 720x360 with 1 Axes>"
      ]
     },
     "metadata": {
      "needs_background": "light"
     },
     "output_type": "display_data"
    }
   ],
   "source": [
    "# evaluate model on final 10 folds\n",
    "WRMSSE_mean, WRMSSE_list = logger.validate()\n",
    "print(\"Mean WRMSSE level 3: {}\".format(WRMSSE_mean))\n",
    "\n",
    "f, ax = plt.subplots(1, 1)\n",
    "ax.plot(np.arange(len(WRMSSE_list))+1, WRMSSE_list, '.:', ms=15)\n",
    "ax.set_xlabel(\"Fold\")\n",
    "ax.set_title(\"Level 3 of WRMSSE\")\n",
    "plt.show()"
   ]
  },
  {
   "cell_type": "code",
   "execution_count": null,
   "metadata": {},
   "outputs": [],
   "source": []
  }
 ],
 "metadata": {
  "kernelspec": {
   "display_name": "Python 3",
   "language": "python",
   "name": "python3"
  },
  "language_info": {
   "codemirror_mode": {
    "name": "ipython",
    "version": 3
   },
   "file_extension": ".py",
   "mimetype": "text/x-python",
   "name": "python",
   "nbconvert_exporter": "python",
   "pygments_lexer": "ipython3",
   "version": "3.5.6"
  }
 },
 "nbformat": 4,
 "nbformat_minor": 4
}
