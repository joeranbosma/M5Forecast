{
 "cells": [
  {
   "cell_type": "code",
   "execution_count": 1,
   "metadata": {
    "scrolled": true
   },
   "outputs": [
    {
     "name": "stdout",
     "output_type": "stream",
     "text": [
      "/Users/joeranbosma/stack/Projects/M5Forecast\n"
     ]
    }
   ],
   "source": [
    "cd .."
   ]
  },
  {
   "cell_type": "code",
   "execution_count": 2,
   "metadata": {},
   "outputs": [],
   "source": [
    "# basic imports\n",
    "import os\n",
    "import numpy as np\n",
    "import pandas as pd\n",
    "from tqdm import tqdm as tqdm\n",
    "import matplotlib.pyplot as plt\n",
    "\n",
    "# tensorflow imports\n",
    "from tensorflow.keras.layers import Input, Dense, Conv1D, MaxPooling1D, Flatten, Reshape\n",
    "from tensorflow.keras.models import Model\n",
    "from tensorflow.keras import backend as K\n",
    "\n",
    "# own imports\n",
    "from flow import load_data, select_dates, sales_to_money, select_final_day, create_submission, select_day_nums\n",
    "from evaluation import Referee, RapidReferee, CrossValiDataGenerator\n",
    "from agent import KDayMeanTimesWeeklyPattern, AggregateAgent\n",
    "from train import BatchCreator, Logger"
   ]
  },
  {
   "cell_type": "code",
   "execution_count": 3,
   "metadata": {},
   "outputs": [],
   "source": [
    "os.environ['DATA_DIR'] = 'data/'\n",
    "os.environ['SUB_DIR'] = 'submissions/'\n",
    "os.environ['KMP_DUPLICATE_LIB_OK'] = 'True'  # for MacOS TF bug\n",
    "\n",
    "# General settings for figures\n",
    "plt.rcParams[\"figure.figsize\"] = (10, 5)\n",
    "plt.rcParams[\"savefig.format\"] = \"pdf\"\n",
    "plt.rcParams[\"savefig.dpi\"] = 400\n",
    "plt.rcParams[\"savefig.transparent\"] = True\n",
    "plt.rcParams.update({'font.size': 13})  # 12, 16\n",
    "plt.rcParams[\"savefig.bbox\"] = 'tight'"
   ]
  },
  {
   "cell_type": "markdown",
   "metadata": {},
   "source": [
    "# Top Down for M5Forecast - Accuracy - WRMSSE as loss function\n",
    "This notebook investigates the Top Down approach for the M5Forecast - Accuracy challenge. Here, the aggregated sales of the stores are predicted directly by the model, instead of calculating the sales by aggregating product-level predictions.  \n",
    "\n",
    "To match the training objective and validation metric, the WRMSSE is used as loss function. For simplicity, only the WRMSSE of the store level is computed. "
   ]
  },
  {
   "cell_type": "markdown",
   "metadata": {},
   "source": [
    "The WRMSSE, for a single level, is calculated as:  \n",
    "\n",
    "$$\n",
    "WRMSSE = \\sum_{series} w_i \\cdot RMSSE = \\sum_{series} w_i \\cdot \\sqrt{\\frac{1}{h}\\frac{\\sum_{days} E^2}{S_i}}\n",
    "$$\n",
    "\n",
    "Where $E$ denotes the prediction error, $Y_t - \\hat Y_t$, and $S$ is a constant per series, computed as described in the M5 Competitors guide.  \n",
    "\n",
    "During training, the sales are normalised. Let $c$ be the training normalisation constant for each series. Then $E^2 = c^2 \\cdot E'^2$, with $E'$ the normalised prediction error.   \n",
    "\n",
    "$$\n",
    "WRMSSE = \\sum_{series} w_i \\cdot \\sqrt{\\frac{1}{h}\\frac{c^2\\cdot\\sum_{days} E'^2}{S_i}}\\\\\n",
    "= \\sum_{series} w_i \\cdot \\sqrt{\\frac{c^2}{S_i}}\\cdot \\sqrt{\\frac{1}{h}\\sum_{days} E'^2}\\\\\n",
    "= \\sum_{series} w_i \\cdot \\frac{c}{\\sqrt{S_i}}\\cdot RMSE'\n",
    "$$"
   ]
  },
  {
   "cell_type": "code",
   "execution_count": 4,
   "metadata": {},
   "outputs": [
    {
     "name": "stdout",
     "output_type": "stream",
     "text": [
      "Calculating weights for each level...\n",
      "Calculating scale for each level...\n",
      "Finished setup.\n"
     ]
    }
   ],
   "source": [
    "# Load data\n",
    "calendar, sales_train_validation, sell_prices = load_data()\n",
    "\n",
    "# Set up generator\n",
    "cv_generator = CrossValiDataGenerator(sales_train_validation)\n",
    "sales_train, sales_true = cv_generator.get_train_val_split(fold=10, train_size=-1)\n",
    "\n",
    "# create referee for fold 10\n",
    "ref = Referee(sales_true, sales_train, sell_prices, calendar)"
   ]
  },
  {
   "cell_type": "code",
   "execution_count": 5,
   "metadata": {},
   "outputs": [],
   "source": [
    "def preprocess(sales, prices=None, calendar=None, norm=None):\n",
    "    \"\"\"Convert sales to a suitable format for the BatchCreator\"\"\"\n",
    "    # prices and calendar inputs are for compatibility\n",
    "    \n",
    "    # Calculate aggregated sales\n",
    "    df = sales.groupby(['store_id']).sum()\n",
    "    \n",
    "    # Transpose sales such that d_num_start, ... is the index\n",
    "    df = df.T\n",
    "    \n",
    "    # Normalize\n",
    "    if norm is None:\n",
    "        norm = df.max().max()\n",
    "    df /= norm\n",
    "    \n",
    "    return df, norm"
   ]
  },
  {
   "cell_type": "code",
   "execution_count": 6,
   "metadata": {},
   "outputs": [
    {
     "name": "stdout",
     "output_type": "stream",
     "text": [
      "Input shape: (32, 28, 10), output shape: (32, 28, 10)\n"
     ]
    }
   ],
   "source": [
    "# Get suitable train df\n",
    "train_df, train_norm = preprocess(sales_train)\n",
    "features = train_df.columns\n",
    "\n",
    "# Set up batch creator\n",
    "window_in, window_out = 28, 28\n",
    "batch_creator = BatchCreator(df=train_df, features=features, labels=features, \n",
    "                             window_in=window_in, window_out=window_out)\n",
    "\n",
    "# Test if batch creator works\n",
    "x, y = next(batch_creator.flow())\n",
    "print(\"Input shape: {}, output shape: {}\".format(x.shape, y.shape))\n",
    "batch_creator.on_epoch_end()  # reset generator"
   ]
  },
  {
   "cell_type": "code",
   "execution_count": 7,
   "metadata": {},
   "outputs": [
    {
     "name": "stdout",
     "output_type": "stream",
     "text": [
      "Model: \"model\"\n",
      "_________________________________________________________________\n",
      "Layer (type)                 Output Shape              Param #   \n",
      "=================================================================\n",
      "input (InputLayer)           [(None, 28, 10)]          0         \n",
      "_________________________________________________________________\n",
      "reshape (Reshape)            (None, 280, 1)            0         \n",
      "_________________________________________________________________\n",
      "conv1d (Conv1D)              (None, 280, 8)            32        \n",
      "_________________________________________________________________\n",
      "conv1d_1 (Conv1D)            (None, 280, 16)           400       \n",
      "_________________________________________________________________\n",
      "conv1d_2 (Conv1D)            (None, 280, 32)           1568      \n",
      "_________________________________________________________________\n",
      "output (Conv1D)              (None, 280, 1)            33        \n",
      "_________________________________________________________________\n",
      "reshape_1 (Reshape)          (None, 28, 10)            0         \n",
      "=================================================================\n",
      "Total params: 2,033\n",
      "Trainable params: 2,033\n",
      "Non-trainable params: 0\n",
      "_________________________________________________________________\n"
     ]
    }
   ],
   "source": [
    "def get_model(inp_shape, out_shape, loss='MSE'):\n",
    "    # clear previous sessions\n",
    "    K.clear_session()\n",
    "\n",
    "    # add first layer with correct input size\n",
    "    inp = Input(shape=inp_shape, name=\"input\")\n",
    "    x = Reshape((np.prod(inp_shape), 1))(inp)\n",
    "    \n",
    "    x = Conv1D( 8, kernel_size=3, padding=\"same\", activation='relu')(x)\n",
    "    x = Conv1D(16, kernel_size=3, padding=\"same\", activation='relu')(x)\n",
    "    x = Conv1D(32, kernel_size=3, padding=\"same\", activation='relu')(x)\n",
    "\n",
    "    out = Conv1D(1, kernel_size=1, activation='linear', name='output')(x)\n",
    "    out = Reshape(out_shape)(out)\n",
    "    \n",
    "    model = Model(inputs=inp, outputs=out)\n",
    "\n",
    "    model.compile(loss=loss, optimizer='adam', metrics=['MSE', loss])\n",
    "    \n",
    "    return model\n",
    "\n",
    "model = get_model(inp_shape=(window_in, batch_creator.n_features), \n",
    "                  out_shape=(window_out, batch_creator.n_labels))\n",
    "model.summary()"
   ]
  },
  {
   "cell_type": "markdown",
   "metadata": {},
   "source": [
    "$$\n",
    "WRMSSE = \\sum_{series} w_i \\cdot \\sqrt{\\frac{1}{h}\\frac{c^2\\cdot\\sum_{days} E'^2}{S}}\\\\\n",
    "= \\sum_{series} w_i \\cdot \\sqrt{\\frac{c^2}{S}}\\cdot \\sqrt{\\frac{1}{h}\\sum_{days} E'^2}\\\\\n",
    "= \\sum_{series} w_i \\cdot \\frac{c}{\\sqrt{S}}\\cdot MSE'\n",
    "$$\n",
    "When calculating the loss function, `y_true` and `y_pred` are $(28, 10)$ vectors. "
   ]
  },
  {
   "cell_type": "code",
   "execution_count": 8,
   "metadata": {},
   "outputs": [
    {
     "data": {
      "text/plain": [
       "store_id\n",
       "CA_1    1.327991\n",
       "CA_2    1.368305\n",
       "CA_3    1.695968\n",
       "CA_4    1.949779\n",
       "TX_1    1.313764\n",
       "TX_2    1.221120\n",
       "TX_3    1.699876\n",
       "WI_1    1.210031\n",
       "WI_2    1.283828\n",
       "WI_3    1.012163\n",
       "dtype: float64"
      ]
     },
     "execution_count": 8,
     "metadata": {},
     "output_type": "execute_result"
    }
   ],
   "source": [
    "scaling = ref.weights[3] * train_norm / (ref.scales[3] ** (1/2))\n",
    "scaling"
   ]
  },
  {
   "cell_type": "code",
   "execution_count": 9,
   "metadata": {},
   "outputs": [],
   "source": [
    "import tensorflow.keras.backend as K\n",
    "import tensorflow as tf\n",
    "\n",
    "def make_loss(ref):\n",
    "    # calculate scaling constant for each series\n",
    "    scaling = ref.weights[3] * train_norm / (ref.scales[3] ** (1/2))\n",
    "    # convert to  array\n",
    "    scaling = tf.Variable(scaling.values, dtype=tf.float32)\n",
    "    def WRMSSE_store(y_true, y_pred):\n",
    "        # calculate squared prediction error\n",
    "        SE = K.square(y_pred - y_true)\n",
    "        # Calculate mean of daily prediction errors, so keep list of series\n",
    "        MSE = K.mean(SE, axis=0)\n",
    "        # apply scaling\n",
    "        scaled_MSE = MSE * scaling\n",
    "        # sum\n",
    "        return K.sum(scaled_MSE)\n",
    "    return WRMSSE_store\n",
    "\n",
    "WRMSSE_store_loss = make_loss(ref)"
   ]
  },
  {
   "cell_type": "code",
   "execution_count": 10,
   "metadata": {},
   "outputs": [
    {
     "name": "stdout",
     "output_type": "stream",
     "text": [
      "Model: \"model\"\n",
      "_________________________________________________________________\n",
      "Layer (type)                 Output Shape              Param #   \n",
      "=================================================================\n",
      "input (InputLayer)           [(None, 28, 10)]          0         \n",
      "_________________________________________________________________\n",
      "reshape (Reshape)            (None, 280, 1)            0         \n",
      "_________________________________________________________________\n",
      "conv1d (Conv1D)              (None, 280, 8)            32        \n",
      "_________________________________________________________________\n",
      "conv1d_1 (Conv1D)            (None, 280, 16)           400       \n",
      "_________________________________________________________________\n",
      "conv1d_2 (Conv1D)            (None, 280, 32)           1568      \n",
      "_________________________________________________________________\n",
      "output (Conv1D)              (None, 280, 1)            33        \n",
      "_________________________________________________________________\n",
      "reshape_1 (Reshape)          (None, 28, 10)            0         \n",
      "=================================================================\n",
      "Total params: 2,033\n",
      "Trainable params: 2,033\n",
      "Non-trainable params: 0\n",
      "_________________________________________________________________\n"
     ]
    }
   ],
   "source": [
    "model = get_model(inp_shape=(window_in, batch_creator.n_features), \n",
    "                  out_shape=(window_out, batch_creator.n_labels),\n",
    "                  loss=WRMSSE_store_loss)\n",
    "model.summary()"
   ]
  },
  {
   "cell_type": "code",
   "execution_count": 11,
   "metadata": {},
   "outputs": [
    {
     "data": {
      "image/png": "[encoded data removed]",
      "text/plain": [
       "<Figure size 720x360 with 1 Axes>"
      ]
     },
     "metadata": {
      "needs_background": "light"
     },
     "output_type": "display_data"
    },
    {
     "name": "stdout",
     "output_type": "stream",
     "text": [
      "\b\b\b\b\b\b\b\b\b\b\b\b\b\b\b\b\b\b\b\b\b\b\b\b\b\b\b\b\b\b\b\b\b\b\b\b\b\b\b\b\b\b\b\b\b\b\b\b\b\b\b\b\b\b\b\b\b\b\b\b\b\b\b\b\b\b\b\b\b\b\b\b\b\b\b\b\b\b\b\b\b\b\b\b\b\b\b\b\b\b\b\b\b\b\b\b\b\b\b\b\r",
      "49/49 [==============================] - 6s 119ms/step - loss: 1.0813 - MSE: 0.0028 - WRMSSE_store: 1.0813\n"
     ]
    }
   ],
   "source": [
    "logger = Logger(ref=ref, cv_generator=cv_generator, train_norm=train_norm, features=features,\n",
    "                agent=AggregateAgent(model=model, train_norm=train_norm, features=features, window_in=28),\n",
    "                preprocess_func=preprocess, folds = np.arange(1, 1+10), plot_loss_max=1.5)\n",
    "\n",
    "history = model.fit(batch_creator.flow(), epochs=50,\n",
    "                    steps_per_epoch=batch_creator.n // batch_creator.batch_size,\n",
    "                    callbacks=[logger])"
   ]
  },
  {
   "cell_type": "markdown",
   "metadata": {},
   "source": [
    "## CNN - model prediction"
   ]
  },
  {
   "cell_type": "code",
   "execution_count": 12,
   "metadata": {},
   "outputs": [],
   "source": [
    "# select days to predict\n",
    "val_day_nums = select_day_nums(sales_true)\n",
    "# setup agent with trained model\n",
    "agent = AggregateAgent(model=model, train_norm=train_norm, features=features)"
   ]
  },
  {
   "cell_type": "code",
   "execution_count": 13,
   "metadata": {},
   "outputs": [
    {
     "data": {
      "text/html": [
       "<div>\n",
       "<style scoped>\n",
       "    .dataframe tbody tr th:only-of-type {\n",
       "        vertical-align: middle;\n",
       "    }\n",
       "\n",
       "    .dataframe tbody tr th {\n",
       "        vertical-align: top;\n",
       "    }\n",
       "\n",
       "    .dataframe thead th {\n",
       "        text-align: right;\n",
       "    }\n",
       "</style>\n",
       "<table border=\"1\" class=\"dataframe\">\n",
       "  <thead>\n",
       "    <tr style=\"text-align: right;\">\n",
       "      <th>store_id</th>\n",
       "      <th>CA_1</th>\n",
       "      <th>CA_2</th>\n",
       "      <th>CA_3</th>\n",
       "      <th>CA_4</th>\n",
       "      <th>TX_1</th>\n",
       "      <th>TX_2</th>\n",
       "      <th>TX_3</th>\n",
       "      <th>WI_1</th>\n",
       "      <th>WI_2</th>\n",
       "      <th>WI_3</th>\n",
       "    </tr>\n",
       "  </thead>\n",
       "  <tbody>\n",
       "    <tr>\n",
       "      <th>d_1634</th>\n",
       "      <td>4204.353027</td>\n",
       "      <td>2922.893555</td>\n",
       "      <td>5997.525391</td>\n",
       "      <td>2302.864746</td>\n",
       "      <td>3030.706299</td>\n",
       "      <td>3482.757324</td>\n",
       "      <td>3385.387207</td>\n",
       "      <td>2799.491211</td>\n",
       "      <td>3651.706299</td>\n",
       "      <td>2946.447754</td>\n",
       "    </tr>\n",
       "    <tr>\n",
       "      <th>d_1635</th>\n",
       "      <td>4169.625488</td>\n",
       "      <td>2861.650879</td>\n",
       "      <td>5718.106934</td>\n",
       "      <td>2278.270752</td>\n",
       "      <td>2930.290039</td>\n",
       "      <td>3234.729980</td>\n",
       "      <td>3028.770996</td>\n",
       "      <td>3071.714600</td>\n",
       "      <td>3196.105957</td>\n",
       "      <td>2942.126709</td>\n",
       "    </tr>\n",
       "    <tr>\n",
       "      <th>d_1636</th>\n",
       "      <td>3864.910156</td>\n",
       "      <td>2924.720947</td>\n",
       "      <td>5397.151367</td>\n",
       "      <td>2092.231689</td>\n",
       "      <td>2845.336914</td>\n",
       "      <td>3342.826172</td>\n",
       "      <td>3092.516113</td>\n",
       "      <td>2963.136230</td>\n",
       "      <td>3025.654785</td>\n",
       "      <td>2746.011963</td>\n",
       "    </tr>\n",
       "    <tr>\n",
       "      <th>d_1637</th>\n",
       "      <td>3839.854736</td>\n",
       "      <td>2820.680908</td>\n",
       "      <td>5627.053711</td>\n",
       "      <td>2173.217285</td>\n",
       "      <td>2873.428955</td>\n",
       "      <td>3352.158203</td>\n",
       "      <td>3088.328857</td>\n",
       "      <td>3020.953369</td>\n",
       "      <td>3219.194336</td>\n",
       "      <td>2737.852051</td>\n",
       "    </tr>\n",
       "    <tr>\n",
       "      <th>d_1638</th>\n",
       "      <td>4104.978027</td>\n",
       "      <td>3423.871826</td>\n",
       "      <td>5864.219727</td>\n",
       "      <td>2533.080811</td>\n",
       "      <td>2999.927002</td>\n",
       "      <td>3590.445557</td>\n",
       "      <td>3381.791504</td>\n",
       "      <td>3454.288574</td>\n",
       "      <td>3515.946533</td>\n",
       "      <td>2912.243652</td>\n",
       "    </tr>\n",
       "    <tr>\n",
       "      <th>d_1639</th>\n",
       "      <td>4804.471680</td>\n",
       "      <td>4355.065430</td>\n",
       "      <td>6469.887695</td>\n",
       "      <td>2660.168457</td>\n",
       "      <td>3410.141357</td>\n",
       "      <td>4216.247559</td>\n",
       "      <td>3832.867920</td>\n",
       "      <td>3807.653320</td>\n",
       "      <td>3685.796631</td>\n",
       "      <td>3334.958252</td>\n",
       "    </tr>\n",
       "    <tr>\n",
       "      <th>d_1640</th>\n",
       "      <td>5263.741699</td>\n",
       "      <td>4326.842285</td>\n",
       "      <td>6818.910156</td>\n",
       "      <td>2759.097900</td>\n",
       "      <td>3515.614502</td>\n",
       "      <td>4094.196533</td>\n",
       "      <td>3999.040039</td>\n",
       "      <td>3723.415039</td>\n",
       "      <td>3181.406006</td>\n",
       "      <td>3364.172852</td>\n",
       "    </tr>\n",
       "    <tr>\n",
       "      <th>d_1641</th>\n",
       "      <td>4012.686035</td>\n",
       "      <td>2914.959229</td>\n",
       "      <td>5896.965332</td>\n",
       "      <td>2374.165527</td>\n",
       "      <td>2980.031250</td>\n",
       "      <td>3375.463135</td>\n",
       "      <td>3240.261475</td>\n",
       "      <td>3127.267090</td>\n",
       "      <td>3339.484131</td>\n",
       "      <td>2810.945801</td>\n",
       "    </tr>\n",
       "    <tr>\n",
       "      <th>d_1642</th>\n",
       "      <td>3984.715576</td>\n",
       "      <td>2807.039795</td>\n",
       "      <td>5616.395020</td>\n",
       "      <td>2278.228760</td>\n",
       "      <td>2858.173584</td>\n",
       "      <td>3029.763428</td>\n",
       "      <td>2783.117188</td>\n",
       "      <td>3017.079346</td>\n",
       "      <td>3299.989746</td>\n",
       "      <td>2813.648193</td>\n",
       "    </tr>\n",
       "    <tr>\n",
       "      <th>d_1643</th>\n",
       "      <td>4340.437012</td>\n",
       "      <td>3218.215820</td>\n",
       "      <td>6437.798828</td>\n",
       "      <td>2485.878662</td>\n",
       "      <td>3341.812988</td>\n",
       "      <td>3511.260986</td>\n",
       "      <td>3705.881104</td>\n",
       "      <td>3323.003662</td>\n",
       "      <td>3981.664307</td>\n",
       "      <td>3107.321533</td>\n",
       "    </tr>\n",
       "    <tr>\n",
       "      <th>d_1644</th>\n",
       "      <td>4664.582520</td>\n",
       "      <td>3437.845703</td>\n",
       "      <td>6528.078125</td>\n",
       "      <td>2554.609863</td>\n",
       "      <td>3309.375244</td>\n",
       "      <td>3872.277100</td>\n",
       "      <td>3937.742432</td>\n",
       "      <td>3701.055664</td>\n",
       "      <td>4850.541016</td>\n",
       "      <td>3827.428467</td>\n",
       "    </tr>\n",
       "    <tr>\n",
       "      <th>d_1645</th>\n",
       "      <td>5875.483398</td>\n",
       "      <td>4701.497070</td>\n",
       "      <td>8051.994629</td>\n",
       "      <td>3026.270020</td>\n",
       "      <td>4260.110840</td>\n",
       "      <td>4805.018555</td>\n",
       "      <td>4548.862793</td>\n",
       "      <td>4906.132324</td>\n",
       "      <td>5504.315918</td>\n",
       "      <td>4800.726562</td>\n",
       "    </tr>\n",
       "    <tr>\n",
       "      <th>d_1646</th>\n",
       "      <td>4439.798828</td>\n",
       "      <td>3545.338135</td>\n",
       "      <td>6150.098145</td>\n",
       "      <td>2337.891113</td>\n",
       "      <td>3232.073242</td>\n",
       "      <td>3850.368164</td>\n",
       "      <td>3730.126221</td>\n",
       "      <td>3264.218262</td>\n",
       "      <td>3622.608887</td>\n",
       "      <td>3237.834229</td>\n",
       "    </tr>\n",
       "    <tr>\n",
       "      <th>d_1647</th>\n",
       "      <td>4810.335938</td>\n",
       "      <td>3997.851074</td>\n",
       "      <td>6786.041504</td>\n",
       "      <td>2645.945557</td>\n",
       "      <td>3589.534180</td>\n",
       "      <td>4056.615723</td>\n",
       "      <td>4122.589355</td>\n",
       "      <td>3755.070312</td>\n",
       "      <td>4525.905273</td>\n",
       "      <td>3517.692139</td>\n",
       "    </tr>\n",
       "    <tr>\n",
       "      <th>d_1648</th>\n",
       "      <td>4797.500977</td>\n",
       "      <td>3751.150146</td>\n",
       "      <td>6295.310059</td>\n",
       "      <td>2607.037109</td>\n",
       "      <td>3375.741699</td>\n",
       "      <td>3960.256592</td>\n",
       "      <td>3942.106689</td>\n",
       "      <td>3284.512207</td>\n",
       "      <td>4863.232910</td>\n",
       "      <td>3479.047607</td>\n",
       "    </tr>\n",
       "    <tr>\n",
       "      <th>d_1649</th>\n",
       "      <td>4422.673340</td>\n",
       "      <td>2966.218018</td>\n",
       "      <td>6369.459473</td>\n",
       "      <td>2368.375732</td>\n",
       "      <td>3090.730469</td>\n",
       "      <td>3927.427490</td>\n",
       "      <td>3717.186035</td>\n",
       "      <td>3155.392578</td>\n",
       "      <td>3971.701416</td>\n",
       "      <td>3080.500977</td>\n",
       "    </tr>\n",
       "    <tr>\n",
       "      <th>d_1650</th>\n",
       "      <td>4080.468994</td>\n",
       "      <td>2887.843018</td>\n",
       "      <td>5928.592285</td>\n",
       "      <td>2270.158691</td>\n",
       "      <td>2991.474609</td>\n",
       "      <td>3516.830566</td>\n",
       "      <td>3246.229004</td>\n",
       "      <td>3139.253418</td>\n",
       "      <td>4555.539551</td>\n",
       "      <td>3083.016846</td>\n",
       "    </tr>\n",
       "    <tr>\n",
       "      <th>d_1651</th>\n",
       "      <td>4210.970703</td>\n",
       "      <td>3123.858154</td>\n",
       "      <td>6077.389160</td>\n",
       "      <td>2450.982178</td>\n",
       "      <td>3056.522949</td>\n",
       "      <td>3605.620850</td>\n",
       "      <td>3781.307373</td>\n",
       "      <td>3389.715820</td>\n",
       "      <td>4678.994141</td>\n",
       "      <td>3358.176025</td>\n",
       "    </tr>\n",
       "    <tr>\n",
       "      <th>d_1652</th>\n",
       "      <td>4940.437988</td>\n",
       "      <td>3489.986328</td>\n",
       "      <td>6390.076172</td>\n",
       "      <td>2431.668213</td>\n",
       "      <td>3132.895508</td>\n",
       "      <td>3926.301758</td>\n",
       "      <td>3532.300049</td>\n",
       "      <td>3675.244385</td>\n",
       "      <td>4197.483887</td>\n",
       "      <td>3495.160156</td>\n",
       "    </tr>\n",
       "    <tr>\n",
       "      <th>d_1653</th>\n",
       "      <td>5174.114258</td>\n",
       "      <td>4702.472168</td>\n",
       "      <td>6778.749023</td>\n",
       "      <td>2844.693604</td>\n",
       "      <td>3729.792725</td>\n",
       "      <td>4385.736816</td>\n",
       "      <td>4181.984375</td>\n",
       "      <td>4242.254883</td>\n",
       "      <td>4856.864258</td>\n",
       "      <td>4067.053467</td>\n",
       "    </tr>\n",
       "    <tr>\n",
       "      <th>d_1654</th>\n",
       "      <td>5629.982422</td>\n",
       "      <td>4556.937012</td>\n",
       "      <td>7466.917969</td>\n",
       "      <td>2871.462646</td>\n",
       "      <td>4170.459961</td>\n",
       "      <td>4716.830566</td>\n",
       "      <td>4539.134277</td>\n",
       "      <td>4246.477051</td>\n",
       "      <td>4900.541992</td>\n",
       "      <td>4020.457275</td>\n",
       "    </tr>\n",
       "    <tr>\n",
       "      <th>d_1655</th>\n",
       "      <td>4469.730469</td>\n",
       "      <td>3146.876953</td>\n",
       "      <td>6633.286133</td>\n",
       "      <td>2507.271729</td>\n",
       "      <td>3243.260254</td>\n",
       "      <td>4186.170410</td>\n",
       "      <td>3917.443115</td>\n",
       "      <td>3076.131836</td>\n",
       "      <td>3866.629639</td>\n",
       "      <td>3354.216064</td>\n",
       "    </tr>\n",
       "    <tr>\n",
       "      <th>d_1656</th>\n",
       "      <td>3820.258057</td>\n",
       "      <td>3088.224854</td>\n",
       "      <td>5876.389648</td>\n",
       "      <td>2315.971191</td>\n",
       "      <td>3072.746582</td>\n",
       "      <td>3549.424805</td>\n",
       "      <td>3501.399170</td>\n",
       "      <td>3192.648438</td>\n",
       "      <td>4342.727539</td>\n",
       "      <td>3485.545410</td>\n",
       "    </tr>\n",
       "    <tr>\n",
       "      <th>d_1657</th>\n",
       "      <td>3978.046387</td>\n",
       "      <td>3189.578369</td>\n",
       "      <td>6166.134766</td>\n",
       "      <td>2357.554199</td>\n",
       "      <td>3278.086182</td>\n",
       "      <td>3744.137695</td>\n",
       "      <td>3476.771240</td>\n",
       "      <td>3258.386475</td>\n",
       "      <td>4698.708984</td>\n",
       "      <td>3299.733154</td>\n",
       "    </tr>\n",
       "    <tr>\n",
       "      <th>d_1658</th>\n",
       "      <td>4074.044922</td>\n",
       "      <td>3438.546875</td>\n",
       "      <td>6020.666016</td>\n",
       "      <td>2519.635498</td>\n",
       "      <td>3125.967773</td>\n",
       "      <td>3726.469482</td>\n",
       "      <td>3503.936035</td>\n",
       "      <td>3369.131836</td>\n",
       "      <td>4209.475586</td>\n",
       "      <td>3174.379150</td>\n",
       "    </tr>\n",
       "    <tr>\n",
       "      <th>d_1659</th>\n",
       "      <td>4429.783691</td>\n",
       "      <td>3868.280273</td>\n",
       "      <td>6188.383789</td>\n",
       "      <td>2588.266357</td>\n",
       "      <td>3442.573486</td>\n",
       "      <td>4208.236328</td>\n",
       "      <td>3770.089844</td>\n",
       "      <td>4255.524414</td>\n",
       "      <td>4122.283691</td>\n",
       "      <td>3808.891846</td>\n",
       "    </tr>\n",
       "    <tr>\n",
       "      <th>d_1660</th>\n",
       "      <td>4988.635742</td>\n",
       "      <td>4796.725098</td>\n",
       "      <td>6804.904297</td>\n",
       "      <td>2731.835449</td>\n",
       "      <td>3856.677734</td>\n",
       "      <td>4638.818359</td>\n",
       "      <td>4028.139648</td>\n",
       "      <td>3983.052734</td>\n",
       "      <td>4282.397461</td>\n",
       "      <td>3732.908691</td>\n",
       "    </tr>\n",
       "    <tr>\n",
       "      <th>d_1661</th>\n",
       "      <td>5342.570312</td>\n",
       "      <td>4527.346191</td>\n",
       "      <td>7613.641602</td>\n",
       "      <td>2920.145752</td>\n",
       "      <td>4165.228516</td>\n",
       "      <td>4543.857422</td>\n",
       "      <td>4388.037109</td>\n",
       "      <td>4296.820801</td>\n",
       "      <td>4238.113770</td>\n",
       "      <td>3643.068115</td>\n",
       "    </tr>\n",
       "  </tbody>\n",
       "</table>\n",
       "</div>"
      ],
      "text/plain": [
       "store_id         CA_1         CA_2         CA_3         CA_4         TX_1  \\\n",
       "d_1634    4204.353027  2922.893555  5997.525391  2302.864746  3030.706299   \n",
       "d_1635    4169.625488  2861.650879  5718.106934  2278.270752  2930.290039   \n",
       "d_1636    3864.910156  2924.720947  5397.151367  2092.231689  2845.336914   \n",
       "d_1637    3839.854736  2820.680908  5627.053711  2173.217285  2873.428955   \n",
       "d_1638    4104.978027  3423.871826  5864.219727  2533.080811  2999.927002   \n",
       "d_1639    4804.471680  4355.065430  6469.887695  2660.168457  3410.141357   \n",
       "d_1640    5263.741699  4326.842285  6818.910156  2759.097900  3515.614502   \n",
       "d_1641    4012.686035  2914.959229  5896.965332  2374.165527  2980.031250   \n",
       "d_1642    3984.715576  2807.039795  5616.395020  2278.228760  2858.173584   \n",
       "d_1643    4340.437012  3218.215820  6437.798828  2485.878662  3341.812988   \n",
       "d_1644    4664.582520  3437.845703  6528.078125  2554.609863  3309.375244   \n",
       "d_1645    5875.483398  4701.497070  8051.994629  3026.270020  4260.110840   \n",
       "d_1646    4439.798828  3545.338135  6150.098145  2337.891113  3232.073242   \n",
       "d_1647    4810.335938  3997.851074  6786.041504  2645.945557  3589.534180   \n",
       "d_1648    4797.500977  3751.150146  6295.310059  2607.037109  3375.741699   \n",
       "d_1649    4422.673340  2966.218018  6369.459473  2368.375732  3090.730469   \n",
       "d_1650    4080.468994  2887.843018  5928.592285  2270.158691  2991.474609   \n",
       "d_1651    4210.970703  3123.858154  6077.389160  2450.982178  3056.522949   \n",
       "d_1652    4940.437988  3489.986328  6390.076172  2431.668213  3132.895508   \n",
       "d_1653    5174.114258  4702.472168  6778.749023  2844.693604  3729.792725   \n",
       "d_1654    5629.982422  4556.937012  7466.917969  2871.462646  4170.459961   \n",
       "d_1655    4469.730469  3146.876953  6633.286133  2507.271729  3243.260254   \n",
       "d_1656    3820.258057  3088.224854  5876.389648  2315.971191  3072.746582   \n",
       "d_1657    3978.046387  3189.578369  6166.134766  2357.554199  3278.086182   \n",
       "d_1658    4074.044922  3438.546875  6020.666016  2519.635498  3125.967773   \n",
       "d_1659    4429.783691  3868.280273  6188.383789  2588.266357  3442.573486   \n",
       "d_1660    4988.635742  4796.725098  6804.904297  2731.835449  3856.677734   \n",
       "d_1661    5342.570312  4527.346191  7613.641602  2920.145752  4165.228516   \n",
       "\n",
       "store_id         TX_2         TX_3         WI_1         WI_2         WI_3  \n",
       "d_1634    3482.757324  3385.387207  2799.491211  3651.706299  2946.447754  \n",
       "d_1635    3234.729980  3028.770996  3071.714600  3196.105957  2942.126709  \n",
       "d_1636    3342.826172  3092.516113  2963.136230  3025.654785  2746.011963  \n",
       "d_1637    3352.158203  3088.328857  3020.953369  3219.194336  2737.852051  \n",
       "d_1638    3590.445557  3381.791504  3454.288574  3515.946533  2912.243652  \n",
       "d_1639    4216.247559  3832.867920  3807.653320  3685.796631  3334.958252  \n",
       "d_1640    4094.196533  3999.040039  3723.415039  3181.406006  3364.172852  \n",
       "d_1641    3375.463135  3240.261475  3127.267090  3339.484131  2810.945801  \n",
       "d_1642    3029.763428  2783.117188  3017.079346  3299.989746  2813.648193  \n",
       "d_1643    3511.260986  3705.881104  3323.003662  3981.664307  3107.321533  \n",
       "d_1644    3872.277100  3937.742432  3701.055664  4850.541016  3827.428467  \n",
       "d_1645    4805.018555  4548.862793  4906.132324  5504.315918  4800.726562  \n",
       "d_1646    3850.368164  3730.126221  3264.218262  3622.608887  3237.834229  \n",
       "d_1647    4056.615723  4122.589355  3755.070312  4525.905273  3517.692139  \n",
       "d_1648    3960.256592  3942.106689  3284.512207  4863.232910  3479.047607  \n",
       "d_1649    3927.427490  3717.186035  3155.392578  3971.701416  3080.500977  \n",
       "d_1650    3516.830566  3246.229004  3139.253418  4555.539551  3083.016846  \n",
       "d_1651    3605.620850  3781.307373  3389.715820  4678.994141  3358.176025  \n",
       "d_1652    3926.301758  3532.300049  3675.244385  4197.483887  3495.160156  \n",
       "d_1653    4385.736816  4181.984375  4242.254883  4856.864258  4067.053467  \n",
       "d_1654    4716.830566  4539.134277  4246.477051  4900.541992  4020.457275  \n",
       "d_1655    4186.170410  3917.443115  3076.131836  3866.629639  3354.216064  \n",
       "d_1656    3549.424805  3501.399170  3192.648438  4342.727539  3485.545410  \n",
       "d_1657    3744.137695  3476.771240  3258.386475  4698.708984  3299.733154  \n",
       "d_1658    3726.469482  3503.936035  3369.131836  4209.475586  3174.379150  \n",
       "d_1659    4208.236328  3770.089844  4255.524414  4122.283691  3808.891846  \n",
       "d_1660    4638.818359  4028.139648  3983.052734  4282.397461  3732.908691  \n",
       "d_1661    4543.857422  4388.037109  4296.820801  4238.113770  3643.068115  "
      ]
     },
     "execution_count": 13,
     "metadata": {},
     "output_type": "execute_result"
    }
   ],
   "source": [
    "# predictions\n",
    "sales_pred = agent.predict(train_df, val_day_nums)\n",
    "sales_pred"
   ]
  },
  {
   "cell_type": "code",
   "execution_count": 14,
   "metadata": {},
   "outputs": [
    {
     "name": "stdout",
     "output_type": "stream",
     "text": [
      "Mean WRMSSE level 3: 0.8164540156659891\n"
     ]
    }
   ],
   "source": [
    "# evaluate model on final 10 folds\n",
    "WRMSSE_mean, WRMSSE_list = logger.validate()\n",
    "print(\"Mean WRMSSE level 3: {}\".format(WRMSSE_mean))"
   ]
  },
  {
   "cell_type": "code",
   "execution_count": 15,
   "metadata": {},
   "outputs": [
    {
     "data": {
      "image/png": "[encoded data removed]",
      "text/plain": [
       "<Figure size 720x360 with 1 Axes>"
      ]
     },
     "metadata": {
      "needs_background": "light"
     },
     "output_type": "display_data"
    }
   ],
   "source": [
    "f, ax = plt.subplots(1, 1)\n",
    "ax.plot(np.arange(len(WRMSSE_list))+1, WRMSSE_list, '.:', ms=15)\n",
    "ax.set_xlabel(\"Fold\")\n",
    "ax.set_title(\"Level 3 of WRMSSE\")\n",
    "plt.show()"
   ]
  },
  {
   "cell_type": "markdown",
   "metadata": {},
   "source": [
    "## Keep week order constant"
   ]
  },
  {
   "cell_type": "code",
   "execution_count": 22,
   "metadata": {},
   "outputs": [
    {
     "name": "stdout",
     "output_type": "stream",
     "text": [
      "Model: \"model\"\n",
      "_________________________________________________________________\n",
      "Layer (type)                 Output Shape              Param #   \n",
      "=================================================================\n",
      "input (InputLayer)           [(None, 28, 10)]          0         \n",
      "_________________________________________________________________\n",
      "reshape (Reshape)            (None, 280, 1)            0         \n",
      "_________________________________________________________________\n",
      "conv1d (Conv1D)              (None, 280, 8)            32        \n",
      "_________________________________________________________________\n",
      "conv1d_1 (Conv1D)            (None, 280, 16)           400       \n",
      "_________________________________________________________________\n",
      "conv1d_2 (Conv1D)            (None, 280, 32)           1568      \n",
      "_________________________________________________________________\n",
      "output (Conv1D)              (None, 280, 1)            33        \n",
      "_________________________________________________________________\n",
      "reshape_1 (Reshape)          (None, 28, 10)            0         \n",
      "=================================================================\n",
      "Total params: 2,033\n",
      "Trainable params: 2,033\n",
      "Non-trainable params: 0\n",
      "_________________________________________________________________\n"
     ]
    }
   ],
   "source": [
    "model = get_model(inp_shape=(window_in, batch_creator.n_features), \n",
    "                  out_shape=(window_out, batch_creator.n_labels),\n",
    "                  loss=WRMSSE_store_loss)\n",
    "model.summary()"
   ]
  },
  {
   "cell_type": "code",
   "execution_count": 23,
   "metadata": {},
   "outputs": [],
   "source": [
    "batch_creator.list_start_val_days = np.array([d for d in batch_creator.list_start_val_days if d%7==0])\n",
    "batch_creator.n = len(batch_creator.list_start_val_days)\n",
    "batch_creator.on_epoch_end()"
   ]
  },
  {
   "cell_type": "code",
   "execution_count": 26,
   "metadata": {},
   "outputs": [
    {
     "data": {
      "image/png": "[encoded data removed]",
      "text/plain": [
       "<Figure size 720x360 with 1 Axes>"
      ]
     },
     "metadata": {
      "needs_background": "light"
     },
     "output_type": "display_data"
    },
    {
     "name": "stdout",
     "output_type": "stream",
     "text": [
      "\b\b\b\b\b\b\b\b\b\b\b\b\b\b\b\b\b\b\b\b\b\b\b\b\b\b\b\b\b\b\b\b\b\b\b\b\b\b\b\b\b\b\b\b\b\b\b\b\b\b\b\b\b\b\b\b\b\b\b\b\b\b\b\b\b\b\b\b\b\b\b\b\b\b\b\b\b\b\b\b\b\b\b\b\b\b\b\b\b\b\b\b\b\b\b\b\b\b\r",
      "7/7 [==============================] - 1s 199ms/step - loss: 1.0830 - MSE: 0.0028 - WRMSSE_store: 1.0830\n"
     ]
    }
   ],
   "source": [
    "logger = Logger(ref=ref, cv_generator=cv_generator, train_norm=train_norm, features=features,\n",
    "                agent=AggregateAgent(model=model, train_norm=train_norm, features=features, window_in=window_in),\n",
    "                preprocess_func=preprocess, folds = np.arange(1, 1+10), plot_loss_max=1.5)\n",
    "\n",
    "history = model.fit(batch_creator.flow(), epochs=200,\n",
    "                    steps_per_epoch=batch_creator.n // batch_creator.batch_size,\n",
    "                    callbacks=[logger])"
   ]
  },
  {
   "cell_type": "code",
   "execution_count": 27,
   "metadata": {},
   "outputs": [
    {
     "name": "stdout",
     "output_type": "stream",
     "text": [
      "Mean WRMSSE level 3: 0.8102354179824649\n"
     ]
    },
    {
     "data": {
      "image/png": "[encoded data removed]",
      "text/plain": [
       "<Figure size 720x360 with 1 Axes>"
      ]
     },
     "metadata": {
      "needs_background": "light"
     },
     "output_type": "display_data"
    }
   ],
   "source": [
    "# evaluate model on final 10 folds\n",
    "WRMSSE_mean, WRMSSE_list = logger.validate()\n",
    "print(\"Mean WRMSSE level 3: {}\".format(WRMSSE_mean))\n",
    "\n",
    "f, ax = plt.subplots(1, 1)\n",
    "ax.plot(np.arange(len(WRMSSE_list))+1, WRMSSE_list, '.:', ms=15)\n",
    "ax.set_xlabel(\"Fold\")\n",
    "ax.set_title(\"Level 3 of WRMSSE\")\n",
    "plt.show()"
   ]
  },
  {
   "cell_type": "code",
   "execution_count": null,
   "metadata": {},
   "outputs": [],
   "source": []
  }
 ],
 "metadata": {
  "kernelspec": {
   "display_name": "Python 3",
   "language": "python",
   "name": "python3"
  },
  "language_info": {
   "codemirror_mode": {
    "name": "ipython",
    "version": 3
   },
   "file_extension": ".py",
   "mimetype": "text/x-python",
   "name": "python",
   "nbconvert_exporter": "python",
   "pygments_lexer": "ipython3",
   "version": "3.7.7"
  }
 },
 "nbformat": 4,
 "nbformat_minor": 4
}
