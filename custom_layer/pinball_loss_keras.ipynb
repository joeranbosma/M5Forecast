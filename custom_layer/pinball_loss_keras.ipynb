{
 "cells": [
  {
   "cell_type": "code",
   "execution_count": 1,
   "metadata": {
    "scrolled": true
   },
   "outputs": [
    {
     "name": "stdout",
     "output_type": "stream",
     "text": [
      "/Users/joeranbosma/stack/Projects/M5Forecast\n"
     ]
    }
   ],
   "source": [
    "cd .."
   ]
  },
  {
   "cell_type": "code",
   "execution_count": 2,
   "metadata": {
    "_cell_guid": "b1076dfc-b9ad-4769-8c92-a6c4dae69d19",
    "_uuid": "8f2839f25d086af736a60e9eeb907d3b93b6e0e5",
    "scrolled": true
   },
   "outputs": [
    {
     "name": "stderr",
     "output_type": "stream",
     "text": [
      "/Users/joeranbosma/opt/anaconda3/envs/mlip/lib/python3.7/site-packages/sklearn/utils/__init__.py:4: DeprecationWarning: Using or importing the ABCs from 'collections' instead of from 'collections.abc' is deprecated since Python 3.3,and in 3.9 it will stop working\n",
      "  from collections import Sequence\n",
      "/Users/joeranbosma/opt/anaconda3/envs/mlip/lib/python3.7/site-packages/sklearn/model_selection/_search.py:16: DeprecationWarning: Using or importing the ABCs from 'collections' instead of from 'collections.abc' is deprecated since Python 3.3,and in 3.9 it will stop working\n",
      "  from collections import Mapping, namedtuple, defaultdict, Sequence\n"
     ]
    },
    {
     "name": "stdout",
     "output_type": "stream",
     "text": [
      "data/.DS_Store\n",
      "data/empty_pred.csv\n",
      "data/pred_skeleton.csv\n",
      "data/calendar.csv\n",
      "data/sales_train_money.csv\n",
      "data/sell_prices.csv\n",
      "data/sales_train_validation.csv\n",
      "data/sample_submission.csv\n",
      "data/prep/converted_sales_level_12.csv\n",
      "data/prep/converted_sales_level_11.csv\n",
      "data/prep/converted_sales_level_10.csv\n",
      "data/prep/converted_sales_all.csv\n",
      "data/prep/norm_level_11.csv\n",
      "data/prep/.DS_Store\n",
      "data/prep/norm_level_10.csv\n",
      "data/prep/norm_level_12.csv\n",
      "data/prep/norm_level_1.csv\n",
      "data/prep/norm_level_2.csv\n",
      "data/prep/norm_level_3.csv\n",
      "data/prep/norm_level_7.csv\n",
      "data/prep/norm_level_6.csv\n",
      "data/prep/converted_sales_level_9.csv\n",
      "data/prep/norm_level_4.csv\n",
      "data/prep/norm_level_5.csv\n",
      "data/prep/converted_sales_level_8.csv\n",
      "data/prep/converted_sales_level_5.csv\n",
      "data/prep/norm_level_8.csv\n",
      "data/prep/norm_level_9.csv\n",
      "data/prep/converted_sales_level_4.csv\n",
      "data/prep/converted_sales_level_6.csv\n",
      "data/prep/converted_sales_level_7.csv\n",
      "data/prep/converted_sales_level_3.csv\n",
      "data/prep/norm_all.csv\n",
      "data/prep/converted_sales_level_2.csv\n",
      "data/prep/converted_sales_level_1.csv\n"
     ]
    }
   ],
   "source": [
    "# This Python 3 environment comes with many helpful analytics libraries installed\n",
    "# It is defined by the kaggle/python docker image: https://github.com/kaggle/docker-python\n",
    "# For example, here's several helpful packages to load in \n",
    "\n",
    "import numpy as np # linear algebra\n",
    "import pandas as pd # data processing, CSV file I/O (e.g. pd.read_csv)\n",
    "import os, gc\n",
    "import matplotlib.pyplot as plt\n",
    "\n",
    "from sklearn.model_selection import train_test_split\n",
    "from tensorflow.keras.layers import Dense, Dropout, LSTM, Embedding, LeakyReLU\n",
    "from tensorflow.keras.layers import Flatten, Input, BatchNormalization\n",
    "from tensorflow.keras.layers import Conv2D, MaxPooling2D, concatenate, Reshape, ReLU\n",
    "from tensorflow.keras.models import Model\n",
    "from tensorflow.keras.optimizers import Adam\n",
    "from tensorflow.keras import backend as K\n",
    "\n",
    "# Input data files are available in the \"../input/\" directory.\n",
    "# For example, running this (by clicking run or pressing Shift+Enter) will list all files under the input directory\n",
    "\n",
    "import os\n",
    "os.environ['DATA_DIR'] = 'data/'\n",
    "os.environ['SUB_DIR'] = 'submissions_uncertainty/'\n",
    "for dirname, _, filenames in os.walk(os.environ['DATA_DIR']):\n",
    "    for filename in filenames:\n",
    "        print(os.path.join(dirname, filename))\n",
    "\n",
    "# Hardcode requested quantiles\n",
    "quantiles = [0.005, 0.025, 0.165, 0.25, 0.5, 0.75, 0.835, 0.975, 0.995]\n",
    "\n",
    "# Any results you write to the current directory are saved as output."
   ]
  },
  {
   "cell_type": "code",
   "execution_count": 3,
   "metadata": {},
   "outputs": [],
   "source": [
    "def plot_loss(history):\n",
    "    f, ax = plt.subplots(1, 1, figsize=(18, 6))\n",
    "    ax.plot(history.history['loss'], label='Train')\n",
    "    ax.plot(history.history['val_loss'], label='Validation')\n",
    "    ax.set_ylim(0)\n",
    "    ax.legend()\n",
    "    plt.show()"
   ]
  },
  {
   "cell_type": "markdown",
   "metadata": {},
   "source": [
    "# Pinball Loss function for Keras"
   ]
  },
  {
   "cell_type": "code",
   "execution_count": 4,
   "metadata": {},
   "outputs": [],
   "source": [
    "train_df = pd.read_csv(\"custom_layer/features.csv\", index_col=0)\n",
    "target_df = pd.read_csv(\"custom_layer/targets.csv\", index_col=0)"
   ]
  },
  {
   "cell_type": "code",
   "execution_count": 5,
   "metadata": {
    "scrolled": true
   },
   "outputs": [
    {
     "data": {
      "text/html": [
       "<div>\n",
       "<style scoped>\n",
       "    .dataframe tbody tr th:only-of-type {\n",
       "        vertical-align: middle;\n",
       "    }\n",
       "\n",
       "    .dataframe tbody tr th {\n",
       "        vertical-align: top;\n",
       "    }\n",
       "\n",
       "    .dataframe thead th {\n",
       "        text-align: right;\n",
       "    }\n",
       "</style>\n",
       "<table border=\"1\" class=\"dataframe\">\n",
       "  <thead>\n",
       "    <tr style=\"text-align: right;\">\n",
       "      <th></th>\n",
       "      <th>wday</th>\n",
       "      <th>month</th>\n",
       "      <th>snap_CA</th>\n",
       "      <th>w_1</th>\n",
       "      <th>w_2</th>\n",
       "      <th>w_3</th>\n",
       "      <th>w_4</th>\n",
       "      <th>w_5</th>\n",
       "      <th>w_6</th>\n",
       "      <th>w_7</th>\n",
       "    </tr>\n",
       "    <tr>\n",
       "      <th>date</th>\n",
       "      <th></th>\n",
       "      <th></th>\n",
       "      <th></th>\n",
       "      <th></th>\n",
       "      <th></th>\n",
       "      <th></th>\n",
       "      <th></th>\n",
       "      <th></th>\n",
       "      <th></th>\n",
       "      <th></th>\n",
       "    </tr>\n",
       "  </thead>\n",
       "  <tbody>\n",
       "    <tr>\n",
       "      <th>2011-01-29</th>\n",
       "      <td>1</td>\n",
       "      <td>1</td>\n",
       "      <td>0</td>\n",
       "      <td>1</td>\n",
       "      <td>0</td>\n",
       "      <td>0</td>\n",
       "      <td>0</td>\n",
       "      <td>0</td>\n",
       "      <td>0</td>\n",
       "      <td>0</td>\n",
       "    </tr>\n",
       "    <tr>\n",
       "      <th>2011-01-30</th>\n",
       "      <td>2</td>\n",
       "      <td>1</td>\n",
       "      <td>0</td>\n",
       "      <td>0</td>\n",
       "      <td>1</td>\n",
       "      <td>0</td>\n",
       "      <td>0</td>\n",
       "      <td>0</td>\n",
       "      <td>0</td>\n",
       "      <td>0</td>\n",
       "    </tr>\n",
       "    <tr>\n",
       "      <th>2011-01-31</th>\n",
       "      <td>3</td>\n",
       "      <td>1</td>\n",
       "      <td>0</td>\n",
       "      <td>0</td>\n",
       "      <td>0</td>\n",
       "      <td>1</td>\n",
       "      <td>0</td>\n",
       "      <td>0</td>\n",
       "      <td>0</td>\n",
       "      <td>0</td>\n",
       "    </tr>\n",
       "    <tr>\n",
       "      <th>2011-02-01</th>\n",
       "      <td>4</td>\n",
       "      <td>2</td>\n",
       "      <td>1</td>\n",
       "      <td>0</td>\n",
       "      <td>0</td>\n",
       "      <td>0</td>\n",
       "      <td>1</td>\n",
       "      <td>0</td>\n",
       "      <td>0</td>\n",
       "      <td>0</td>\n",
       "    </tr>\n",
       "    <tr>\n",
       "      <th>2011-02-02</th>\n",
       "      <td>5</td>\n",
       "      <td>2</td>\n",
       "      <td>1</td>\n",
       "      <td>0</td>\n",
       "      <td>0</td>\n",
       "      <td>0</td>\n",
       "      <td>0</td>\n",
       "      <td>1</td>\n",
       "      <td>0</td>\n",
       "      <td>0</td>\n",
       "    </tr>\n",
       "  </tbody>\n",
       "</table>\n",
       "</div>"
      ],
      "text/plain": [
       "            wday  month  snap_CA  w_1  w_2  w_3  w_4  w_5  w_6  w_7\n",
       "date                                                               \n",
       "2011-01-29     1      1        0    1    0    0    0    0    0    0\n",
       "2011-01-30     2      1        0    0    1    0    0    0    0    0\n",
       "2011-01-31     3      1        0    0    0    1    0    0    0    0\n",
       "2011-02-01     4      2        1    0    0    0    1    0    0    0\n",
       "2011-02-02     5      2        1    0    0    0    0    1    0    0"
      ]
     },
     "execution_count": 5,
     "metadata": {},
     "output_type": "execute_result"
    }
   ],
   "source": [
    "train_df.head()"
   ]
  },
  {
   "cell_type": "code",
   "execution_count": 6,
   "metadata": {},
   "outputs": [
    {
     "data": {
      "text/html": [
       "<div>\n",
       "<style scoped>\n",
       "    .dataframe tbody tr th:only-of-type {\n",
       "        vertical-align: middle;\n",
       "    }\n",
       "\n",
       "    .dataframe tbody tr th {\n",
       "        vertical-align: top;\n",
       "    }\n",
       "\n",
       "    .dataframe thead th {\n",
       "        text-align: right;\n",
       "    }\n",
       "</style>\n",
       "<table border=\"1\" class=\"dataframe\">\n",
       "  <thead>\n",
       "    <tr style=\"text-align: right;\">\n",
       "      <th></th>\n",
       "      <th>0.005</th>\n",
       "      <th>0.025</th>\n",
       "      <th>0.165</th>\n",
       "      <th>0.25</th>\n",
       "      <th>0.5</th>\n",
       "      <th>0.75</th>\n",
       "      <th>0.835</th>\n",
       "      <th>0.975</th>\n",
       "      <th>0.995</th>\n",
       "    </tr>\n",
       "    <tr>\n",
       "      <th>date</th>\n",
       "      <th></th>\n",
       "      <th></th>\n",
       "      <th></th>\n",
       "      <th></th>\n",
       "      <th></th>\n",
       "      <th></th>\n",
       "      <th></th>\n",
       "      <th></th>\n",
       "      <th></th>\n",
       "    </tr>\n",
       "  </thead>\n",
       "  <tbody>\n",
       "    <tr>\n",
       "      <th>2011-01-29</th>\n",
       "      <td>0.410956</td>\n",
       "      <td>0.494101</td>\n",
       "      <td>0.630373</td>\n",
       "      <td>0.671720</td>\n",
       "      <td>0.756835</td>\n",
       "      <td>0.843188</td>\n",
       "      <td>0.884852</td>\n",
       "      <td>1.006654</td>\n",
       "      <td>1.097859</td>\n",
       "    </tr>\n",
       "    <tr>\n",
       "      <th>2011-01-30</th>\n",
       "      <td>0.919469</td>\n",
       "      <td>0.992795</td>\n",
       "      <td>1.270255</td>\n",
       "      <td>1.332988</td>\n",
       "      <td>1.504236</td>\n",
       "      <td>1.675052</td>\n",
       "      <td>1.746716</td>\n",
       "      <td>2.014860</td>\n",
       "      <td>2.188142</td>\n",
       "    </tr>\n",
       "    <tr>\n",
       "      <th>2011-01-31</th>\n",
       "      <td>0.790407</td>\n",
       "      <td>0.988427</td>\n",
       "      <td>1.249410</td>\n",
       "      <td>1.322885</td>\n",
       "      <td>1.500305</td>\n",
       "      <td>1.659404</td>\n",
       "      <td>1.720131</td>\n",
       "      <td>1.953909</td>\n",
       "      <td>2.180639</td>\n",
       "    </tr>\n",
       "    <tr>\n",
       "      <th>2011-02-01</th>\n",
       "      <td>0.414008</td>\n",
       "      <td>0.487010</td>\n",
       "      <td>0.623712</td>\n",
       "      <td>0.659987</td>\n",
       "      <td>0.747542</td>\n",
       "      <td>0.837403</td>\n",
       "      <td>0.876519</td>\n",
       "      <td>1.000635</td>\n",
       "      <td>1.067878</td>\n",
       "    </tr>\n",
       "    <tr>\n",
       "      <th>2011-02-02</th>\n",
       "      <td>0.443139</td>\n",
       "      <td>0.511417</td>\n",
       "      <td>0.619042</td>\n",
       "      <td>0.662347</td>\n",
       "      <td>0.756661</td>\n",
       "      <td>0.838183</td>\n",
       "      <td>0.875509</td>\n",
       "      <td>0.997830</td>\n",
       "      <td>1.074211</td>\n",
       "    </tr>\n",
       "  </tbody>\n",
       "</table>\n",
       "</div>"
      ],
      "text/plain": [
       "               0.005     0.025     0.165      0.25       0.5      0.75  \\\n",
       "date                                                                     \n",
       "2011-01-29  0.410956  0.494101  0.630373  0.671720  0.756835  0.843188   \n",
       "2011-01-30  0.919469  0.992795  1.270255  1.332988  1.504236  1.675052   \n",
       "2011-01-31  0.790407  0.988427  1.249410  1.322885  1.500305  1.659404   \n",
       "2011-02-01  0.414008  0.487010  0.623712  0.659987  0.747542  0.837403   \n",
       "2011-02-02  0.443139  0.511417  0.619042  0.662347  0.756661  0.838183   \n",
       "\n",
       "               0.835     0.975     0.995  \n",
       "date                                      \n",
       "2011-01-29  0.884852  1.006654  1.097859  \n",
       "2011-01-30  1.746716  2.014860  2.188142  \n",
       "2011-01-31  1.720131  1.953909  2.180639  \n",
       "2011-02-01  0.876519  1.000635  1.067878  \n",
       "2011-02-02  0.875509  0.997830  1.074211  "
      ]
     },
     "execution_count": 6,
     "metadata": {},
     "output_type": "execute_result"
    }
   ],
   "source": [
    "target_df.head()"
   ]
  },
  {
   "cell_type": "code",
   "execution_count": 7,
   "metadata": {},
   "outputs": [],
   "source": [
    "def get_model(inp_shape, quantiles):\n",
    "    # clear previous sessions\n",
    "    K.clear_session()\n",
    "\n",
    "    inp = Input(inp_shape, name=\"input\")\n",
    "    x = inp\n",
    "    x = Dense(16)(x)\n",
    "    x = Dense(32)(x)\n",
    "    x = Dense(64)(x)\n",
    "    x = Dense(2)(x)  # represents mu, sigma\n",
    "    x = Dense(len(quantiles))(x)  # returns 9 points, one for each quantile\n",
    "    out = x\n",
    "\n",
    "    model = Model(inputs=inp, outputs=out)\n",
    "\n",
    "    return model"
   ]
  },
  {
   "cell_type": "code",
   "execution_count": 8,
   "metadata": {},
   "outputs": [
    {
     "name": "stdout",
     "output_type": "stream",
     "text": [
      "Model: \"model\"\n",
      "_________________________________________________________________\n",
      "Layer (type)                 Output Shape              Param #   \n",
      "=================================================================\n",
      "input (InputLayer)           [(None, 10)]              0         \n",
      "_________________________________________________________________\n",
      "dense (Dense)                (None, 16)                176       \n",
      "_________________________________________________________________\n",
      "dense_1 (Dense)              (None, 32)                544       \n",
      "_________________________________________________________________\n",
      "dense_2 (Dense)              (None, 64)                2112      \n",
      "_________________________________________________________________\n",
      "dense_3 (Dense)              (None, 2)                 130       \n",
      "_________________________________________________________________\n",
      "dense_4 (Dense)              (None, 9)                 27        \n",
      "=================================================================\n",
      "Total params: 2,989\n",
      "Trainable params: 2,989\n",
      "Non-trainable params: 0\n",
      "_________________________________________________________________\n"
     ]
    }
   ],
   "source": [
    "quantiles = [0.005, 0.025, 0.165, 0.25, 0.5, 0.75, 0.835, 0.975, 0.995]\n",
    "model = get_model(inp_shape=(train_df.columns.size,), quantiles=quantiles)\n",
    "model.compile(optimizer=\"adam\", loss=\"MAE\")\n",
    "model.summary()"
   ]
  },
  {
   "cell_type": "code",
   "execution_count": 9,
   "metadata": {},
   "outputs": [],
   "source": [
    "X = train_df.values\n",
    "y = target_df.values\n",
    "\n",
    "X_train, X_val, y_train, y_val = train_test_split(X, y, test_size=0.2, random_state=42)"
   ]
  },
  {
   "cell_type": "code",
   "execution_count": null,
   "metadata": {},
   "outputs": [],
   "source": [
    "history = model.fit(X_train, y_train, epochs=300,\n",
    "                    validation_data=(X_val, y_val))"
   ]
  },
  {
   "cell_type": "code",
   "execution_count": 11,
   "metadata": {},
   "outputs": [
    {
     "data": {
      "image/png": "[encoded data removed]",
      "text/plain": [
       "<Figure size 1296x432 with 1 Axes>"
      ]
     },
     "metadata": {
      "needs_background": "light"
     },
     "output_type": "display_data"
    }
   ],
   "source": [
    "plot_loss(history)"
   ]
  },
  {
   "cell_type": "code",
   "execution_count": 12,
   "metadata": {},
   "outputs": [],
   "source": [
    "y_pred = model.predict(X_val)"
   ]
  },
  {
   "cell_type": "code",
   "execution_count": 13,
   "metadata": {},
   "outputs": [
    {
     "data": {
      "text/plain": [
       "array([[0.42066014, 0.502596  , 0.6276362 , 0.66131896, 0.74935377,\n",
       "        0.8368222 , 0.8776494 , 1.0114206 , 1.0873376 ],\n",
       "       [0.8675347 , 1.0250378 , 1.2648792 , 1.3262659 , 1.4887774 ,\n",
       "        1.6580695 , 1.7402756 , 2.0067775 , 2.154305  ]], dtype=float32)"
      ]
     },
     "execution_count": 13,
     "metadata": {},
     "output_type": "execute_result"
    }
   ],
   "source": [
    "y_pred[0:2]"
   ]
  },
  {
   "cell_type": "markdown",
   "metadata": {},
   "source": [
    "## Rewrite to multi-output for each quantile"
   ]
  },
  {
   "cell_type": "code",
   "execution_count": null,
   "metadata": {},
   "outputs": [],
   "source": [
    "def DistributionLayer(quantile_index,x):\n",
    "    mu = x[0]\n",
    "    sigma = x[1] \n",
    "    if (len(x)>1):\n",
    "        skewness= x[2]\n",
    "    if (len(x)>2\n",
    "        kurtosis = x[3]\n",
    "        \n",
    "    if (skewness==None):\n",
    "        if (kurtosis==None):\n",
    "            # Source of Z-scores: https://www.wolframalpha.com/input/?i=percentiles+of+a+normal+distribution\n",
    "             return {\n",
    "                0.005: mu-2.57583*sigma, # https://www.wolframalpha.com/input/?i=0.5+percentiles+of+a+normal+distribution\n",
    "                0.025: mu-1.95996*sigma, # https://www.wolframalpha.com/input/?i=2.5+percentiles+of+a+normal+distribution\n",
    "                0.165: mu-0.974114*sigma, # https://www.wolframalpha.com/input/?i=16.5+percentiles+of+a+normal+distribution\n",
    "                0.25: mu-0.674*sigma, # https://www.wolframalpha.com/input/?i=25+percentiles+of+a+normal+distribution\n",
    "                0.5: mu, # https://www.wolframalpha.com/input/?i=50+percentiles+of+a+normal+distribution\n",
    "                0.75: mu+0.674*sigma, # https://www.wolframalpha.com/input/?i=75+percentiles+of+a+normal+distribution\n",
    "                0.835: mu+0.9741114*sigma, #https://www.wolframalpha.com/input/?i=83.5+percentiles+of+a+normal+distribution\n",
    "                0.975: mu+1.95996*sigma, #https://www.wolframalpha.com/input/?i=97.5+percentiles+of+a+normal+distribution\n",
    "                0.995: mu+2.57583*sigma, #https://www.wolframalpha.com/input/?i=99.5+percentiles+of+a+normal+distribution\n",
    "            }[quantile]\n",
    "    "
   ]
  },
  {
   "cell_type": "code",
   "execution_count": 1,
   "metadata": {},
   "outputs": [
    {
     "ename": "NameError",
     "evalue": "name 'DistributionLayer' is not defined",
     "output_type": "error",
     "traceback": [
      "\u001b[1;31m---------------------------------------------------------------------------\u001b[0m",
      "\u001b[1;31mNameError\u001b[0m                                 Traceback (most recent call last)",
      "\u001b[1;32m<ipython-input-1-493f0679b533>\u001b[0m in \u001b[0;36m<module>\u001b[1;34m\u001b[0m\n\u001b[0;32m      5\u001b[0m \u001b[0mx\u001b[0m\u001b[1;33m.\u001b[0m\u001b[0mappend\u001b[0m\u001b[1;33m(\u001b[0m\u001b[0msigma\u001b[0m\u001b[1;33m)\u001b[0m\u001b[1;33m\u001b[0m\u001b[1;33m\u001b[0m\u001b[0m\n\u001b[0;32m      6\u001b[0m \u001b[0mquantile\u001b[0m \u001b[1;33m=\u001b[0m \u001b[1;36m0.005\u001b[0m\u001b[1;33m\u001b[0m\u001b[1;33m\u001b[0m\u001b[0m\n\u001b[1;32m----> 7\u001b[1;33m \u001b[0mDistributionLayer\u001b[0m\u001b[1;33m(\u001b[0m\u001b[0mquantile\u001b[0m\u001b[1;33m,\u001b[0m\u001b[0mx\u001b[0m\u001b[1;33m)\u001b[0m\u001b[1;33m\u001b[0m\u001b[1;33m\u001b[0m\u001b[0m\n\u001b[0m",
      "\u001b[1;31mNameError\u001b[0m: name 'DistributionLayer' is not defined"
     ]
    }
   ],
   "source": [
    "x =[]\n",
    "mu = 3\n",
    "sigma = 2\n",
    "x.append(mu) \n",
    "x.append(sigma)\n",
    "quantile = 0.005\n",
    "DistributionLayer(quantile,x)\n",
    "print()"
   ]
  },
  {
   "cell_type": "code",
   "execution_count": 14,
   "metadata": {},
   "outputs": [],
   "source": [
    "def get_model(inp_shape, quantiles):\n",
    "    # clear previous sessions\n",
    "    K.clear_session()\n",
    "\n",
    "    inp = Input(inp_shape, name=\"input\")\n",
    "    x = inp\n",
    "    x = Dense(16)(x)\n",
    "    x = Dense(32)(x)\n",
    "    x = Dense(64)(x)\n",
    "    x = Dense(2)(x)  # represents mu, sigma\n",
    "    \n",
    "    out_q0 = Dense(1, name=\"q0\")(x)  # DistributionLayer(quantile=quantiles[0])(x)\n",
    "    out_q1 = Dense(1, name=\"q1\")(x)  # DistributionLayer(quantile=quantiles[1])(x)\n",
    "    out_q2 = Dense(1, name=\"q2\")(x)  # ...\n",
    "    out_q3 = Dense(1, name=\"q3\")(x)\n",
    "    out_q4 = Dense(1, name=\"q4\")(x)\n",
    "    out_q5 = Dense(1, name=\"q5\")(x)\n",
    "    out_q6 = Dense(1, name=\"q6\")(x)\n",
    "    out_q7 = Dense(1, name=\"q7\")(x)\n",
    "    out_q8 = Dense(1, name=\"q8\")(x)\n",
    "\n",
    "    model = Model(inputs=inp, outputs=[out_q0, out_q1, out_q2, out_q3, out_q4, out_q5, out_q6, out_q7, out_q8])\n",
    "\n",
    "    return model"
   ]
  },
  {
   "cell_type": "code",
   "execution_count": 15,
   "metadata": {},
   "outputs": [
    {
     "name": "stdout",
     "output_type": "stream",
     "text": [
      "Model: \"model\"\n",
      "__________________________________________________________________________________________________\n",
      "Layer (type)                    Output Shape         Param #     Connected to                     \n",
      "==================================================================================================\n",
      "input (InputLayer)              [(None, 10)]         0                                            \n",
      "__________________________________________________________________________________________________\n",
      "dense (Dense)                   (None, 16)           176         input[0][0]                      \n",
      "__________________________________________________________________________________________________\n",
      "dense_1 (Dense)                 (None, 32)           544         dense[0][0]                      \n",
      "__________________________________________________________________________________________________\n",
      "dense_2 (Dense)                 (None, 64)           2112        dense_1[0][0]                    \n",
      "__________________________________________________________________________________________________\n",
      "dense_3 (Dense)                 (None, 2)            130         dense_2[0][0]                    \n",
      "__________________________________________________________________________________________________\n",
      "q0 (Dense)                      (None, 1)            3           dense_3[0][0]                    \n",
      "__________________________________________________________________________________________________\n",
      "q1 (Dense)                      (None, 1)            3           dense_3[0][0]                    \n",
      "__________________________________________________________________________________________________\n",
      "q2 (Dense)                      (None, 1)            3           dense_3[0][0]                    \n",
      "__________________________________________________________________________________________________\n",
      "q3 (Dense)                      (None, 1)            3           dense_3[0][0]                    \n",
      "__________________________________________________________________________________________________\n",
      "q4 (Dense)                      (None, 1)            3           dense_3[0][0]                    \n",
      "__________________________________________________________________________________________________\n",
      "q5 (Dense)                      (None, 1)            3           dense_3[0][0]                    \n",
      "__________________________________________________________________________________________________\n",
      "q6 (Dense)                      (None, 1)            3           dense_3[0][0]                    \n",
      "__________________________________________________________________________________________________\n",
      "q7 (Dense)                      (None, 1)            3           dense_3[0][0]                    \n",
      "__________________________________________________________________________________________________\n",
      "q8 (Dense)                      (None, 1)            3           dense_3[0][0]                    \n",
      "==================================================================================================\n",
      "Total params: 2,989\n",
      "Trainable params: 2,989\n",
      "Non-trainable params: 0\n",
      "__________________________________________________________________________________________________\n"
     ]
    }
   ],
   "source": [
    "quantiles = [0.005, 0.025, 0.165, 0.25, 0.5, 0.75, 0.835, 0.975, 0.995]\n",
    "model = get_model(inp_shape=(train_df.columns.size,), quantiles=quantiles)\n",
    "model.compile(optimizer=\"adam\", loss=\"MAE\")\n",
    "model.summary()"
   ]
  },
  {
   "cell_type": "code",
   "execution_count": null,
   "metadata": {},
   "outputs": [],
   "source": [
    "y_train_mo = {'q'+str(i): y_train[:, i] for i in range(len(quantiles))}\n",
    "y_val_mo = {'q'+str(i): y_val[:, i] for i in range(len(quantiles))}\n",
    "y_train_mo"
   ]
  },
  {
   "cell_type": "code",
   "execution_count": null,
   "metadata": {},
   "outputs": [],
   "source": [
    "history = model.fit(X_train, y_train_mo, epochs=300,\n",
    "                    validation_data=(X_val, y_val_mo))"
   ]
  },
  {
   "cell_type": "code",
   "execution_count": 18,
   "metadata": {},
   "outputs": [
    {
     "data": {
      "image/png": "[encoded data removed]",
      "text/plain": [
       "<Figure size 1296x432 with 1 Axes>"
      ]
     },
     "metadata": {
      "needs_background": "light"
     },
     "output_type": "display_data"
    }
   ],
   "source": [
    "plot_loss(history)"
   ]
  },
  {
   "cell_type": "code",
   "execution_count": 19,
   "metadata": {},
   "outputs": [
    {
     "data": {
      "text/plain": [
       "array([[0.41823936, 0.49696696, 0.6270546 , 0.67710584, 0.75704217,\n",
       "        0.84439224, 0.8913264 , 1.0147717 , 1.0840267 ],\n",
       "       [0.87090594, 1.0159874 , 1.261607  , 1.3258712 , 1.5007987 ,\n",
       "        1.664723  , 1.7354199 , 1.9849627 , 2.1550398 ]], dtype=float32)"
      ]
     },
     "execution_count": 19,
     "metadata": {},
     "output_type": "execute_result"
    }
   ],
   "source": [
    "y_pred = model.predict(X_val)\n",
    "\n",
    "# revert multi output format to (n_samples, quantiles)\n",
    "y_pred = np.array(list(zip(*y_pred))).squeeze()\n",
    "y_pred[0:2]"
   ]
  },
  {
   "cell_type": "markdown",
   "metadata": {},
   "source": [
    "**Note**: training seems slower! "
   ]
  },
  {
   "cell_type": "markdown",
   "metadata": {},
   "source": [
    "## Employ pinball loss"
   ]
  },
  {
   "cell_type": "code",
   "execution_count": 20,
   "metadata": {},
   "outputs": [],
   "source": [
    "# from Daniel Sch., at:\n",
    "# https://stackoverflow.com/questions/43151694/define-pinball-loss-function-in-keras-with-tensorflow-backend\n",
    "def create_pinball_loss(tau=0.5):\n",
    "    def pinball_loss(y_true, y_pred):\n",
    "        err = y_true - y_pred\n",
    "        return K.mean(K.maximum(tau * err, (tau - 1) * err), axis=-1)\n",
    "    return pinball_loss"
   ]
  },
  {
   "cell_type": "code",
   "execution_count": 21,
   "metadata": {},
   "outputs": [
    {
     "data": {
      "text/plain": [
       "{'q0': <function __main__.create_pinball_loss.<locals>.pinball_loss(y_true, y_pred)>,\n",
       " 'q1': <function __main__.create_pinball_loss.<locals>.pinball_loss(y_true, y_pred)>,\n",
       " 'q2': <function __main__.create_pinball_loss.<locals>.pinball_loss(y_true, y_pred)>,\n",
       " 'q3': <function __main__.create_pinball_loss.<locals>.pinball_loss(y_true, y_pred)>,\n",
       " 'q4': <function __main__.create_pinball_loss.<locals>.pinball_loss(y_true, y_pred)>,\n",
       " 'q5': <function __main__.create_pinball_loss.<locals>.pinball_loss(y_true, y_pred)>,\n",
       " 'q6': <function __main__.create_pinball_loss.<locals>.pinball_loss(y_true, y_pred)>,\n",
       " 'q7': <function __main__.create_pinball_loss.<locals>.pinball_loss(y_true, y_pred)>,\n",
       " 'q8': <function __main__.create_pinball_loss.<locals>.pinball_loss(y_true, y_pred)>}"
      ]
     },
     "execution_count": 21,
     "metadata": {},
     "output_type": "execute_result"
    }
   ],
   "source": [
    "losses = {'q'+str(i): create_pinball_loss(tau=q) for (i, q) in enumerate(quantiles)}\n",
    "losses"
   ]
  },
  {
   "cell_type": "code",
   "execution_count": 22,
   "metadata": {},
   "outputs": [
    {
     "name": "stdout",
     "output_type": "stream",
     "text": [
      "Model: \"model\"\n",
      "__________________________________________________________________________________________________\n",
      "Layer (type)                    Output Shape         Param #     Connected to                     \n",
      "==================================================================================================\n",
      "input (InputLayer)              [(None, 10)]         0                                            \n",
      "__________________________________________________________________________________________________\n",
      "dense (Dense)                   (None, 16)           176         input[0][0]                      \n",
      "__________________________________________________________________________________________________\n",
      "dense_1 (Dense)                 (None, 32)           544         dense[0][0]                      \n",
      "__________________________________________________________________________________________________\n",
      "dense_2 (Dense)                 (None, 64)           2112        dense_1[0][0]                    \n",
      "__________________________________________________________________________________________________\n",
      "dense_3 (Dense)                 (None, 2)            130         dense_2[0][0]                    \n",
      "__________________________________________________________________________________________________\n",
      "q0 (Dense)                      (None, 1)            3           dense_3[0][0]                    \n",
      "__________________________________________________________________________________________________\n",
      "q1 (Dense)                      (None, 1)            3           dense_3[0][0]                    \n",
      "__________________________________________________________________________________________________\n",
      "q2 (Dense)                      (None, 1)            3           dense_3[0][0]                    \n",
      "__________________________________________________________________________________________________\n",
      "q3 (Dense)                      (None, 1)            3           dense_3[0][0]                    \n",
      "__________________________________________________________________________________________________\n",
      "q4 (Dense)                      (None, 1)            3           dense_3[0][0]                    \n",
      "__________________________________________________________________________________________________\n",
      "q5 (Dense)                      (None, 1)            3           dense_3[0][0]                    \n",
      "__________________________________________________________________________________________________\n",
      "q6 (Dense)                      (None, 1)            3           dense_3[0][0]                    \n",
      "__________________________________________________________________________________________________\n",
      "q7 (Dense)                      (None, 1)            3           dense_3[0][0]                    \n",
      "__________________________________________________________________________________________________\n",
      "q8 (Dense)                      (None, 1)            3           dense_3[0][0]                    \n",
      "==================================================================================================\n",
      "Total params: 2,989\n",
      "Trainable params: 2,989\n",
      "Non-trainable params: 0\n",
      "__________________________________________________________________________________________________\n"
     ]
    }
   ],
   "source": [
    "model = get_model(inp_shape=(train_df.columns.size,), quantiles=quantiles)\n",
    "model.compile(optimizer=\"adam\", loss=losses)\n",
    "model.summary()"
   ]
  },
  {
   "cell_type": "code",
   "execution_count": null,
   "metadata": {},
   "outputs": [],
   "source": [
    "history = model.fit(X_train, y_train_mo, epochs=300,\n",
    "                    validation_data=(X_val, y_val_mo))"
   ]
  },
  {
   "cell_type": "code",
   "execution_count": 24,
   "metadata": {},
   "outputs": [
    {
     "data": {
      "image/png": "[encoded data removed]",
      "text/plain": [
       "<Figure size 1296x432 with 1 Axes>"
      ]
     },
     "metadata": {
      "needs_background": "light"
     },
     "output_type": "display_data"
    }
   ],
   "source": [
    "plot_loss(history)"
   ]
  },
  {
   "cell_type": "code",
   "execution_count": 25,
   "metadata": {},
   "outputs": [
    {
     "data": {
      "text/plain": [
       "array([[0.3209226 , 0.47231117, 0.6254461 , 0.6514433 , 0.7519635 ,\n",
       "        0.845858  , 0.9524735 , 1.0393975 , 1.1434218 ],\n",
       "       [0.632425  , 0.5280088 , 1.2307446 , 1.3095002 , 1.4942493 ,\n",
       "        1.6823647 , 1.7886565 , 2.1210732 , 2.2937524 ]], dtype=float32)"
      ]
     },
     "execution_count": 25,
     "metadata": {},
     "output_type": "execute_result"
    }
   ],
   "source": [
    "# predict validation set\n",
    "y_pred = model.predict(X_val)\n",
    "# revert multi output format to (n_samples, quantiles)\n",
    "y_pred = np.array(list(zip(*y_pred))).squeeze()\n",
    "y_pred[0:2]"
   ]
  },
  {
   "cell_type": "markdown",
   "metadata": {},
   "source": [
    "**Note**: the distribution of predictions is wider than when trained with the MAE. This is in line with what we would expect: over-predicting the lower quantiles is punished much harder than before, and the same for under-predicting the higher quantiles."
   ]
  },
  {
   "cell_type": "markdown",
   "metadata": {},
   "source": [
    "## Test pinball loss"
   ]
  },
  {
   "cell_type": "code",
   "execution_count": 26,
   "metadata": {},
   "outputs": [],
   "source": [
    "# from https://github.com/keras-team/keras/pull/8033/files\n",
    "def test_pinball_loss():\n",
    "    y_pred = K.variable(np.array([0.3, 0.6, 0.1]))\n",
    "    y_true = K.variable(np.array([0.3, 0.4, 0.5]))\n",
    "    quantile = 0.25\n",
    "    loss_fcn = create_pinball_loss(tau=quantile)#losses.PinballLoss(quantile)\n",
    "    expected_loss = (quantile * 0.4 + (1 - quantile) * 0.2) / 3\n",
    "    loss = K.eval(loss_fcn(y_true, y_pred))\n",
    "    assert np.isclose(expected_loss, loss)\n",
    "\n",
    "test_pinball_loss()"
   ]
  },
  {
   "cell_type": "markdown",
   "metadata": {},
   "source": [
    "## Dataset 2"
   ]
  },
  {
   "cell_type": "code",
   "execution_count": 27,
   "metadata": {},
   "outputs": [],
   "source": [
    "train_df = pd.read_csv(\"custom_layer/features2.csv\", index_col=0)\n",
    "target_df = pd.read_csv(\"custom_layer/targets2.csv\", index_col=0, header=None, names=['target'])\n",
    "quantiles = [0.005, 0.025, 0.165, 0.25, 0.5, 0.75, 0.835, 0.975, 0.995]"
   ]
  },
  {
   "cell_type": "code",
   "execution_count": 28,
   "metadata": {
    "scrolled": true
   },
   "outputs": [
    {
     "data": {
      "text/html": [
       "<div>\n",
       "<style scoped>\n",
       "    .dataframe tbody tr th:only-of-type {\n",
       "        vertical-align: middle;\n",
       "    }\n",
       "\n",
       "    .dataframe tbody tr th {\n",
       "        vertical-align: top;\n",
       "    }\n",
       "\n",
       "    .dataframe thead th {\n",
       "        text-align: right;\n",
       "    }\n",
       "</style>\n",
       "<table border=\"1\" class=\"dataframe\">\n",
       "  <thead>\n",
       "    <tr style=\"text-align: right;\">\n",
       "      <th></th>\n",
       "      <th>wday</th>\n",
       "      <th>month</th>\n",
       "      <th>snap_CA</th>\n",
       "      <th>w_1</th>\n",
       "      <th>w_2</th>\n",
       "      <th>w_3</th>\n",
       "      <th>w_4</th>\n",
       "      <th>w_5</th>\n",
       "      <th>w_6</th>\n",
       "      <th>w_7</th>\n",
       "    </tr>\n",
       "    <tr>\n",
       "      <th>date</th>\n",
       "      <th></th>\n",
       "      <th></th>\n",
       "      <th></th>\n",
       "      <th></th>\n",
       "      <th></th>\n",
       "      <th></th>\n",
       "      <th></th>\n",
       "      <th></th>\n",
       "      <th></th>\n",
       "      <th></th>\n",
       "    </tr>\n",
       "  </thead>\n",
       "  <tbody>\n",
       "    <tr>\n",
       "      <th>2011-01-29</th>\n",
       "      <td>1</td>\n",
       "      <td>1</td>\n",
       "      <td>0</td>\n",
       "      <td>1</td>\n",
       "      <td>0</td>\n",
       "      <td>0</td>\n",
       "      <td>0</td>\n",
       "      <td>0</td>\n",
       "      <td>0</td>\n",
       "      <td>0</td>\n",
       "    </tr>\n",
       "    <tr>\n",
       "      <th>2011-01-30</th>\n",
       "      <td>2</td>\n",
       "      <td>1</td>\n",
       "      <td>0</td>\n",
       "      <td>0</td>\n",
       "      <td>1</td>\n",
       "      <td>0</td>\n",
       "      <td>0</td>\n",
       "      <td>0</td>\n",
       "      <td>0</td>\n",
       "      <td>0</td>\n",
       "    </tr>\n",
       "    <tr>\n",
       "      <th>2011-01-31</th>\n",
       "      <td>3</td>\n",
       "      <td>1</td>\n",
       "      <td>0</td>\n",
       "      <td>0</td>\n",
       "      <td>0</td>\n",
       "      <td>1</td>\n",
       "      <td>0</td>\n",
       "      <td>0</td>\n",
       "      <td>0</td>\n",
       "      <td>0</td>\n",
       "    </tr>\n",
       "    <tr>\n",
       "      <th>2011-02-01</th>\n",
       "      <td>4</td>\n",
       "      <td>2</td>\n",
       "      <td>1</td>\n",
       "      <td>0</td>\n",
       "      <td>0</td>\n",
       "      <td>0</td>\n",
       "      <td>1</td>\n",
       "      <td>0</td>\n",
       "      <td>0</td>\n",
       "      <td>0</td>\n",
       "    </tr>\n",
       "    <tr>\n",
       "      <th>2011-02-02</th>\n",
       "      <td>5</td>\n",
       "      <td>2</td>\n",
       "      <td>1</td>\n",
       "      <td>0</td>\n",
       "      <td>0</td>\n",
       "      <td>0</td>\n",
       "      <td>0</td>\n",
       "      <td>1</td>\n",
       "      <td>0</td>\n",
       "      <td>0</td>\n",
       "    </tr>\n",
       "  </tbody>\n",
       "</table>\n",
       "</div>"
      ],
      "text/plain": [
       "            wday  month  snap_CA  w_1  w_2  w_3  w_4  w_5  w_6  w_7\n",
       "date                                                               \n",
       "2011-01-29     1      1        0    1    0    0    0    0    0    0\n",
       "2011-01-30     2      1        0    0    1    0    0    0    0    0\n",
       "2011-01-31     3      1        0    0    0    1    0    0    0    0\n",
       "2011-02-01     4      2        1    0    0    0    1    0    0    0\n",
       "2011-02-02     5      2        1    0    0    0    0    1    0    0"
      ]
     },
     "execution_count": 28,
     "metadata": {},
     "output_type": "execute_result"
    }
   ],
   "source": [
    "train_df.head()"
   ]
  },
  {
   "cell_type": "code",
   "execution_count": 29,
   "metadata": {},
   "outputs": [
    {
     "data": {
      "text/html": [
       "<div>\n",
       "<style scoped>\n",
       "    .dataframe tbody tr th:only-of-type {\n",
       "        vertical-align: middle;\n",
       "    }\n",
       "\n",
       "    .dataframe tbody tr th {\n",
       "        vertical-align: top;\n",
       "    }\n",
       "\n",
       "    .dataframe thead th {\n",
       "        text-align: right;\n",
       "    }\n",
       "</style>\n",
       "<table border=\"1\" class=\"dataframe\">\n",
       "  <thead>\n",
       "    <tr style=\"text-align: right;\">\n",
       "      <th></th>\n",
       "      <th>target</th>\n",
       "    </tr>\n",
       "  </thead>\n",
       "  <tbody>\n",
       "    <tr>\n",
       "      <th>2011-01-29</th>\n",
       "      <td>0.751272</td>\n",
       "    </tr>\n",
       "    <tr>\n",
       "      <th>2011-01-30</th>\n",
       "      <td>1.175314</td>\n",
       "    </tr>\n",
       "    <tr>\n",
       "      <th>2011-01-31</th>\n",
       "      <td>1.527411</td>\n",
       "    </tr>\n",
       "    <tr>\n",
       "      <th>2011-02-01</th>\n",
       "      <td>0.952662</td>\n",
       "    </tr>\n",
       "    <tr>\n",
       "      <th>2011-02-02</th>\n",
       "      <td>0.595021</td>\n",
       "    </tr>\n",
       "  </tbody>\n",
       "</table>\n",
       "</div>"
      ],
      "text/plain": [
       "              target\n",
       "2011-01-29  0.751272\n",
       "2011-01-30  1.175314\n",
       "2011-01-31  1.527411\n",
       "2011-02-01  0.952662\n",
       "2011-02-02  0.595021"
      ]
     },
     "execution_count": 29,
     "metadata": {},
     "output_type": "execute_result"
    }
   ],
   "source": [
    "target_df.head()"
   ]
  },
  {
   "cell_type": "code",
   "execution_count": 30,
   "metadata": {},
   "outputs": [],
   "source": [
    "# from Daniel Sch., at:\n",
    "# https://stackoverflow.com/questions/43151694/define-pinball-loss-function-in-keras-with-tensorflow-backend\n",
    "def create_pinball_loss(tau=0.5):\n",
    "    def pinball_loss(y_true, y_pred):\n",
    "        err = y_true - y_pred\n",
    "        return K.mean(K.maximum(tau * err, (tau - 1) * err), axis=-1)\n",
    "    return pinball_loss"
   ]
  },
  {
   "cell_type": "code",
   "execution_count": 31,
   "metadata": {},
   "outputs": [],
   "source": [
    "X = train_df.values\n",
    "y = target_df.values\n",
    "\n",
    "X_train, X_val, y_train, y_val = train_test_split(X, y, test_size=0.2, random_state=42)\n",
    "\n",
    "y_train_mo = {'q'+str(i): y_train for i in range(len(quantiles))}\n",
    "y_val_mo = {'q'+str(i): y_val for i in range(len(quantiles))}"
   ]
  },
  {
   "cell_type": "code",
   "execution_count": 32,
   "metadata": {},
   "outputs": [],
   "source": [
    "def get_model(inp_shape, quantiles):\n",
    "    # clear previous sessions\n",
    "    K.clear_session()\n",
    "\n",
    "    inp = Input(inp_shape, name=\"input\")\n",
    "    x = inp\n",
    "    x = Dense(16)(x)\n",
    "    x = Dense(32)(x)\n",
    "    x = Dense(64)(x)\n",
    "    x = Dense(2)(x)  # represents mu, sigma\n",
    "    \n",
    "    out_q0 = Dense(1, name=\"q0\")(x)  # DistributionLayer(quantile=quantiles[0])(x)\n",
    "    out_q1 = Dense(1, name=\"q1\")(x)  # DistributionLayer(quantile=quantiles[1])(x)\n",
    "    out_q2 = Dense(1, name=\"q2\")(x)  # ...\n",
    "    out_q3 = Dense(1, name=\"q3\")(x)\n",
    "    out_q4 = Dense(1, name=\"q4\")(x)\n",
    "    out_q5 = Dense(1, name=\"q5\")(x)\n",
    "    out_q6 = Dense(1, name=\"q6\")(x)\n",
    "    out_q7 = Dense(1, name=\"q7\")(x)\n",
    "    out_q8 = Dense(1, name=\"q8\")(x)\n",
    "\n",
    "    model = Model(inputs=inp, outputs=[out_q0, out_q1, out_q2, out_q3, out_q4, out_q5, out_q6, out_q7, out_q8])\n",
    "\n",
    "    return model"
   ]
  },
  {
   "cell_type": "code",
   "execution_count": 33,
   "metadata": {},
   "outputs": [
    {
     "data": {
      "text/plain": [
       "{'q0': <function __main__.create_pinball_loss.<locals>.pinball_loss(y_true, y_pred)>,\n",
       " 'q1': <function __main__.create_pinball_loss.<locals>.pinball_loss(y_true, y_pred)>,\n",
       " 'q2': <function __main__.create_pinball_loss.<locals>.pinball_loss(y_true, y_pred)>,\n",
       " 'q3': <function __main__.create_pinball_loss.<locals>.pinball_loss(y_true, y_pred)>,\n",
       " 'q4': <function __main__.create_pinball_loss.<locals>.pinball_loss(y_true, y_pred)>,\n",
       " 'q5': <function __main__.create_pinball_loss.<locals>.pinball_loss(y_true, y_pred)>,\n",
       " 'q6': <function __main__.create_pinball_loss.<locals>.pinball_loss(y_true, y_pred)>,\n",
       " 'q7': <function __main__.create_pinball_loss.<locals>.pinball_loss(y_true, y_pred)>,\n",
       " 'q8': <function __main__.create_pinball_loss.<locals>.pinball_loss(y_true, y_pred)>}"
      ]
     },
     "execution_count": 33,
     "metadata": {},
     "output_type": "execute_result"
    }
   ],
   "source": [
    "losses = {'q'+str(i): create_pinball_loss(tau=q) for (i, q) in enumerate(quantiles)}\n",
    "losses"
   ]
  },
  {
   "cell_type": "code",
   "execution_count": 34,
   "metadata": {},
   "outputs": [
    {
     "name": "stdout",
     "output_type": "stream",
     "text": [
      "Model: \"model\"\n",
      "__________________________________________________________________________________________________\n",
      "Layer (type)                    Output Shape         Param #     Connected to                     \n",
      "==================================================================================================\n",
      "input (InputLayer)              [(None, 10)]         0                                            \n",
      "__________________________________________________________________________________________________\n",
      "dense (Dense)                   (None, 16)           176         input[0][0]                      \n",
      "__________________________________________________________________________________________________\n",
      "dense_1 (Dense)                 (None, 32)           544         dense[0][0]                      \n",
      "__________________________________________________________________________________________________\n",
      "dense_2 (Dense)                 (None, 64)           2112        dense_1[0][0]                    \n",
      "__________________________________________________________________________________________________\n",
      "dense_3 (Dense)                 (None, 2)            130         dense_2[0][0]                    \n",
      "__________________________________________________________________________________________________\n",
      "q0 (Dense)                      (None, 1)            3           dense_3[0][0]                    \n",
      "__________________________________________________________________________________________________\n",
      "q1 (Dense)                      (None, 1)            3           dense_3[0][0]                    \n",
      "__________________________________________________________________________________________________\n",
      "q2 (Dense)                      (None, 1)            3           dense_3[0][0]                    \n",
      "__________________________________________________________________________________________________\n",
      "q3 (Dense)                      (None, 1)            3           dense_3[0][0]                    \n",
      "__________________________________________________________________________________________________\n",
      "q4 (Dense)                      (None, 1)            3           dense_3[0][0]                    \n",
      "__________________________________________________________________________________________________\n",
      "q5 (Dense)                      (None, 1)            3           dense_3[0][0]                    \n",
      "__________________________________________________________________________________________________\n",
      "q6 (Dense)                      (None, 1)            3           dense_3[0][0]                    \n",
      "__________________________________________________________________________________________________\n",
      "q7 (Dense)                      (None, 1)            3           dense_3[0][0]                    \n",
      "__________________________________________________________________________________________________\n",
      "q8 (Dense)                      (None, 1)            3           dense_3[0][0]                    \n",
      "==================================================================================================\n",
      "Total params: 2,989\n",
      "Trainable params: 2,989\n",
      "Non-trainable params: 0\n",
      "__________________________________________________________________________________________________\n"
     ]
    }
   ],
   "source": [
    "model = get_model(inp_shape=(X_train.shape[1],), quantiles=quantiles)\n",
    "model.compile(optimizer=\"adam\", loss=losses)\n",
    "model.summary()"
   ]
  },
  {
   "cell_type": "code",
   "execution_count": null,
   "metadata": {},
   "outputs": [],
   "source": [
    "history = model.fit(X_train, y_train_mo, epochs=300,\n",
    "                    validation_data=(X_val, y_val_mo))"
   ]
  },
  {
   "cell_type": "code",
   "execution_count": 36,
   "metadata": {},
   "outputs": [
    {
     "data": {
      "image/png": "[encoded data removed]",
      "text/plain": [
       "<Figure size 1296x432 with 1 Axes>"
      ]
     },
     "metadata": {
      "needs_background": "light"
     },
     "output_type": "display_data"
    }
   ],
   "source": [
    "plot_loss(history)"
   ]
  },
  {
   "cell_type": "markdown",
   "metadata": {},
   "source": [
    "### Predicted distribution"
   ]
  },
  {
   "cell_type": "code",
   "execution_count": 37,
   "metadata": {},
   "outputs": [
    {
     "data": {
      "text/plain": [
       "array([[0.39149493, 0.49627757, 0.6045333 , 0.65413773, 0.7398038 ,\n",
       "        0.8206656 , 0.85124683, 0.98912036, 1.063768  ],\n",
       "       [0.8463191 , 0.9779025 , 1.2105353 , 1.2954059 , 1.4628848 ,\n",
       "        1.6383011 , 1.7105415 , 1.986691  , 2.1385593 ]], dtype=float32)"
      ]
     },
     "execution_count": 37,
     "metadata": {},
     "output_type": "execute_result"
    }
   ],
   "source": [
    "# predict validation set\n",
    "y_pred = model.predict(X_val)\n",
    "# revert multi output format to (n_samples, quantiles)\n",
    "y_pred = np.array(list(zip(*y_pred))).squeeze()\n",
    "y_pred[0:2]"
   ]
  },
  {
   "cell_type": "code",
   "execution_count": 38,
   "metadata": {},
   "outputs": [
    {
     "data": {
      "text/plain": [
       "0.005    0.415521\n",
       "0.025    0.496191\n",
       "0.165    0.622681\n",
       "0.250    0.661927\n",
       "0.500    0.749988\n",
       "0.750    0.837200\n",
       "0.835    0.876387\n",
       "0.975    1.003253\n",
       "0.995    1.082551\n",
       "dtype: float64"
      ]
     },
     "execution_count": 38,
     "metadata": {},
     "output_type": "execute_result"
    }
   ],
   "source": [
    "# \"true\" quantiles\n",
    "pd.Series(np.random.normal(0.75, 0.13, size=100000)).quantile(quantiles)"
   ]
  },
  {
   "cell_type": "code",
   "execution_count": 39,
   "metadata": {},
   "outputs": [
    {
     "data": {
      "text/plain": [
       "0.005    0.851880\n",
       "0.025    1.008587\n",
       "0.165    1.256353\n",
       "0.250    1.330200\n",
       "0.500    1.499417\n",
       "0.750    1.667280\n",
       "0.835    1.744151\n",
       "0.975    1.985692\n",
       "0.995    2.136024\n",
       "dtype: float64"
      ]
     },
     "execution_count": 39,
     "metadata": {},
     "output_type": "execute_result"
    }
   ],
   "source": [
    "# \"true\" quantiles\n",
    "pd.Series(np.random.normal(1.5, 0.25, size=100000)).quantile(quantiles)"
   ]
  },
  {
   "cell_type": "markdown",
   "metadata": {},
   "source": [
    "**Result**: The toy dataset contains two simple distributions, with either $\\mu=0.75, \\sigma=0.13$ or $\\mu=1.5, \\sigma=0.25$, depending on whether it is a weekday or weekend. The observed 'demand' are samples distributed as such. For these simple distributions, the Pinball Loss is able to (approximately) retrieve the correct quantiles!"
   ]
  },
  {
   "cell_type": "code",
   "execution_count": null,
   "metadata": {},
   "outputs": [],
   "source": []
  }
 ],
 "metadata": {
  "kernelspec": {
   "display_name": "Python 3",
   "language": "python",
   "name": "python3"
  },
  "language_info": {
   "codemirror_mode": {
    "name": "ipython",
    "version": 3
   },
   "file_extension": ".py",
   "mimetype": "text/x-python",
   "name": "python",
   "nbconvert_exporter": "python",
   "pygments_lexer": "ipython3",
   "version": "3.7.7"
  },
  "widgets": {
   "application/vnd.jupyter.widget-state+json": {
    "state": {
     "01324b84642f4e1fafc49cf89f9ff391": {
      "model_module": "@jupyter-widgets/base",
      "model_module_version": "1.2.0",
      "model_name": "LayoutModel",
      "state": {
       "_model_module": "@jupyter-widgets/base",
       "_model_module_version": "1.2.0",
       "_model_name": "LayoutModel",
       "_view_count": null,
       "_view_module": "@jupyter-widgets/base",
       "_view_module_version": "1.2.0",
       "_view_name": "LayoutView",
       "align_content": null,
       "align_items": null,
       "align_self": null,
       "border": null,
       "bottom": null,
       "display": null,
       "flex": null,
       "flex_flow": null,
       "grid_area": null,
       "grid_auto_columns": null,
       "grid_auto_flow": null,
       "grid_auto_rows": null,
       "grid_column": null,
       "grid_gap": null,
       "grid_row": null,
       "grid_template_areas": null,
       "grid_template_columns": null,
       "grid_template_rows": null,
       "height": null,
       "justify_content": null,
       "justify_items": null,
       "left": null,
       "margin": null,
       "max_height": null,
       "max_width": null,
       "min_height": null,
       "min_width": null,
       "object_fit": null,
       "object_position": null,
       "order": null,
       "overflow": null,
       "overflow_x": null,
       "overflow_y": null,
       "padding": null,
       "right": null,
       "top": null,
       "visibility": null,
       "width": null
      }
     },
     "2573316ddee1409d897edfcfbd87e8ba": {
      "model_module": "@jupyter-widgets/base",
      "model_module_version": "1.2.0",
      "model_name": "LayoutModel",
      "state": {
       "_model_module": "@jupyter-widgets/base",
       "_model_module_version": "1.2.0",
       "_model_name": "LayoutModel",
       "_view_count": null,
       "_view_module": "@jupyter-widgets/base",
       "_view_module_version": "1.2.0",
       "_view_name": "LayoutView",
       "align_content": null,
       "align_items": null,
       "align_self": null,
       "border": null,
       "bottom": null,
       "display": null,
       "flex": null,
       "flex_flow": null,
       "grid_area": null,
       "grid_auto_columns": null,
       "grid_auto_flow": null,
       "grid_auto_rows": null,
       "grid_column": null,
       "grid_gap": null,
       "grid_row": null,
       "grid_template_areas": null,
       "grid_template_columns": null,
       "grid_template_rows": null,
       "height": null,
       "justify_content": null,
       "justify_items": null,
       "left": null,
       "margin": null,
       "max_height": null,
       "max_width": null,
       "min_height": null,
       "min_width": null,
       "object_fit": null,
       "object_position": null,
       "order": null,
       "overflow": null,
       "overflow_x": null,
       "overflow_y": null,
       "padding": null,
       "right": null,
       "top": null,
       "visibility": null,
       "width": null
      }
     },
     "5712bde02e284e70bc5e9c1d7367502a": {
      "model_module": "@jupyter-widgets/controls",
      "model_module_version": "1.5.0",
      "model_name": "HTMLModel",
      "state": {
       "_dom_classes": [],
       "_model_module": "@jupyter-widgets/controls",
       "_model_module_version": "1.5.0",
       "_model_name": "HTMLModel",
       "_view_count": null,
       "_view_module": "@jupyter-widgets/controls",
       "_view_module_version": "1.5.0",
       "_view_name": "HTMLView",
       "description": "",
       "description_tooltip": null,
       "layout": "IPY_MODEL_01324b84642f4e1fafc49cf89f9ff391",
       "placeholder": "​",
       "style": "IPY_MODEL_860311c3b0564afa891a4c6e24da2d3a",
       "value": " 42840/42840 [00:49&lt;00:00, 860.84it/s]"
      }
     },
     "5f64a626e4d342ccaa955ea1c68afacd": {
      "model_module": "@jupyter-widgets/base",
      "model_module_version": "1.2.0",
      "model_name": "LayoutModel",
      "state": {
       "_model_module": "@jupyter-widgets/base",
       "_model_module_version": "1.2.0",
       "_model_name": "LayoutModel",
       "_view_count": null,
       "_view_module": "@jupyter-widgets/base",
       "_view_module_version": "1.2.0",
       "_view_name": "LayoutView",
       "align_content": null,
       "align_items": null,
       "align_self": null,
       "border": null,
       "bottom": null,
       "display": null,
       "flex": null,
       "flex_flow": null,
       "grid_area": null,
       "grid_auto_columns": null,
       "grid_auto_flow": null,
       "grid_auto_rows": null,
       "grid_column": null,
       "grid_gap": null,
       "grid_row": null,
       "grid_template_areas": null,
       "grid_template_columns": null,
       "grid_template_rows": null,
       "height": null,
       "justify_content": null,
       "justify_items": null,
       "left": null,
       "margin": null,
       "max_height": null,
       "max_width": null,
       "min_height": null,
       "min_width": null,
       "object_fit": null,
       "object_position": null,
       "order": null,
       "overflow": null,
       "overflow_x": null,
       "overflow_y": null,
       "padding": null,
       "right": null,
       "top": null,
       "visibility": null,
       "width": null
      }
     },
     "6314c6fca7a845618625e72ac301f6a7": {
      "model_module": "@jupyter-widgets/controls",
      "model_module_version": "1.5.0",
      "model_name": "FloatProgressModel",
      "state": {
       "_dom_classes": [],
       "_model_module": "@jupyter-widgets/controls",
       "_model_module_version": "1.5.0",
       "_model_name": "FloatProgressModel",
       "_view_count": null,
       "_view_module": "@jupyter-widgets/controls",
       "_view_module_version": "1.5.0",
       "_view_name": "ProgressView",
       "bar_style": "success",
       "description": "100%",
       "description_tooltip": null,
       "layout": "IPY_MODEL_2573316ddee1409d897edfcfbd87e8ba",
       "max": 42840,
       "min": 0,
       "orientation": "horizontal",
       "style": "IPY_MODEL_7370a0011b714f6dbba43bf3f3725de8",
       "value": 42840
      }
     },
     "7370a0011b714f6dbba43bf3f3725de8": {
      "model_module": "@jupyter-widgets/controls",
      "model_module_version": "1.5.0",
      "model_name": "ProgressStyleModel",
      "state": {
       "_model_module": "@jupyter-widgets/controls",
       "_model_module_version": "1.5.0",
       "_model_name": "ProgressStyleModel",
       "_view_count": null,
       "_view_module": "@jupyter-widgets/base",
       "_view_module_version": "1.2.0",
       "_view_name": "StyleView",
       "bar_color": null,
       "description_width": "initial"
      }
     },
     "860311c3b0564afa891a4c6e24da2d3a": {
      "model_module": "@jupyter-widgets/controls",
      "model_module_version": "1.5.0",
      "model_name": "DescriptionStyleModel",
      "state": {
       "_model_module": "@jupyter-widgets/controls",
       "_model_module_version": "1.5.0",
       "_model_name": "DescriptionStyleModel",
       "_view_count": null,
       "_view_module": "@jupyter-widgets/base",
       "_view_module_version": "1.2.0",
       "_view_name": "StyleView",
       "description_width": ""
      }
     },
     "8c18e2818bf648e08be0bc8e855fcb3f": {
      "model_module": "@jupyter-widgets/controls",
      "model_module_version": "1.5.0",
      "model_name": "HBoxModel",
      "state": {
       "_dom_classes": [],
       "_model_module": "@jupyter-widgets/controls",
       "_model_module_version": "1.5.0",
       "_model_name": "HBoxModel",
       "_view_count": null,
       "_view_module": "@jupyter-widgets/controls",
       "_view_module_version": "1.5.0",
       "_view_name": "HBoxView",
       "box_style": "",
       "children": [
        "IPY_MODEL_6314c6fca7a845618625e72ac301f6a7",
        "IPY_MODEL_5712bde02e284e70bc5e9c1d7367502a"
       ],
       "layout": "IPY_MODEL_5f64a626e4d342ccaa955ea1c68afacd"
      }
     }
    },
    "version_major": 2,
    "version_minor": 0
   }
  }
 },
 "nbformat": 4,
 "nbformat_minor": 4
}
